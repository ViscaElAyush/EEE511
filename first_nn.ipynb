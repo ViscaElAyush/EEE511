{
 "cells": [
  {
   "cell_type": "markdown",
   "id": "bbf63091",
   "metadata": {},
   "source": [
    "Build a baseline model using the weather station data (this approach used all days in 2018 since the data was available).\n",
    "\n",
    "\n",
    "Then use the model to make predictions for the ENVI-met(micro-climate) data for that specific day and compare it to model predictions using weather station data also for the same day."
   ]
  },
  {
   "cell_type": "markdown",
   "id": "c4a67839",
   "metadata": {},
   "source": [
    "# 1. Import"
   ]
  },
  {
   "cell_type": "code",
   "execution_count": 1,
   "id": "8ff5f4a1",
   "metadata": {
    "scrolled": true
   },
   "outputs": [],
   "source": [
    "import pandas as pd\n",
    "# import seaborn as sns\n",
    "import numpy as np\n",
    "import pathlib\n",
    "import pickle\n",
    "import pathlib\n",
    "import matplotlib.pyplot as plt\n",
    "from matplotlib.pyplot import cm\n",
    "from datetime import datetime\n",
    "from sklearn import metrics\n",
    "import csv\n",
    "\n",
    "import PyQt5"
   ]
  },
  {
   "cell_type": "markdown",
   "id": "2323f8cd",
   "metadata": {},
   "source": [
    "# 2. Import Files"
   ]
  },
  {
   "cell_type": "markdown",
   "id": "35d68606",
   "metadata": {},
   "source": [
    "## 2.1 Save csv files as pickle"
   ]
  },
  {
   "cell_type": "markdown",
   "id": "a5d25376",
   "metadata": {},
   "source": [
    "Only run this once to save our csv data as pickle files"
   ]
  },
  {
   "cell_type": "code",
   "execution_count": 2,
   "id": "31c1e2a5",
   "metadata": {},
   "outputs": [],
   "source": [
    "# --> NO NEED TO RUN SAVED AS PICKLE FILES <--\n",
    "# WEATHER FILES ##\n",
    "\n",
    "# # AZ PHX Sky Harbor Data #\n",
    "AZW_15 = pd.read_csv(\"./Data/AZW_15.csv\")\n",
    "\n",
    "# # ENVIMET DATA #\n",
    "BPS = []\n",
    "Fname = []\n",
    "for path in pathlib.Path(\"./Data/BPS\").iterdir():\n",
    "    if path.is_file():\n",
    "        current_file = pd.read_csv(path)\n",
    "        BPS.append(current_file)\n",
    "        Fname.append(path.name.replace('.csv', ''))\n",
    "\n",
    "# # CAMPUS METABOLISM DATA #\n",
    "metabol14 = []\n",
    "for path in pathlib.Path('./Data/metabol14').iterdir():\n",
    "    if path.is_file():\n",
    "        current_file = pd.read_csv(path)\n",
    "        metabol14.append(current_file)\n",
    "\n",
    "# ## Drop last row of EnviMet Data\n",
    "for i in range(len(BPS)):\n",
    "    BPS[i] = BPS[i].drop(16)\n",
    "\n",
    "# ## Save files as pickle\n",
    "AZW_15.to_pickle(\"./Data/AZW_15.pkl\")\n",
    "\n",
    "with open('./Data/BPS.pkl', 'wb') as f:\n",
    "    pickle.dump(BPS, f)\n",
    "\n",
    "with open('./Data/Fname.pkl', 'wb') as f:\n",
    "    pickle.dump(Fname, f)\n",
    "\n",
    "with open('./Data/metabol14.pkl', 'wb') as f:\n",
    "    pickle.dump(metabol14, f)"
   ]
  },
  {
   "cell_type": "markdown",
   "id": "a9a53763",
   "metadata": {},
   "source": [
    "## 2.2 Reload Pickle"
   ]
  },
  {
   "cell_type": "code",
   "execution_count": 3,
   "id": "190085da",
   "metadata": {},
   "outputs": [],
   "source": [
    "# We will convert these to df depending on the building we choose\n",
    "# 2. Load 14 envimet bldgData (14 filtered buildings)\n",
    "with open('./Data/BPS.pkl', 'rb') as f:\n",
    "    envi14 = pickle.load(f)\n",
    "\n",
    "# 3. Load names of BPS files\n",
    "with open('./Data/Fname.pkl', 'rb') as f:\n",
    "    Fname = pickle.load(f)\n",
    "\n",
    "# 4. Load 14 campus metabolism building energy data\n",
    "with open('./Data/metabol14.pkl', 'rb') as f:\n",
    "    metabol14 = pickle.load(f)"
   ]
  },
  {
   "cell_type": "markdown",
   "id": "aeec8ad1",
   "metadata": {},
   "source": [
    "## 2.3 Choose building name to import"
   ]
  },
  {
   "cell_type": "code",
   "execution_count": 4,
   "id": "be23924b",
   "metadata": {},
   "outputs": [
    {
     "name": "stdout",
     "output_type": "stream",
     "text": [
      "Goldwater\n",
      "Best Hall\n",
      "COD North\n",
      "Bio Design Institute B\n",
      "University Club\n",
      "Engineering Research Ctr\n",
      "ISTB 2\n",
      "Interdisciplinary AB\n",
      "Health Services\n",
      "ISTB 5\n",
      "ISTB 1\n",
      "Lifescience A_B_D\n",
      "Bio Design Institute A\n",
      "ISTB 4\n",
      "Enter building name: ISTB 1\n"
     ]
    }
   ],
   "source": [
    "##Print Building Names ##\n",
    "for i in range(len(Fname)):\n",
    "    print(Fname[i])\n",
    "    \n",
    "bldname = input('Enter building name: ')\n",
    "\n",
    "for i in range(len(envi14)):\n",
    "    if bldname == Fname[i]:\n",
    "        # save \n",
    "        envi_bldg = envi14[i]\n",
    "\n",
    "if bldname not in Fname:\n",
    "    print(\"\\x1b[31m\\\"Please enter a valid name from the list above\\\"\\x1b[0m\")\n"
   ]
  },
  {
   "cell_type": "markdown",
   "id": "fef9bd09",
   "metadata": {},
   "source": [
    "## 2.4 Create Data Frame"
   ]
  },
  {
   "cell_type": "code",
   "execution_count": 17,
   "id": "0226c5bb",
   "metadata": {},
   "outputs": [
    {
     "name": "stdout",
     "output_type": "stream",
     "text": [
      "ISTB 1\n"
     ]
    }
   ],
   "source": [
    "class building:\n",
    "    \n",
    "    def __init__(self, bldgname):\n",
    "        self.bldgname = bldgname\n",
    "    \n",
    "    def campusmetabolism(self):\n",
    "        for i in range(len(metabol14)):\n",
    "            if metabol14[i]['bldgname'][0] == bldname:\n",
    "                cmp = metabol14[i]\n",
    "            elif (metabol14[i]['bldgname'][0] == 'ISTB-5'):\n",
    "                cmp = metabol14[i]\n",
    "        return cmp\n",
    "    \n",
    "    def envimet(self):\n",
    "        env = envi_bldg[['Date', 'Time', 'AirTempInFrontOfAllFacades_MEAN', 'RelativeAirHumidityInFrontOfAllFacades_MEAN',\n",
    "                     'WindSpeedInFrontOfAllFacades_MEAN']]\n",
    "        \n",
    "        env = env.rename(columns = {'AirTempInFrontOfAllFacades_MEAN':'Air Temp',\n",
    "                                    'RelativeAirHumidityInFrontOfAllFacades_MEAN':'Rel Humid',\n",
    "                                    'WindSpeedInFrontOfAllFacades_MEAN':'Wind Speed'})\n",
    "        return env\n",
    "\n",
    "\n",
    "Bldg = building(bldname)\n",
    "metabol = Bldg.campusmetabolism() # campus metabolism\n",
    "envimet = Bldg.envimet()          # envimet\n",
    "print(bldname)"
   ]
  },
  {
   "cell_type": "code",
   "execution_count": 18,
   "id": "9e41497a",
   "metadata": {},
   "outputs": [],
   "source": [
    "#read csv and convert to pkl, then read pkl below\n",
    "# AZW_15 = pd.read_csv(\"./Data/AZW_15.csv\")\n",
    "\n",
    "# DF for AZ Weather Data (15-min)\n",
    "weather_station = pd.read_pickle('./Data/AZW_15.pkl')\n",
    "\n"
   ]
  },
  {
   "cell_type": "markdown",
   "id": "61ba767f",
   "metadata": {},
   "source": [
    "# 3. Preprocessing"
   ]
  },
  {
   "cell_type": "markdown",
   "id": "f51a64b4",
   "metadata": {},
   "source": [
    "## 3.1 Formatting Date and Time"
   ]
  },
  {
   "cell_type": "markdown",
   "id": "e2db0cb1",
   "metadata": {},
   "source": [
    "### a) Envimet dates"
   ]
  },
  {
   "cell_type": "code",
   "execution_count": 19,
   "id": "df05ddeb",
   "metadata": {},
   "outputs": [
    {
     "name": "stdout",
     "output_type": "stream",
     "text": [
      "['Date', 'Time', 'Air Temp', 'Rel Humid', 'Wind Speed', 'Date_Time', 'Month']\n",
      "                 Month  Time   Air Temp  Rel Humid\n",
      "Date_Time                                         \n",
      "06/09/2018 05:00    06  0500  30.119833  12.204521\n",
      "06/09/2018 06:00    06  0600  28.439681  18.227189\n",
      "06/09/2018 07:00    06  0700  29.212967  19.053349\n",
      "06/09/2018 08:00    06  0800  31.196816  18.135058\n",
      "06/09/2018 09:00    06  0900  33.564851  15.471231\n",
      "06/09/2018 10:00    06  1000  35.369671  11.311710\n",
      "06/09/2018 11:00    06  1100  36.443335   9.063576\n",
      "06/09/2018 12:00    06  1200  37.508947   7.840227\n",
      "06/09/2018 13:00    06  1300  38.480960   7.009446\n",
      "06/09/2018 14:00    06  1400  39.180197   6.389399\n",
      "06/09/2018 15:00    06  1500  39.584199   6.057600\n",
      "06/09/2018 16:00    06  1600  39.794207   5.906971\n",
      "06/09/2018 17:00    06  1700  39.732764   5.871568\n",
      "06/09/2018 18:00    06  1800  39.456794   5.906116\n",
      "06/09/2018 19:00    06  1900  38.867983   6.210788\n",
      "06/09/2018 20:00    06  2000  38.055714   6.646973\n"
     ]
    },
    {
     "name": "stderr",
     "output_type": "stream",
     "text": [
      "/home/biswas/.local/lib/python3.7/site-packages/ipykernel_launcher.py:2: FutureWarning: The default value of regex will change from True to False in a future version. In addition, single character regular expressions will*not* be treated as literal strings when regex=True.\n",
      "  \n"
     ]
    }
   ],
   "source": [
    "# 1. format time\n",
    "envimet['Time'] = envimet['Time'].str.replace('.',':')\n",
    "envimet['Time'] = envimet['Time'].str.replace('01','00')\n",
    "\n",
    "# convert to 24 hour format\n",
    "envimet['Time'] = pd.to_datetime(envimet['Time']).dt.strftime('%H:%M')\n",
    "\n",
    "# 2. format date (still in string)\n",
    "envimet['Date'] = pd.to_datetime(envimet['Date']).dt.strftime('%m/%d/%Y')\n",
    "\n",
    "# 3. combine date time column as string and set as index\n",
    "envimet['Date_Time'] = envimet['Date'] + ' ' + envimet['Time']\n",
    "\n",
    "# 4. Get string type for month and time\n",
    "envimet['Month'] = envimet['Date_Time'].str[0:2]\n",
    "envimet['Time'] = envimet['Time'].str.replace(':','')\n",
    "\n",
    "# 5. Rearrange columns\n",
    "print(list(envimet.columns))\n",
    "envimet = envimet[['Date_Time','Month','Time', 'Air Temp', 'Rel Humid' ]]\n",
    "\n",
    "envimet = envimet.set_index('Date_Time')\n",
    "print(envimet)"
   ]
  },
  {
   "cell_type": "code",
   "execution_count": 20,
   "id": "5c1610fe",
   "metadata": {},
   "outputs": [],
   "source": [
    "# # 5. Get numeric for month hour and minute\n",
    "# microclimate.Date_Time = pd.to_datetime(microclimate.Date_Time)\n",
    "# microclimate['Month_num'] = microclimate.Date_Time.dt.month\n",
    "# microclimate['Hour_num'] = microclimate.Date_Time.dt.hour\n",
    "# microclimate['Minute_num'] = microclimate.Date_Time.dt.minute\n",
    "# microclimate.Date_Time = pd.to_datetime(microclimate.Date_Time).dt.strftime('%m/%d/%Y %H:%M')\n",
    "\n",
    "# # 6. Rearrange columns\n",
    "# print(list(microclimate.columns))\n",
    "# microclimate = microclimate[['Date_Time','Month','Time','Month_num', 'Hour_num', 'Minute_num', 'Air Temp', 'Rel Humid' ]]"
   ]
  },
  {
   "cell_type": "markdown",
   "id": "960b89e0",
   "metadata": {},
   "source": [
    "### b) Weather Station dates"
   ]
  },
  {
   "cell_type": "code",
   "execution_count": 21,
   "id": "8e7afa5d",
   "metadata": {},
   "outputs": [],
   "source": [
    "# 1. Get string type for month and time\n",
    "weather_station['Month'] = weather_station['Date_Time'].str[0:2]\n",
    "weather_station['Time'] = weather_station['Date_Time'].str[11:]\n",
    "weather_station['Time'] = weather_station['Time'].str.replace(':','')\n",
    "\n",
    "# 2. Get numeric for month hour and minute\n",
    "weather_station.Date_Time = pd.to_datetime(weather_station.Date_Time)\n",
    "weather_station['Month_num'] = weather_station.Date_Time.dt.month\n",
    "weather_station['Hour_num'] = weather_station.Date_Time.dt.hour\n",
    "weather_station['Minute_num'] = weather_station.Date_Time.dt.minute\n",
    "weather_station.Date_Time = pd.to_datetime(weather_station.Date_Time).dt.strftime('%m/%d/%Y %H:%M')\n",
    "\n",
    "# 3. set date time as index\n",
    "weather_station = weather_station.set_index('Date_Time') "
   ]
  },
  {
   "cell_type": "markdown",
   "id": "096d5fe6",
   "metadata": {},
   "source": [
    "### c) Building energy dates"
   ]
  },
  {
   "cell_type": "code",
   "execution_count": 22,
   "id": "c938e408",
   "metadata": {},
   "outputs": [
    {
     "name": "stdout",
     "output_type": "stream",
     "text": [
      "                      KW  CHWTON\n",
      "tstamp                          \n",
      "01/01/2018 00:00  185.10   21.02\n",
      "01/01/2018 00:15  188.49   17.12\n",
      "01/01/2018 00:30  185.19   16.60\n",
      "01/01/2018 00:45  184.06   14.99\n",
      "01/01/2018 01:00  187.10   15.77\n",
      "...                  ...     ...\n",
      "12/31/2018 22:45  172.90    8.11\n",
      "12/31/2018 23:00  172.37    7.37\n",
      "12/31/2018 23:15  169.94    7.55\n",
      "12/31/2018 23:30  172.74    8.11\n",
      "12/31/2018 23:45  173.24    6.93\n",
      "\n",
      "[35031 rows x 2 columns]\n"
     ]
    }
   ],
   "source": [
    "metabol.tstamp = pd.to_datetime(metabol.tstamp).dt.strftime('%m/%d/%Y %H:%M')\n",
    "\n",
    "# remove unwanted columns\n",
    "metabol = metabol[['tstamp','KW', 'CHWTON']]\n",
    "\n",
    "# set date time as index\n",
    "metabol = metabol.set_index('tstamp')\n",
    "print(metabol)"
   ]
  },
  {
   "cell_type": "markdown",
   "id": "79e54f14",
   "metadata": {},
   "source": [
    "## 3.2 Append Energy Consumption to Weather Station data"
   ]
  },
  {
   "cell_type": "code",
   "execution_count": 23,
   "id": "6e876d44",
   "metadata": {},
   "outputs": [],
   "source": [
    "weather_station =  pd.concat([metabol, weather_station], axis = 1, join = \"inner\")\n",
    "\n",
    "# rearrange column\n",
    "weather_station = weather_station[['Month','Time','Month_num', 'Hour_num', 'Minute_num', 'Air Temp', 'Rel Humid', 'KW','CHWTON' ]]\n",
    "\n",
    "# weather_station.to_csv('./Data/weather_st_numstr') # save data with string and numeric date format"
   ]
  },
  {
   "cell_type": "markdown",
   "id": "27743362",
   "metadata": {},
   "source": [
    "## 3.3 Append Energy Consumption to Microclimate Data"
   ]
  },
  {
   "cell_type": "code",
   "execution_count": 24,
   "id": "27dba083",
   "metadata": {},
   "outputs": [],
   "source": [
    "\n",
    "time = []\n",
    "time.append('0500')\n",
    "time.append('0600')\n",
    "time.append('0700')\n",
    "time.append('0800')\n",
    "time.append('0900')\n",
    "time.append('1000')\n",
    "time.append('1100')\n",
    "time.append('1200')\n",
    "time.append('1300')\n",
    "time.append('1400')\n",
    "time.append('1500')\n",
    "time.append('1600')\n",
    "time.append('1700')\n",
    "time.append('1800')\n",
    "time.append('1900')\n",
    "time.append('2000')\n",
    "\n",
    "month = []\n",
    "for i in range(16):\n",
    "    month.append('06')\n",
    "\n",
    "date = []\n",
    "date.append('06/09/2018 05:00')\n",
    "date.append('06/09/2018 06:00')\n",
    "date.append('06/09/2018 07:00')\n",
    "date.append('06/09/2018 08:00')\n",
    "date.append('06/09/2018 09:00')\n",
    "date.append('06/09/2018 10:00')\n",
    "date.append('06/09/2018 11:00')\n",
    "date.append('06/09/2018 12:00')\n",
    "date.append('06/09/2018 13:00')\n",
    "date.append('06/09/2018 14:00')\n",
    "date.append('06/09/2018 15:00')\n",
    "date.append('06/09/2018 16:00')\n",
    "date.append('06/09/2018 17:00')\n",
    "date.append('06/09/2018 18:00')\n",
    "date.append('06/09/2018 19:00')\n",
    "date.append('06/09/2018 20:00')\n",
    "Int_AB_CHWTON = []\n",
    "x = 15170\n",
    "for i in range(16):\n",
    "    Int_AB_CHWTON.append(metabol['CHWTON'][i + x])\n",
    "    x = x + 3\n",
    "Int_AB_KW = []\n",
    "x = 15170\n",
    "for i in range(16):\n",
    "    Int_AB_KW.append(metabol['KW'][i + x])\n",
    "    x = x + 3\n",
    "Int_AB_June_9 = pd.DataFrame()\n",
    "Int_AB_June_9['month'] = month\n",
    "Int_AB_June_9['time'] = time\n",
    "Int_AB_June_9['CHWTON'] = Int_AB_CHWTON\n",
    "Int_AB_June_9['KW'] = Int_AB_KW\n",
    "Int_AB_June_9['date'] = date\n",
    "Int_AB_June_9['Date_Time'] = Int_AB_June_9['date'] + ' ' + Int_AB_June_9['time']\n",
    "Int_AB_June_9 = Int_AB_June_9.set_index(['Date_Time'])\n",
    "# print(Int_AB_June_9)\n",
    "# Int_AB_June_9['CHWTON']\n",
    "# envimet = envimet[['Air Temp']]\n",
    "# Int_AB_June_9[['Air Temp']] = envimet\n",
    "# microclimate = pd.concat()\n",
    "Int_AB_June_9 = Int_AB_June_9[['CHWTON']]\n",
    "Int_AB_June_9 = Int_AB_June_9.set_index(envimet.index)\n",
    "envimet['CHWTON']= Int_AB_June_9"
   ]
  },
  {
   "cell_type": "code",
   "execution_count": 63,
   "id": "023b6ba6",
   "metadata": {},
   "outputs": [
    {
     "name": "stdout",
     "output_type": "stream",
     "text": [
      "(34620, 2)\n",
      "Model: \"sequential_8\"\n",
      "_________________________________________________________________\n",
      "Layer (type)                 Output Shape              Param #   \n",
      "=================================================================\n",
      "dense_24 (Dense)             (None, 12)                36        \n",
      "_________________________________________________________________\n",
      "dense_25 (Dense)             (None, 8)                 104       \n",
      "_________________________________________________________________\n",
      "dense_26 (Dense)             (None, 10)                90        \n",
      "_________________________________________________________________\n",
      "dense_27 (Dense)             (None, 1)                 11        \n",
      "=================================================================\n",
      "Total params: 241\n",
      "Trainable params: 241\n",
      "Non-trainable params: 0\n",
      "_________________________________________________________________\n",
      "Epoch 1/50\n",
      "174/174 [==============================] - 0s 989us/step - loss: 0.4452 - mse: 0.4452 - mae: 0.5170 - val_loss: 0.1009 - val_mse: 0.1009 - val_mae: 0.2414\n",
      "Epoch 2/50\n",
      "174/174 [==============================] - 0s 644us/step - loss: 0.0958 - mse: 0.0958 - mae: 0.2358 - val_loss: 0.0899 - val_mse: 0.0899 - val_mae: 0.2319\n",
      "Epoch 3/50\n",
      "174/174 [==============================] - 0s 645us/step - loss: 0.0907 - mse: 0.0907 - mae: 0.2314 - val_loss: 0.0876 - val_mse: 0.0876 - val_mae: 0.2285\n",
      "Epoch 4/50\n",
      "174/174 [==============================] - 0s 700us/step - loss: 0.0893 - mse: 0.0893 - mae: 0.2291 - val_loss: 0.0871 - val_mse: 0.0871 - val_mae: 0.2277\n",
      "Epoch 5/50\n",
      "174/174 [==============================] - 0s 644us/step - loss: 0.0887 - mse: 0.0887 - mae: 0.2277 - val_loss: 0.0867 - val_mse: 0.0867 - val_mae: 0.2261\n",
      "Epoch 6/50\n",
      "174/174 [==============================] - 0s 643us/step - loss: 0.0883 - mse: 0.0883 - mae: 0.2272 - val_loss: 0.0858 - val_mse: 0.0858 - val_mae: 0.2255\n",
      "Epoch 7/50\n",
      "174/174 [==============================] - 0s 636us/step - loss: 0.0879 - mse: 0.0879 - mae: 0.2270 - val_loss: 0.0861 - val_mse: 0.0861 - val_mae: 0.2250\n",
      "Epoch 8/50\n",
      "174/174 [==============================] - 0s 658us/step - loss: 0.0877 - mse: 0.0877 - mae: 0.2262 - val_loss: 0.0856 - val_mse: 0.0856 - val_mae: 0.2218\n",
      "Epoch 9/50\n",
      "174/174 [==============================] - 0s 663us/step - loss: 0.0879 - mse: 0.0879 - mae: 0.2265 - val_loss: 0.0857 - val_mse: 0.0857 - val_mae: 0.2244\n",
      "Epoch 10/50\n",
      "174/174 [==============================] - 0s 675us/step - loss: 0.0874 - mse: 0.0874 - mae: 0.2260 - val_loss: 0.0859 - val_mse: 0.0859 - val_mae: 0.2257\n",
      "Epoch 11/50\n",
      "174/174 [==============================] - 0s 682us/step - loss: 0.0874 - mse: 0.0874 - mae: 0.2259 - val_loss: 0.0856 - val_mse: 0.0856 - val_mae: 0.2230\n",
      "Epoch 12/50\n",
      "174/174 [==============================] - 0s 650us/step - loss: 0.0876 - mse: 0.0876 - mae: 0.2263 - val_loss: 0.0852 - val_mse: 0.0852 - val_mae: 0.2246\n",
      "Epoch 13/50\n",
      "174/174 [==============================] - 0s 650us/step - loss: 0.0874 - mse: 0.0874 - mae: 0.2261 - val_loss: 0.0851 - val_mse: 0.0851 - val_mae: 0.2220\n",
      "Epoch 14/50\n",
      "174/174 [==============================] - 0s 653us/step - loss: 0.0874 - mse: 0.0874 - mae: 0.2257 - val_loss: 0.0860 - val_mse: 0.0860 - val_mae: 0.2263\n",
      "Epoch 15/50\n",
      "174/174 [==============================] - 0s 721us/step - loss: 0.0876 - mse: 0.0876 - mae: 0.2261 - val_loss: 0.0850 - val_mse: 0.0850 - val_mae: 0.2243\n",
      "Epoch 16/50\n",
      "174/174 [==============================] - 0s 744us/step - loss: 0.0872 - mse: 0.0872 - mae: 0.2256 - val_loss: 0.0853 - val_mse: 0.0853 - val_mae: 0.2233\n",
      "Epoch 17/50\n",
      "174/174 [==============================] - 0s 677us/step - loss: 0.0871 - mse: 0.0871 - mae: 0.2254 - val_loss: 0.0860 - val_mse: 0.0860 - val_mae: 0.2270\n",
      "Epoch 18/50\n",
      "174/174 [==============================] - 0s 679us/step - loss: 0.0872 - mse: 0.0872 - mae: 0.2256 - val_loss: 0.0854 - val_mse: 0.0854 - val_mae: 0.2253\n",
      "Epoch 19/50\n",
      "174/174 [==============================] - 0s 664us/step - loss: 0.0871 - mse: 0.0871 - mae: 0.2254 - val_loss: 0.0855 - val_mse: 0.0855 - val_mae: 0.2237\n",
      "Epoch 20/50\n",
      "174/174 [==============================] - 0s 665us/step - loss: 0.0871 - mse: 0.0871 - mae: 0.2253 - val_loss: 0.0850 - val_mse: 0.0850 - val_mae: 0.2234\n",
      "Epoch 21/50\n",
      "174/174 [==============================] - 0s 662us/step - loss: 0.0873 - mse: 0.0873 - mae: 0.2260 - val_loss: 0.0855 - val_mse: 0.0855 - val_mae: 0.2247\n",
      "Epoch 22/50\n",
      "174/174 [==============================] - 0s 662us/step - loss: 0.0871 - mse: 0.0871 - mae: 0.2252 - val_loss: 0.0850 - val_mse: 0.0850 - val_mae: 0.2232\n",
      "Epoch 23/50\n",
      "174/174 [==============================] - 0s 640us/step - loss: 0.0871 - mse: 0.0871 - mae: 0.2253 - val_loss: 0.0846 - val_mse: 0.0846 - val_mae: 0.2219\n",
      "Epoch 24/50\n",
      "174/174 [==============================] - 0s 650us/step - loss: 0.0873 - mse: 0.0873 - mae: 0.2252 - val_loss: 0.0861 - val_mse: 0.0861 - val_mae: 0.2267\n",
      "Epoch 25/50\n",
      "174/174 [==============================] - 0s 655us/step - loss: 0.0873 - mse: 0.0873 - mae: 0.2259 - val_loss: 0.0850 - val_mse: 0.0850 - val_mae: 0.2222\n",
      "Epoch 26/50\n",
      "174/174 [==============================] - 0s 651us/step - loss: 0.0870 - mse: 0.0870 - mae: 0.2247 - val_loss: 0.0857 - val_mse: 0.0857 - val_mae: 0.2269\n",
      "Epoch 27/50\n",
      "174/174 [==============================] - 0s 639us/step - loss: 0.0872 - mse: 0.0872 - mae: 0.2254 - val_loss: 0.0847 - val_mse: 0.0847 - val_mae: 0.2233\n",
      "Epoch 28/50\n",
      "174/174 [==============================] - 0s 651us/step - loss: 0.0869 - mse: 0.0869 - mae: 0.2248 - val_loss: 0.0855 - val_mse: 0.0855 - val_mae: 0.2238\n",
      "Epoch 29/50\n",
      "174/174 [==============================] - 0s 648us/step - loss: 0.0871 - mse: 0.0871 - mae: 0.2253 - val_loss: 0.0847 - val_mse: 0.0847 - val_mae: 0.2230\n",
      "Epoch 30/50\n",
      "174/174 [==============================] - 0s 627us/step - loss: 0.0869 - mse: 0.0869 - mae: 0.2245 - val_loss: 0.0868 - val_mse: 0.0868 - val_mae: 0.2280\n",
      "Epoch 31/50\n",
      "174/174 [==============================] - 0s 634us/step - loss: 0.0870 - mse: 0.0870 - mae: 0.2252 - val_loss: 0.0845 - val_mse: 0.0845 - val_mae: 0.2230\n",
      "Epoch 32/50\n",
      "174/174 [==============================] - 0s 627us/step - loss: 0.0869 - mse: 0.0869 - mae: 0.2249 - val_loss: 0.0844 - val_mse: 0.0844 - val_mae: 0.2223\n",
      "Epoch 33/50\n",
      "174/174 [==============================] - 0s 639us/step - loss: 0.0867 - mse: 0.0867 - mae: 0.2245 - val_loss: 0.0849 - val_mse: 0.0849 - val_mae: 0.2237\n",
      "Epoch 34/50\n",
      "174/174 [==============================] - 0s 639us/step - loss: 0.0868 - mse: 0.0868 - mae: 0.2245 - val_loss: 0.0847 - val_mse: 0.0847 - val_mae: 0.2215\n",
      "Epoch 35/50\n",
      "174/174 [==============================] - 0s 638us/step - loss: 0.0867 - mse: 0.0867 - mae: 0.2242 - val_loss: 0.0848 - val_mse: 0.0848 - val_mae: 0.2214\n",
      "Epoch 36/50\n",
      "174/174 [==============================] - 0s 635us/step - loss: 0.0868 - mse: 0.0868 - mae: 0.2245 - val_loss: 0.0852 - val_mse: 0.0852 - val_mae: 0.2235\n",
      "Epoch 37/50\n",
      "174/174 [==============================] - 0s 632us/step - loss: 0.0867 - mse: 0.0867 - mae: 0.2242 - val_loss: 0.0844 - val_mse: 0.0844 - val_mae: 0.2202\n",
      "Epoch 38/50\n",
      "174/174 [==============================] - 0s 627us/step - loss: 0.0866 - mse: 0.0866 - mae: 0.2238 - val_loss: 0.0842 - val_mse: 0.0842 - val_mae: 0.2219\n",
      "Epoch 39/50\n",
      "174/174 [==============================] - 0s 666us/step - loss: 0.0865 - mse: 0.0865 - mae: 0.2233 - val_loss: 0.0839 - val_mse: 0.0839 - val_mae: 0.2214\n",
      "Epoch 40/50\n",
      "174/174 [==============================] - 0s 641us/step - loss: 0.0864 - mse: 0.0864 - mae: 0.2231 - val_loss: 0.0846 - val_mse: 0.0846 - val_mae: 0.2220\n",
      "Epoch 41/50\n",
      "174/174 [==============================] - 0s 643us/step - loss: 0.0863 - mse: 0.0863 - mae: 0.2233 - val_loss: 0.0856 - val_mse: 0.0856 - val_mae: 0.2234\n",
      "Epoch 42/50\n",
      "174/174 [==============================] - 0s 638us/step - loss: 0.0864 - mse: 0.0864 - mae: 0.2233 - val_loss: 0.0842 - val_mse: 0.0842 - val_mae: 0.2225\n",
      "Epoch 43/50\n",
      "174/174 [==============================] - 0s 640us/step - loss: 0.0864 - mse: 0.0864 - mae: 0.2234 - val_loss: 0.0839 - val_mse: 0.0839 - val_mae: 0.2210\n",
      "Epoch 44/50\n",
      "174/174 [==============================] - 0s 639us/step - loss: 0.0864 - mse: 0.0864 - mae: 0.2229 - val_loss: 0.0847 - val_mse: 0.0847 - val_mae: 0.2241\n"
     ]
    },
    {
     "name": "stdout",
     "output_type": "stream",
     "text": [
      "Epoch 45/50\n",
      "174/174 [==============================] - 0s 648us/step - loss: 0.0865 - mse: 0.0865 - mae: 0.2236 - val_loss: 0.0848 - val_mse: 0.0848 - val_mae: 0.2169\n",
      "Epoch 46/50\n",
      "174/174 [==============================] - 0s 639us/step - loss: 0.0864 - mse: 0.0864 - mae: 0.2231 - val_loss: 0.0839 - val_mse: 0.0839 - val_mae: 0.2183\n",
      "Epoch 47/50\n",
      "174/174 [==============================] - 0s 638us/step - loss: 0.0862 - mse: 0.0862 - mae: 0.2230 - val_loss: 0.0842 - val_mse: 0.0842 - val_mae: 0.2209\n",
      "Epoch 48/50\n",
      "174/174 [==============================] - 0s 661us/step - loss: 0.0865 - mse: 0.0865 - mae: 0.2231 - val_loss: 0.0842 - val_mse: 0.0842 - val_mae: 0.2230\n",
      "Epoch 49/50\n",
      "174/174 [==============================] - 0s 658us/step - loss: 0.0861 - mse: 0.0861 - mae: 0.2229 - val_loss: 0.0839 - val_mse: 0.0839 - val_mae: 0.2209\n",
      "Epoch 50/50\n",
      "174/174 [==============================] - 0s 655us/step - loss: 0.0863 - mse: 0.0863 - mae: 0.2228 - val_loss: 0.0842 - val_mse: 0.0842 - val_mae: 0.2226\n"
     ]
    }
   ],
   "source": [
    "#using single layer ANN. Model Parameters: hidden layer- 10 neurons, output layer- 1 neuron\n",
    "from tensorflow.python.keras.models import Sequential\n",
    "from tensorflow.python.keras.layers import Dense\n",
    "import tensorflow as tf\n",
    "from tensorflow import keras\n",
    "from tensorflow.keras.optimizers import SGD\n",
    "from sklearn.model_selection import train_test_split\n",
    "from sklearn.preprocessing import StandardScaler\n",
    "from tensorflow.keras import backend as K\n",
    "def prepare_data(dataset):\n",
    "    Y = dataset['CHWTON']\n",
    "    X = dataset[['Air Temp', 'Rel Humid']]\n",
    "    Y= Y.values.reshape(-1, 1)\n",
    "    # create scaler\n",
    "    scaler1 = StandardScaler()\n",
    "    X_scaled = scaler1.fit_transform(X)\n",
    "    print(X_scaled.shape)\n",
    "    # #do for output variables\n",
    "    scaler2 = StandardScaler()\n",
    "    Y_scaled = scaler2.fit_transform(Y)\n",
    "    X_scaled = np.asarray(X_scaled).astype('float32')\n",
    "    Y_scaled = np.asarray(Y_scaled).astype('float32')\n",
    "    return X_scaled,Y_scaled\n",
    "def define_model():\n",
    "    model = Sequential()\n",
    "    model.add(Dense(12, input_dim=2, kernel_initializer='normal', activation='relu'))\n",
    "    model.add(Dense(8, activation='relu'))\n",
    "    model.add(Dense(10, activation='relu'))\n",
    "    model.add(Dense(1, activation='linear'))\n",
    "    model.summary()\n",
    "    model.compile(loss='mse', optimizer='adam', metrics = ['mse','mae'])\n",
    "    return model\n",
    "def plot_curve(history):\n",
    "    plt.plot(history.history['loss'])\n",
    "    plt.plot(history.history['val_loss'])\n",
    "    plt.title('model loss')\n",
    "    plt.ylabel('loss')\n",
    "    plt.xlabel('epoch')\n",
    "    plt.legend(['train', 'validation'], loc='upper left')\n",
    "    plt.show()\n",
    "def evaluate(model,X,Y):\n",
    "    #evaluate on test dataset\n",
    "    Y_preds = model.predict(X)\n",
    "    RMSE = np.sqrt(metrics.mean_squared_error(Y, Y_preds))\n",
    "    test_loss = model.evaluate(X, Y)\n",
    "    return RMSE, test_loss\n",
    "\n",
    "X,Y = prepare_data(weather_station)\n",
    "X_train, X_test, Y_train,Y_test = train_test_split(X, Y, test_size=0.2, random_state=20)\n",
    "base_model = define_model()\n",
    "history = base_model.fit(X_train, Y_train, batch_size=128, epochs=50, verbose=1, validation_split=0.2)\n"
   ]
  },
  {
   "cell_type": "code",
   "execution_count": 64,
   "id": "eff03f75",
   "metadata": {},
   "outputs": [
    {
     "data": {
      "image/png": "[encoded data removed]",
      "text/plain": [
       "<Figure size 432x288 with 1 Axes>"
      ]
     },
     "metadata": {
      "needs_background": "light"
     },
     "output_type": "display_data"
    },
    {
     "name": "stdout",
     "output_type": "stream",
     "text": [
      "217/217 [==============================] - 0s 386us/step - loss: 0.0831 - mse: 0.0831 - mae: 0.2234\n",
      "1/1 [==============================] - 0s 921us/step - loss: 0.4653 - mse: 0.4653 - mae: 0.5746\n",
      "0.28834048\n",
      "0.6820992\n"
     ]
    }
   ],
   "source": [
    "plot_curve(history)\n",
    "RMSE, _ = evaluate(base_model, X_test, Y_test)\n",
    "RMSE_base, _ = evaluate(base_model, X_limited,Y_limited)\n",
    "print(RMSE)\n",
    "print(RMSE_base)"
   ]
  },
  {
   "cell_type": "code",
   "execution_count": 67,
   "id": "cf537f55",
   "metadata": {},
   "outputs": [
    {
     "name": "stdout",
     "output_type": "stream",
     "text": [
      "Number of layers in the base model:  4\n",
      "Model: \"sequential_8\"\n",
      "_________________________________________________________________\n",
      "Layer (type)                 Output Shape              Param #   \n",
      "=================================================================\n",
      "dense_24 (Dense)             (None, 12)                36        \n",
      "_________________________________________________________________\n",
      "dense_25 (Dense)             (None, 8)                 104       \n",
      "_________________________________________________________________\n",
      "dense_26 (Dense)             (None, 10)                90        \n",
      "_________________________________________________________________\n",
      "dense_27 (Dense)             (None, 1)                 11        \n",
      "=================================================================\n",
      "Total params: 241\n",
      "Trainable params: 205\n",
      "Non-trainable params: 36\n",
      "_________________________________________________________________\n",
      "(16, 2)\n",
      "Epoch 1/50\n",
      "1/1 [==============================] - 0s 757us/step - loss: 0.3919 - mse: 0.3919 - mae: 0.5261\n",
      "Epoch 2/50\n",
      "1/1 [==============================] - 0s 806us/step - loss: 0.3882 - mse: 0.3882 - mae: 0.5236\n",
      "Epoch 3/50\n",
      "1/1 [==============================] - 0s 633us/step - loss: 0.3846 - mse: 0.3846 - mae: 0.5211\n",
      "Epoch 4/50\n",
      "1/1 [==============================] - 0s 873us/step - loss: 0.3810 - mse: 0.3810 - mae: 0.5185\n",
      "Epoch 5/50\n",
      "1/1 [==============================] - 0s 742us/step - loss: 0.3775 - mse: 0.3775 - mae: 0.5160\n",
      "Epoch 6/50\n",
      "1/1 [==============================] - 0s 780us/step - loss: 0.3740 - mse: 0.3740 - mae: 0.5134\n",
      "Epoch 7/50\n",
      "1/1 [==============================] - 0s 946us/step - loss: 0.3706 - mse: 0.3706 - mae: 0.5108\n",
      "Epoch 8/50\n",
      "1/1 [==============================] - 0s 961us/step - loss: 0.3672 - mse: 0.3672 - mae: 0.5082\n",
      "Epoch 9/50\n",
      "1/1 [==============================] - 0s 988us/step - loss: 0.3639 - mse: 0.3639 - mae: 0.5056\n",
      "Epoch 10/50\n",
      "1/1 [==============================] - 0s 1ms/step - loss: 0.3604 - mse: 0.3604 - mae: 0.5028\n",
      "Epoch 11/50\n",
      "1/1 [==============================] - 0s 730us/step - loss: 0.3569 - mse: 0.3569 - mae: 0.5001\n",
      "Epoch 12/50\n",
      "1/1 [==============================] - 0s 1ms/step - loss: 0.3535 - mse: 0.3535 - mae: 0.4976\n",
      "Epoch 13/50\n",
      "1/1 [==============================] - 0s 844us/step - loss: 0.3504 - mse: 0.3504 - mae: 0.4952\n",
      "Epoch 14/50\n",
      "1/1 [==============================] - 0s 876us/step - loss: 0.3472 - mse: 0.3472 - mae: 0.4928\n",
      "Epoch 15/50\n",
      "1/1 [==============================] - 0s 1ms/step - loss: 0.3441 - mse: 0.3441 - mae: 0.4903\n",
      "Epoch 16/50\n",
      "1/1 [==============================] - 0s 1ms/step - loss: 0.3410 - mse: 0.3410 - mae: 0.4878\n",
      "Epoch 17/50\n",
      "1/1 [==============================] - 0s 925us/step - loss: 0.3381 - mse: 0.3381 - mae: 0.4855\n",
      "Epoch 18/50\n",
      "1/1 [==============================] - 0s 906us/step - loss: 0.3352 - mse: 0.3352 - mae: 0.4831\n",
      "Epoch 19/50\n",
      "1/1 [==============================] - 0s 4ms/step - loss: 0.3325 - mse: 0.3325 - mae: 0.4808\n",
      "Epoch 20/50\n",
      "1/1 [==============================] - 0s 1ms/step - loss: 0.3299 - mse: 0.3299 - mae: 0.4787\n",
      "Epoch 21/50\n",
      "1/1 [==============================] - 0s 901us/step - loss: 0.3273 - mse: 0.3273 - mae: 0.4765\n",
      "Epoch 22/50\n",
      "1/1 [==============================] - 0s 839us/step - loss: 0.3248 - mse: 0.3248 - mae: 0.4743\n",
      "Epoch 23/50\n",
      "1/1 [==============================] - 0s 1ms/step - loss: 0.3223 - mse: 0.3223 - mae: 0.4721\n",
      "Epoch 24/50\n",
      "1/1 [==============================] - 0s 991us/step - loss: 0.3198 - mse: 0.3198 - mae: 0.4700\n",
      "Epoch 25/50\n",
      "1/1 [==============================] - 0s 755us/step - loss: 0.3173 - mse: 0.3173 - mae: 0.4678\n",
      "Epoch 26/50\n",
      "1/1 [==============================] - 0s 1ms/step - loss: 0.3149 - mse: 0.3149 - mae: 0.4658\n",
      "Epoch 27/50\n",
      "1/1 [==============================] - 0s 830us/step - loss: 0.3125 - mse: 0.3125 - mae: 0.4638\n",
      "Epoch 28/50\n",
      "1/1 [==============================] - 0s 1ms/step - loss: 0.3102 - mse: 0.3102 - mae: 0.4619\n",
      "Epoch 29/50\n",
      "1/1 [==============================] - 0s 929us/step - loss: 0.3079 - mse: 0.3079 - mae: 0.4602\n",
      "Epoch 30/50\n",
      "1/1 [==============================] - 0s 831us/step - loss: 0.3056 - mse: 0.3056 - mae: 0.4585\n",
      "Epoch 31/50\n",
      "1/1 [==============================] - 0s 819us/step - loss: 0.3033 - mse: 0.3033 - mae: 0.4568\n",
      "Epoch 32/50\n",
      "1/1 [==============================] - 0s 794us/step - loss: 0.3011 - mse: 0.3011 - mae: 0.4550\n",
      "Epoch 33/50\n",
      "1/1 [==============================] - 0s 1ms/step - loss: 0.2989 - mse: 0.2989 - mae: 0.4533\n",
      "Epoch 34/50\n",
      "1/1 [==============================] - 0s 856us/step - loss: 0.2967 - mse: 0.2967 - mae: 0.4516\n",
      "Epoch 35/50\n",
      "1/1 [==============================] - 0s 765us/step - loss: 0.2946 - mse: 0.2946 - mae: 0.4499\n",
      "Epoch 36/50\n",
      "1/1 [==============================] - 0s 1ms/step - loss: 0.2924 - mse: 0.2924 - mae: 0.4481\n",
      "Epoch 37/50\n",
      "1/1 [==============================] - 0s 1ms/step - loss: 0.2903 - mse: 0.2903 - mae: 0.4464\n",
      "Epoch 38/50\n",
      "1/1 [==============================] - 0s 1ms/step - loss: 0.2883 - mse: 0.2883 - mae: 0.4447\n",
      "Epoch 39/50\n",
      "1/1 [==============================] - 0s 807us/step - loss: 0.2862 - mse: 0.2862 - mae: 0.4430\n",
      "Epoch 40/50\n",
      "1/1 [==============================] - 0s 1ms/step - loss: 0.2842 - mse: 0.2842 - mae: 0.4413\n",
      "Epoch 41/50\n",
      "1/1 [==============================] - 0s 944us/step - loss: 0.2822 - mse: 0.2822 - mae: 0.4396\n",
      "Epoch 42/50\n",
      "1/1 [==============================] - 0s 787us/step - loss: 0.2803 - mse: 0.2803 - mae: 0.4378\n",
      "Epoch 43/50\n",
      "1/1 [==============================] - 0s 740us/step - loss: 0.2783 - mse: 0.2783 - mae: 0.4361\n",
      "Epoch 44/50\n",
      "1/1 [==============================] - 0s 1ms/step - loss: 0.2764 - mse: 0.2764 - mae: 0.4344\n",
      "Epoch 45/50\n",
      "1/1 [==============================] - 0s 826us/step - loss: 0.2746 - mse: 0.2746 - mae: 0.4326\n",
      "Epoch 46/50\n",
      "1/1 [==============================] - 0s 798us/step - loss: 0.2729 - mse: 0.2729 - mae: 0.4310\n",
      "Epoch 47/50\n",
      "1/1 [==============================] - 0s 1ms/step - loss: 0.2714 - mse: 0.2714 - mae: 0.4295\n",
      "Epoch 48/50\n",
      "1/1 [==============================] - 0s 1ms/step - loss: 0.2700 - mse: 0.2700 - mae: 0.4281\n",
      "Epoch 49/50\n",
      "1/1 [==============================] - 0s 1ms/step - loss: 0.2685 - mse: 0.2685 - mae: 0.4266\n",
      "Epoch 50/50\n",
      "1/1 [==============================] - 0s 1ms/step - loss: 0.2671 - mse: 0.2671 - mae: 0.4252\n"
     ]
    }
   ],
   "source": [
    "def fine_tune(model):\n",
    "    model.trainable = True\n",
    "    print(\"Number of layers in the base model: \", len(base_model.layers))\n",
    "    # Fine-tune from this layer onwards\n",
    "    fine_tune_at = 1\n",
    "    # Freeze all the layers before the `fine_tune_at` layer\n",
    "    for layer in model.layers[:fine_tune_at]:\n",
    "      layer.trainable =  False\n",
    "    model.summary()\n",
    "    model.compile(loss='mse', optimizer='adam', metrics = ['mse','mae'])\n",
    "    return model\n",
    "fine_tuned_model = fine_tune(base_model)\n",
    "X_limited,Y_limited = prepare_data(envimet)\n",
    "history = fine_tuned_model.fit(X_limited,Y_limited, epochs=50, verbose=1)"
   ]
  },
  {
   "cell_type": "code",
   "execution_count": 68,
   "id": "e11abc6f",
   "metadata": {},
   "outputs": [
    {
     "name": "stdout",
     "output_type": "stream",
     "text": [
      "1/1 [==============================] - 0s 726us/step - loss: 0.2657 - mse: 0.2657 - mae: 0.4237\n",
      "0.51549023\n"
     ]
    }
   ],
   "source": [
    "RMSE_fine_tune ,_= evaluate(fine_tuned_model,X_limited,Y_limited)\n",
    "print(RMSE_fine_tune)"
   ]
  },
  {
   "cell_type": "code",
   "execution_count": null,
   "id": "f3ca3e2f",
   "metadata": {},
   "outputs": [],
   "source": []
  }
 ],
 "metadata": {
  "kernelspec": {
   "display_name": "Python 3 (ipykernel)",
   "language": "python",
   "name": "python3"
  },
  "language_info": {
   "codemirror_mode": {
    "name": "ipython",
    "version": 3
   },
   "file_extension": ".py",
   "mimetype": "text/x-python",
   "name": "python",
   "nbconvert_exporter": "python",
   "pygments_lexer": "ipython3",
   "version": "3.7.5"
  },
  "toc-autonumbering": false,
  "toc-showcode": false,
  "toc-showmarkdowntxt": false,
  "toc-showtags": false
 },
 "nbformat": 4,
 "nbformat_minor": 5
}
