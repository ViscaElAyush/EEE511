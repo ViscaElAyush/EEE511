{
 "cells": [
  {
   "cell_type": "markdown",
   "id": "GbYatkXx32YB",
   "metadata": {
    "id": "GbYatkXx32YB"
   },
   "source": [
    "1. Plotting actual vs predicted using all data (fit NN to all data first)"
   ]
  },
  {
   "cell_type": "code",
   "execution_count": 105,
   "id": "42XOyHVcYB-9",
   "metadata": {
    "colab": {
     "base_uri": "https://localhost:8080/"
    },
    "id": "42XOyHVcYB-9",
    "outputId": "038d87d9-ebff-415b-a4b3-fa30b0ffcd2d"
   },
   "outputs": [
    {
     "name": "stdout",
     "output_type": "stream",
     "text": [
      "(7668, 12)\n",
      "(11, 7668)\n",
      "(1921, 12)\n"
     ]
    }
   ],
   "source": [
    "# Function to split same percent for each unique data in df column\n",
    "def split_unique(dataset, column, test_size):\n",
    "  X_train2 = pd.DataFrame()\n",
    "  X_test2 = pd.DataFrame()\n",
    "  y_train2 = pd.DataFrame()\n",
    "  y_test2 = pd.DataFrame()\n",
    "  for i,C in enumerate(dataset[column].unique()):\n",
    "    X = dataset[dataset[column] == C][['bldgname',\n",
    "                                    'Air Temp', \n",
    "                                    'Abs Hum',\n",
    "                                    'DSW Top', \n",
    "                                    'DSW North', \n",
    "                                    'DSW South', \n",
    "                                    'DSW East', \n",
    "                                    'DSW West', \n",
    "                                    'Shade North', \n",
    "                                    'Shade East', \n",
    "                                    'Shade West',\n",
    "                                    'Shade South']]\n",
    "    y = dataset[dataset[column] == C]['CHWTON/SQFT']\n",
    "    X_train, X_test, y_train, y_test = train_test_split(X, y, test_size=test_size, random_state=20)\n",
    "    X_train2 = X_train2.append(X_train)\n",
    "    X_test2 = X_test2.append(X_test)\n",
    "    y_train2 = y_train2.append(y_train)\n",
    "    y_test2 = y_test2.append(y_test)\n",
    "  return X_train2, X_test2, y_train2, y_test2\n",
    "\n",
    "# Split microclimate data 20% from each building for testing\n",
    "X_train2, X_test2, y_train2, y_test2 = split_unique(MicroclimateData, 'bldgname', 0.2)\n",
    "print(X_train2.shape)\n",
    "print(y_train2.shape)\n",
    "print(X_test2.shape)\n",
    "\n",
    "# Check number of points in each building\n",
    "# Note: Biodesign C has less data than all other buildings in original data\n",
    "# for i,C in enumerate(MicroclimateData['bldgname'].unique()):\n",
    "#   print(C, \":\", len(MicroclimateData[MicroclimateData['bldgname']==C]))"
   ]
  },
  {
   "cell_type": "markdown",
   "id": "f1539d50",
   "metadata": {
    "id": "f1539d50"
   },
   "source": [
    "## Flow of Code:\n",
    "#### 1. Read both datasets, and do data preparation: Scaling, One-hot Encoding\n",
    "#### 2. For limited data, train  model on Temp, Hum, Dsw(4), Shade(4), Encoding input features (find hyperparameters analytically)\n",
    "#### 3. For big data, train model on Temp, Hum, Encoding \n",
    "#### 4. Fine tune weather station model on microclimate data and compare performance\n",
    "#### 5. Work on adding artificial features and dropout on microclimate model"
   ]
  },
  {
   "cell_type": "code",
   "execution_count": 110,
   "id": "c914ba15",
   "metadata": {
    "colab": {
     "base_uri": "https://localhost:8080/",
     "height": 35
    },
    "id": "c914ba15",
    "outputId": "fa92805e-5721-42eb-c2e3-5509e922f511"
   },
   "outputs": [
    {
     "data": {
      "text/plain": [
       "'2.4.0'"
      ]
     },
     "execution_count": 110,
     "metadata": {},
     "output_type": "execute_result"
    }
   ],
   "source": [
    "# Load the TensorBoard notebook extension.\n",
    "\n",
    "%reload_ext tensorboard\n",
    "from tensorflow.python.keras.models import Sequential\n",
    "from tensorflow.python.keras.layers import Dense\n",
    "from tensorflow.keras import initializers\n",
    "import tensorflow as tf\n",
    "from tensorflow import keras\n",
    "from tensorflow.keras.layers import LeakyReLU\n",
    "from tensorflow.keras.optimizers import SGD\n",
    "from tensorflow.keras.layers import Dropout\n",
    "from sklearn.model_selection import train_test_split\n",
    "from sklearn.preprocessing import StandardScaler\n",
    "from sklearn import metrics\n",
    "from tensorflow.keras import backend as K\n",
    "from sklearn.preprocessing import OneHotEncoder\n",
    "from sklearn.model_selection import train_test_split\n",
    "import pandas as pd\n",
    "import numpy as np\n",
    "import pathlib\n",
    "import pickle\n",
    "import pathlib\n",
    "import matplotlib.pyplot as plt\n",
    "from matplotlib.pyplot import cm\n",
    "from datetime import datetime\n",
    "import seaborn as sns\n",
    "import tensorboard\n",
    "tensorboard.__version__"
   ]
  },
  {
   "cell_type": "code",
   "execution_count": 121,
   "id": "f803fbe1",
   "metadata": {
    "id": "f803fbe1"
   },
   "outputs": [],
   "source": [
    "class NeuralNetwork():\n",
    "    def __init__(self,activation_type, hidden_layers, loss, kernel_initializer, bias_initializer, data_type,epochs):\n",
    "        self.activation_type = activation_type\n",
    "        self.hidden_layers = hidden_layers\n",
    "        self.loss = loss\n",
    "        self.kernel_initializer = kernel_initializer\n",
    "        self.bias_initializer = bias_initializer \n",
    "        self.data_type = data_type\n",
    "        self.epochs = epochs\n",
    "\n",
    "    def huber_loss(y_true, y_pred, clip_delta=1.0):\n",
    "        error = y_true - y_pred\n",
    "        cond  = tf.keras.backend.abs(error) < clip_delta\n",
    "        squared_loss = 0.5 * tf.keras.backend.square(error)\n",
    "        linear_loss  = clip_delta * (tf.keras.backend.abs(error) - 0.5 * clip_delta)\n",
    "        return tf.where(cond, squared_loss, linear_loss)\n",
    "        \n",
    "    def huber_loss_mean(y_true, y_pred, clip_delta=1.0):\n",
    "        return tf.keras.backend.mean(huber_loss(y_true, y_pred, clip_delta))\n",
    "    # Function to split same percent for each unique data in df column\n",
    "    def split_unique(dataset, column, data_columns, test_size):\n",
    "        X_train2 = pd.DataFrame()\n",
    "        X_test2 = pd.DataFrame()\n",
    "        y_train2 = pd.DataFrame()\n",
    "        y_test2 = pd.DataFrame()\n",
    "        for i,C in enumerate(dataset[column].unique()):\n",
    "            X = dataset[dataset[column] == C][data_columns]\n",
    "            y = dataset[dataset[column] == C]['CHWTON/SQFT']\n",
    "            X_train, X_test, y_train, y_test = train_test_split(X, y, test_size=test_size, random_state=20)\n",
    "            X_train2 = X_train2.append(X_train)\n",
    "            X_test2 = X_test2.append(X_test)\n",
    "            y_train2 = y_train2.append(y_train)\n",
    "            y_test2 = y_test2.append(y_test)\n",
    "        return X_train2, X_test2, y_train2, y_test2\n",
    "        \n",
    "    def prepare_data(self, dataset, func):        \n",
    "        #add artificial features\n",
    "        dataset['Air Temp Squared'] =  dataset['Air Temp']**2\n",
    "        dataset['Abs Hum Squared'] =  dataset['Abs Hum']**2\n",
    "        dataset['Air Temp*Abs Hum'] =  dataset['Air Temp']* dataset['Abs Hum']\n",
    "        MicroclimateData['Air Temp Squared'] =  MicroclimateData['Air Temp']**2\n",
    "        MicroclimateData['Abs Hum Squared'] =  MicroclimateData['Abs Hum']**2\n",
    "        MicroclimateData['Air Temp*Abs Hum'] =  MicroclimateData['Air Temp']* MicroclimateData['Abs Hum']\n",
    "        if self.data_type == 'WeatherStation'  and (func == 'test' or func == 'train'):\n",
    "            X = dataset[['bldgname',\n",
    "                        'Air Temp', \n",
    "                        'Abs Hum',\n",
    "                        'Air Temp Squared',\n",
    "                        'Abs Hum Squared',\n",
    "                        'Air Temp*Abs Hum']]\n",
    "            columns = ['Air Temp', 'Abs Hum',\n",
    "                       'Air Temp Squared',\n",
    "                        'Abs Hum Squared',\n",
    "                        'Air Temp*Abs Hum']\n",
    "            Y = dataset['CHWTON/SQFT']\n",
    "        if self.data_type == 'Microclimate' and func == 'train':\n",
    "            X = MicroclimateData[['bldgname',\n",
    "                                  'Air Temp', \n",
    "                                  'Abs Hum',\n",
    "                                  'Air Temp Squared',\n",
    "                                  'Abs Hum Squared',\n",
    "                                  'Air Temp*Abs Hum',\n",
    "                                  'DSW Top', \n",
    "                                  'DSW North', \n",
    "                                  'DSW South', \n",
    "                                  'DSW East', \n",
    "                                  'DSW West', \n",
    "                                  'Shade North', \n",
    "                                  'Shade East', \n",
    "                                  'Shade West',\n",
    "                                  'Shade South']]\n",
    "            columns = ['Air Temp', 'Abs Hum', 'Air Temp Squared',\n",
    "                        'Abs Hum Squared', 'Air Temp*Abs Hum', 'DSW Top',\n",
    "                       'DSW North', 'DSW South', 'DSW East','DSW West',\n",
    "                       'Shade North', 'Shade East', 'Shade West', 'Shade South',]\n",
    "            Y = MicroclimateData['CHWTON/SQFT']\n",
    "        if self.data_type == 'Microclimate' and func == 'test':\n",
    "            X = MicroclimateData[['bldgname',\n",
    "                        'Air Temp', \n",
    "                        'Abs Hum',\n",
    "                        'Air Temp Squared',\n",
    "                        'Abs Hum Squared',\n",
    "                        'Air Temp*Abs Hum']]\n",
    "            columns = ['Air Temp', 'Abs Hum',\n",
    "                       'Air Temp Squared',\n",
    "                        'Abs Hum Squared',\n",
    "                        'Air Temp*Abs Hum']\n",
    "            Y = MicroclimateData['CHWTON/SQFT']\n",
    "        Y = Y.values.reshape(-1, 1)\n",
    "        StdSc1 = StandardScaler()\n",
    "        Y = StdSc1.fit_transform(Y)\n",
    "        X = pd.get_dummies(X)\n",
    "        StdSc2 = StandardScaler()\n",
    "        X[columns] = StdSc2.fit_transform(X[columns])\n",
    "#         X_train, X_test, y_train, y_test = self.split_unique(X, 'bldgname', columns, 0.2)\n",
    "        X_train, X_test, y_train, y_test = train_test_split(X, Y, \n",
    "                                                            test_size=0.2, \n",
    "                                                            random_state=20)\n",
    "        return X_train, X_test, y_train, y_test\n",
    "    def define_model(self):\n",
    "        if self.data_type == 'WeatherStation' :\n",
    "            model = Sequential()\n",
    "            if self.activation_type == 'leaky_relu':\n",
    "                model.add(Dense(20, \n",
    "                                input_dim=16, \n",
    "                                kernel_initializer=self.kernel_initializer, \n",
    "                                bias_initializer=self.bias_initializer, \n",
    "                                activation= self.activation_type))\n",
    "                for i in range(0,(self.hidden_layers-2)):\n",
    "                    model.add(Dense(30, activation = self.activation_type))\n",
    "                model.add(Dense(50, activation = self.activation_type))\n",
    "                model.add(Dropout(0.2))\n",
    "                model.add(Dense(1, activation = 'linear'))\n",
    "            else:\n",
    "                model.add(Dense(30, \n",
    "                                input_dim=16, \n",
    "                                kernel_initializer=self.kernel_initializer, \n",
    "                                bias_initializer=self.bias_initializer, \n",
    "                                activation= self.activation_type))\n",
    "                for i in range(0,(self.hidden_layers-2)):\n",
    "                    model.add(Dense(40, activation = self.activation_type))\n",
    "                model.add(Dense(50, activation = self.activation_type))\n",
    "                model.add(Dropout(0.2))\n",
    "                model.add(Dense(1, activation = 'linear'))           \n",
    "        if self.data_type == 'Microclimate':\n",
    "            model = Sequential()\n",
    "            if self.activation_type == 'leaky_relu':\n",
    "                model.add(Dense(30, \n",
    "                                input_dim=25, \n",
    "                                kernel_initializer=self.kernel_initializer, \n",
    "                                bias_initializer=self.bias_initializer, \n",
    "                                activation= self.activation_type))\n",
    "                for i in range(0,(self.hidden_layers-2)):\n",
    "                    model.add(Dense(40, activation = self.activation_type))\n",
    "                model.add(Dense(50, activation = self.activation_type))\n",
    "                model.add(Dropout(0.2))\n",
    "                model.add(Dense(1, activation = 'linear'))\n",
    "            else:\n",
    "                model.add(Dense(30, \n",
    "                                input_dim=25, \n",
    "                                kernel_initializer=self.kernel_initializer, \n",
    "                                bias_initializer=self.bias_initializer, \n",
    "                                activation= self.activation_type))\n",
    "                for i in range(0,(self.hidden_layers-2)):\n",
    "                    model.add(Dense(40, activation = self.activation_type))\n",
    "                model.add(Dense(50, activation = self.activation_type))\n",
    "                model.add(Dropout(0.2))\n",
    "                model.add(Dense(1, activation = 'linear'))\n",
    "        model.compile( loss = self.loss, \n",
    "                      optimizer = 'adam')\n",
    "        model.summary()\n",
    "        return model\n",
    "    def train(self, dataset):\n",
    "        X_train, X_test, y_train, y_test = self.prepare_data(dataset,'train')\n",
    "        self.model = self.define_model()\n",
    "        # Define the Keras TensorBoard callback.\n",
    "        logdir=\"logs/fit/\" + datetime.now().strftime(\"%Y%m%d-%H%M%S\")\n",
    "        tensorboard_callback = keras.callbacks.TensorBoard(log_dir=logdir)\n",
    "        self.history = self.model.fit(X_train,y_train, \n",
    "                            batch_size=128, \n",
    "                            epochs=self.epochs, \n",
    "                            verbose=0, \n",
    "                            validation_split=0.2, \n",
    "                            callbacks=[tensorboard_callback])\n",
    "    def fine_tune(self, dataset):\n",
    "        self.model.trainable = True\n",
    "        fine_tune_at = 2\n",
    "        for layer in self.model.layers[:fine_tune_at]:\n",
    "            layer.trainable =  False\n",
    "        self.model.compile(loss=self.loss, \n",
    "                           optimizer='adam')\n",
    "        X_train, X_test, y_train, y_test = self.prepare_data(dataset,'test')\n",
    "        # Define the Keras TensorBoard callback.\n",
    "        logdir=\"logs/fit/\" + datetime.now().strftime(\"%Y%m%d-%H%M%S\")\n",
    "        tensorboard_callback = keras.callbacks.TensorBoard(log_dir=logdir)\n",
    "        self.history = self.model.fit(X_train,y_train, \n",
    "                            batch_size=128, \n",
    "                            epochs=self.epochs, \n",
    "                            verbose=0, \n",
    "                            validation_split=0.2, \n",
    "                            callbacks=[tensorboard_callback])\n",
    "        \n",
    "        \n",
    "    def plot_curve(self):\n",
    "        plt.plot(self.history.history['loss'])\n",
    "        plt.plot(self.history.history['val_loss'])\n",
    "        plt.title('model loss')\n",
    "        plt.ylabel('loss')\n",
    "        plt.xlabel('epoch')\n",
    "        plt.legend(['train', 'validation'], loc='upper left')\n",
    "        plt.show()\n",
    "    def evaluate(self, dataset, data_type ):\n",
    "        call_type = 'test'\n",
    "        if data_type == self.data_type:\n",
    "            call_type = 'train'\n",
    "        _, X_test, _, y_test = self.prepare_data(dataset,call_type)\n",
    "        Y_preds = self.model.predict(X_test)\n",
    "        RMSE = np.sqrt(metrics.mean_squared_error(y_test, Y_preds))\n",
    "        R2_score = metrics.r2_score(y_test, Y_preds)\n",
    "        print(\"The RMSE score for test dataset of \"+ data_type +\" on model type:\" + self.data_type + \" model \" +\" is:\", RMSE) \n",
    "        print(\"The R2 score for test dataset of \"+ data_type +\" on model type:\" + self.data_type + \" model \" +\" is:\", R2_score)\n",
    "        return Y_preds, y_test, X_test "
   ]
  },
  {
   "cell_type": "code",
   "execution_count": 122,
   "id": "c9b62c44",
   "metadata": {
    "colab": {
     "base_uri": "https://localhost:8080/"
    },
    "id": "c9b62c44",
    "outputId": "aab586f5-2e2c-481f-ece2-f35d15699f2b"
   },
   "outputs": [
    {
     "name": "stdout",
     "output_type": "stream",
     "text": [
      "Model: \"sequential_36\"\n",
      "_________________________________________________________________\n",
      "Layer (type)                 Output Shape              Param #   \n",
      "=================================================================\n",
      "dense_180 (Dense)            (None, 30)                780       \n",
      "_________________________________________________________________\n",
      "dense_181 (Dense)            (None, 40)                1240      \n",
      "_________________________________________________________________\n",
      "dense_182 (Dense)            (None, 40)                1640      \n",
      "_________________________________________________________________\n",
      "dense_183 (Dense)            (None, 50)                2050      \n",
      "_________________________________________________________________\n",
      "dropout_34 (Dropout)         (None, 50)                0         \n",
      "_________________________________________________________________\n",
      "dense_184 (Dense)            (None, 1)                 51        \n",
      "=================================================================\n",
      "Total params: 5,761\n",
      "Trainable params: 5,761\n",
      "Non-trainable params: 0\n",
      "_________________________________________________________________\n"
     ]
    },
    {
     "name": "stderr",
     "output_type": "stream",
     "text": [
      "2021-11-04 05:51:19.878370: I tensorflow/core/profiler/lib/profiler_session.cc:164] Profiler session started.\n",
      "2021-11-04 05:51:19.878409: E tensorflow/core/profiler/internal/gpu/cupti_tracer.cc:1441] function cupti_interface_->Subscribe( &subscriber_, (CUpti_CallbackFunc)ApiCallback, this)failed with error CUPTI could not be loaded or symbol could not be found.\n"
     ]
    },
    {
     "name": "stdout",
     "output_type": "stream",
     "text": [
      "WARNING:tensorflow:Callbacks method `on_train_batch_end` is slow compared to the batch time (batch time: 0.0010s vs `on_train_batch_end` time: 0.0233s). Check your callbacks.\n"
     ]
    },
    {
     "name": "stderr",
     "output_type": "stream",
     "text": [
      "2021-11-04 05:51:20.292303: I tensorflow/core/profiler/lib/profiler_session.cc:164] Profiler session started.\n",
      "2021-11-04 05:51:20.292382: E tensorflow/core/profiler/internal/gpu/cupti_tracer.cc:1441] function cupti_interface_->Subscribe( &subscriber_, (CUpti_CallbackFunc)ApiCallback, this)failed with error CUPTI could not be loaded or symbol could not be found.\n",
      "2021-11-04 05:51:20.313557: I tensorflow/core/profiler/internal/gpu/device_tracer.cc:223]  GpuTracer has collected 0 callback api events and 0 activity events. \n",
      "2021-11-04 05:51:20.314842: I tensorflow/core/profiler/rpc/client/save_profile.cc:176] Creating directory: logs/fit/20211104-055119/train/plugins/profile/2021_11_04_05_51_20\n",
      "2021-11-04 05:51:20.315488: I tensorflow/core/profiler/rpc/client/save_profile.cc:182] Dumped gzipped tool data for trace.json.gz to logs/fit/20211104-055119/train/plugins/profile/2021_11_04_05_51_20/biswas.trace.json.gz\n",
      "2021-11-04 05:51:20.316281: I tensorflow/core/profiler/rpc/client/save_profile.cc:176] Creating directory: logs/fit/20211104-055119/train/plugins/profile/2021_11_04_05_51_20\n",
      "2021-11-04 05:51:20.316329: I tensorflow/core/profiler/rpc/client/save_profile.cc:182] Dumped gzipped tool data for memory_profile.json.gz to logs/fit/20211104-055119/train/plugins/profile/2021_11_04_05_51_20/biswas.memory_profile.json.gz\n",
      "2021-11-04 05:51:20.316475: I tensorflow/python/profiler/internal/profiler_wrapper.cc:111] Creating directory: logs/fit/20211104-055119/train/plugins/profile/2021_11_04_05_51_20Dumped tool data for xplane.pb to logs/fit/20211104-055119/train/plugins/profile/2021_11_04_05_51_20/biswas.xplane.pb\n",
      "Dumped tool data for overview_page.pb to logs/fit/20211104-055119/train/plugins/profile/2021_11_04_05_51_20/biswas.overview_page.pb\n",
      "Dumped tool data for input_pipeline.pb to logs/fit/20211104-055119/train/plugins/profile/2021_11_04_05_51_20/biswas.input_pipeline.pb\n",
      "Dumped tool data for tensorflow_stats.pb to logs/fit/20211104-055119/train/plugins/profile/2021_11_04_05_51_20/biswas.tensorflow_stats.pb\n",
      "Dumped tool data for kernel_stats.pb to logs/fit/20211104-055119/train/plugins/profile/2021_11_04_05_51_20/biswas.kernel_stats.pb\n",
      "\n"
     ]
    },
    {
     "name": "stdout",
     "output_type": "stream",
     "text": [
      "The RMSE score for test dataset of Microclimate on model type:Microclimate model  is: 0.13663501396400898\n",
      "The R2 score for test dataset of Microclimate on model type:Microclimate model  is: 0.9807330794331149\n",
      "Model: \"sequential_37\"\n",
      "_________________________________________________________________\n",
      "Layer (type)                 Output Shape              Param #   \n",
      "=================================================================\n",
      "dense_185 (Dense)            (None, 30)                510       \n",
      "_________________________________________________________________\n",
      "dense_186 (Dense)            (None, 40)                1240      \n",
      "_________________________________________________________________\n",
      "dense_187 (Dense)            (None, 40)                1640      \n",
      "_________________________________________________________________\n",
      "dense_188 (Dense)            (None, 50)                2050      \n",
      "_________________________________________________________________\n",
      "dropout_35 (Dropout)         (None, 50)                0         \n",
      "_________________________________________________________________\n",
      "dense_189 (Dense)            (None, 1)                 51        \n",
      "=================================================================\n",
      "Total params: 5,491\n",
      "Trainable params: 5,491\n",
      "Non-trainable params: 0\n",
      "_________________________________________________________________\n"
     ]
    },
    {
     "name": "stderr",
     "output_type": "stream",
     "text": [
      "2021-11-04 05:51:33.067997: I tensorflow/core/profiler/lib/profiler_session.cc:164] Profiler session started.\n",
      "2021-11-04 05:51:33.068044: E tensorflow/core/profiler/internal/gpu/cupti_tracer.cc:1441] function cupti_interface_->Subscribe( &subscriber_, (CUpti_CallbackFunc)ApiCallback, this)failed with error CUPTI could not be loaded or symbol could not be found.\n"
     ]
    },
    {
     "name": "stdout",
     "output_type": "stream",
     "text": [
      "WARNING:tensorflow:Callbacks method `on_train_batch_end` is slow compared to the batch time (batch time: 0.0014s vs `on_train_batch_end` time: 0.0290s). Check your callbacks.\n"
     ]
    },
    {
     "name": "stderr",
     "output_type": "stream",
     "text": [
      "2021-11-04 05:51:33.535867: I tensorflow/core/profiler/lib/profiler_session.cc:164] Profiler session started.\n",
      "2021-11-04 05:51:33.535924: E tensorflow/core/profiler/internal/gpu/cupti_tracer.cc:1441] function cupti_interface_->Subscribe( &subscriber_, (CUpti_CallbackFunc)ApiCallback, this)failed with error CUPTI could not be loaded or symbol could not be found.\n",
      "2021-11-04 05:51:33.562457: I tensorflow/core/profiler/internal/gpu/device_tracer.cc:223]  GpuTracer has collected 0 callback api events and 0 activity events. \n",
      "2021-11-04 05:51:33.564136: I tensorflow/core/profiler/rpc/client/save_profile.cc:176] Creating directory: logs/fit/20211104-055133/train/plugins/profile/2021_11_04_05_51_33\n",
      "2021-11-04 05:51:33.564866: I tensorflow/core/profiler/rpc/client/save_profile.cc:182] Dumped gzipped tool data for trace.json.gz to logs/fit/20211104-055133/train/plugins/profile/2021_11_04_05_51_33/biswas.trace.json.gz\n",
      "2021-11-04 05:51:33.565910: I tensorflow/core/profiler/rpc/client/save_profile.cc:176] Creating directory: logs/fit/20211104-055133/train/plugins/profile/2021_11_04_05_51_33\n",
      "2021-11-04 05:51:33.565968: I tensorflow/core/profiler/rpc/client/save_profile.cc:182] Dumped gzipped tool data for memory_profile.json.gz to logs/fit/20211104-055133/train/plugins/profile/2021_11_04_05_51_33/biswas.memory_profile.json.gz\n",
      "2021-11-04 05:51:33.566142: I tensorflow/python/profiler/internal/profiler_wrapper.cc:111] Creating directory: logs/fit/20211104-055133/train/plugins/profile/2021_11_04_05_51_33Dumped tool data for xplane.pb to logs/fit/20211104-055133/train/plugins/profile/2021_11_04_05_51_33/biswas.xplane.pb\n",
      "Dumped tool data for overview_page.pb to logs/fit/20211104-055133/train/plugins/profile/2021_11_04_05_51_33/biswas.overview_page.pb\n",
      "Dumped tool data for input_pipeline.pb to logs/fit/20211104-055133/train/plugins/profile/2021_11_04_05_51_33/biswas.input_pipeline.pb\n",
      "Dumped tool data for tensorflow_stats.pb to logs/fit/20211104-055133/train/plugins/profile/2021_11_04_05_51_33/biswas.tensorflow_stats.pb\n",
      "Dumped tool data for kernel_stats.pb to logs/fit/20211104-055133/train/plugins/profile/2021_11_04_05_51_33/biswas.kernel_stats.pb\n",
      "\n"
     ]
    },
    {
     "name": "stdout",
     "output_type": "stream",
     "text": [
      "The RMSE score for test dataset of WeatherStation on model type:WeatherStation model  is: 0.24710897004521543\n",
      "The R2 score for test dataset of WeatherStation on model type:WeatherStation model  is: 0.9389450634257822\n"
     ]
    },
    {
     "name": "stderr",
     "output_type": "stream",
     "text": [
      "2021-11-04 05:53:50.919165: I tensorflow/core/profiler/lib/profiler_session.cc:164] Profiler session started.\n",
      "2021-11-04 05:53:50.919219: E tensorflow/core/profiler/internal/gpu/cupti_tracer.cc:1441] function cupti_interface_->Subscribe( &subscriber_, (CUpti_CallbackFunc)ApiCallback, this)failed with error CUPTI could not be loaded or symbol could not be found.\n"
     ]
    },
    {
     "name": "stdout",
     "output_type": "stream",
     "text": [
      "WARNING:tensorflow:Callbacks method `on_train_batch_end` is slow compared to the batch time (batch time: 0.0009s vs `on_train_batch_end` time: 0.0237s). Check your callbacks.\n"
     ]
    },
    {
     "name": "stderr",
     "output_type": "stream",
     "text": [
      "2021-11-04 05:53:51.263451: I tensorflow/core/profiler/lib/profiler_session.cc:164] Profiler session started.\n",
      "2021-11-04 05:53:51.263505: E tensorflow/core/profiler/internal/gpu/cupti_tracer.cc:1441] function cupti_interface_->Subscribe( &subscriber_, (CUpti_CallbackFunc)ApiCallback, this)failed with error CUPTI could not be loaded or symbol could not be found.\n",
      "2021-11-04 05:53:51.284726: I tensorflow/core/profiler/internal/gpu/device_tracer.cc:223]  GpuTracer has collected 0 callback api events and 0 activity events. \n",
      "2021-11-04 05:53:51.286437: I tensorflow/core/profiler/rpc/client/save_profile.cc:176] Creating directory: logs/fit/20211104-055350/train/plugins/profile/2021_11_04_05_53_51\n",
      "2021-11-04 05:53:51.286981: I tensorflow/core/profiler/rpc/client/save_profile.cc:182] Dumped gzipped tool data for trace.json.gz to logs/fit/20211104-055350/train/plugins/profile/2021_11_04_05_53_51/biswas.trace.json.gz\n",
      "2021-11-04 05:53:51.287755: I tensorflow/core/profiler/rpc/client/save_profile.cc:176] Creating directory: logs/fit/20211104-055350/train/plugins/profile/2021_11_04_05_53_51\n",
      "2021-11-04 05:53:51.287806: I tensorflow/core/profiler/rpc/client/save_profile.cc:182] Dumped gzipped tool data for memory_profile.json.gz to logs/fit/20211104-055350/train/plugins/profile/2021_11_04_05_53_51/biswas.memory_profile.json.gz\n",
      "2021-11-04 05:53:51.287950: I tensorflow/python/profiler/internal/profiler_wrapper.cc:111] Creating directory: logs/fit/20211104-055350/train/plugins/profile/2021_11_04_05_53_51Dumped tool data for xplane.pb to logs/fit/20211104-055350/train/plugins/profile/2021_11_04_05_53_51/biswas.xplane.pb\n",
      "Dumped tool data for overview_page.pb to logs/fit/20211104-055350/train/plugins/profile/2021_11_04_05_53_51/biswas.overview_page.pb\n",
      "Dumped tool data for input_pipeline.pb to logs/fit/20211104-055350/train/plugins/profile/2021_11_04_05_53_51/biswas.input_pipeline.pb\n",
      "Dumped tool data for tensorflow_stats.pb to logs/fit/20211104-055350/train/plugins/profile/2021_11_04_05_53_51/biswas.tensorflow_stats.pb\n",
      "Dumped tool data for kernel_stats.pb to logs/fit/20211104-055350/train/plugins/profile/2021_11_04_05_53_51/biswas.kernel_stats.pb\n",
      "\n"
     ]
    },
    {
     "name": "stdout",
     "output_type": "stream",
     "text": [
      "The RMSE score for test dataset of Microclimate on model type:WeatherStation model  is: 0.15902964496166058\n",
      "The R2 score for test dataset of Microclimate on model type:WeatherStation model  is: 0.9738997615764454\n",
      "The RMSE score for test dataset of WeatherStation on model type:WeatherStation model  is: 0.5027949908688774\n",
      "The R2 score for test dataset of WeatherStation on model type:WeatherStation model  is: 0.747229930418746\n"
     ]
    }
   ],
   "source": [
    "MicroclimateData = pd.read_csv('./Data/all_buildings_limited.csv')\n",
    "WeatherStationData = pd.read_csv('./Data/all_buildings_big.csv')\n",
    "if __name__ == \"__main__\":\n",
    "    # Train microclimate Model\n",
    "    MicroclimateModel = NeuralNetwork('relu',4, 'huber_loss', 'he_normal','he_normal', 'Microclimate', 250)\n",
    "    MicroclimateModel.train(MicroclimateData)\n",
    "    Y_preds, y_test, X_test = MicroclimateModel.evaluate(MicroclimateData, 'Microclimate')\n",
    "    # Train Weather Station Model\n",
    "    WeatherStationModel = NeuralNetwork('relu',4, 'huber_loss', 'he_normal','he_normal', 'WeatherStation', 100)\n",
    "    WeatherStationModel.train(WeatherStationData)\n",
    "    _,_,_ = WeatherStationModel.evaluate(WeatherStationData, 'WeatherStation')\n",
    "    # Fine Tune and compare results\n",
    "    WeatherStationModel.fine_tune(MicroclimateData)\n",
    "    WeatherStationModel.evaluate(MicroclimateData, 'Microclimate')\n",
    "    _,_,_ = WeatherStationModel.evaluate(WeatherStationData, 'WeatherStation')\n"
   ]
  },
  {
   "cell_type": "markdown",
   "id": "43054f94",
   "metadata": {
    "id": "43054f94"
   },
   "source": [
    "Use this to return dummy variables to original columns example: df2 = undummify(df2) "
   ]
  },
  {
   "cell_type": "code",
   "execution_count": null,
   "id": "e95975ac",
   "metadata": {
    "id": "e95975ac"
   },
   "outputs": [],
   "source": [
    "def undummify(df, prefix_sep=\"_\"):\n",
    "    cols2collapse = {\n",
    "        item.split(prefix_sep)[0]: (prefix_sep in item) for item in df.columns\n",
    "    }\n",
    "    series_list = []\n",
    "    for col, needs_to_collapse in cols2collapse.items():\n",
    "        if needs_to_collapse:\n",
    "            undummified = (\n",
    "                df.filter(like=col)\n",
    "                .idxmax(axis=1)\n",
    "                .apply(lambda x: x.split(prefix_sep, maxsplit=1)[1])\n",
    "                .rename(col)\n",
    "            )\n",
    "            series_list.append(undummified)\n",
    "        else:\n",
    "            series_list.append(df[col])\n",
    "    undummified_df = pd.concat(series_list, axis=1)\n",
    "    return undummified_df"
   ]
  },
  {
   "cell_type": "code",
   "execution_count": 144,
   "id": "yBKHk72AtlAh",
   "metadata": {
    "colab": {
     "base_uri": "https://localhost:8080/",
     "height": 264
    },
    "id": "yBKHk72AtlAh",
    "outputId": "5d4bb085-205f-4e26-d6df-41f510fca0d7"
   },
   "outputs": [
    {
     "data": {
      "image/png": "[encoded data removed]",
      "text/plain": [
       "<Figure size 432x288 with 1 Axes>"
      ]
     },
     "metadata": {
      "needs_background": "light"
     },
     "output_type": "display_data"
    }
   ],
   "source": [
    "# Sample of how plotting can be performed, need to do this by day\n",
    "time = MicroclimateData[['Date_Time','Month','Day','Hour','Minute']]\n",
    "results = undummify(X_test)\n",
    "col = results.pop('bldgname')\n",
    "results.insert(0, 'bldgname', col)\n",
    "results['Actual'] = StdSc1.inverse_transform(y_test)\n",
    "results['Predicted'] = StdSc1.inverse_transform(Y_preds)\n",
    "results[results['bldgname'] == 'Bulldog Hall']\n",
    "results = results.join(time)\n",
    "bldg = results[results['bldgname']=='Bulldog Hall']\n",
    "month = bldg[bldg['Month'] == 8]\n",
    "z = month.sort_values(by=['Month', 'Day', 'Hour', 'Minute'])\n",
    "plt.plot(z['Actual'])\n",
    "plt.plot(z['Predicted'])\n",
    "plt.show()"
   ]
  },
  {
   "cell_type": "code",
   "execution_count": 118,
   "id": "22KQxKrsWLBC",
   "metadata": {
    "colab": {
     "base_uri": "https://localhost:8080/"
    },
    "id": "22KQxKrsWLBC",
    "outputId": "fb3dc051-4a9f-4615-e44d-b3f4a94f53e3"
   },
   "outputs": [
    {
     "name": "stdout",
     "output_type": "stream",
     "text": [
      "Model: \"sequential_33\"\n",
      "_________________________________________________________________\n",
      "Layer (type)                 Output Shape              Param #   \n",
      "=================================================================\n",
      "dense_165 (Dense)            (None, 30)                510       \n",
      "_________________________________________________________________\n",
      "dense_166 (Dense)            (None, 40)                1240      \n",
      "_________________________________________________________________\n",
      "dense_167 (Dense)            (None, 40)                1640      \n",
      "_________________________________________________________________\n",
      "dense_168 (Dense)            (None, 50)                2050      \n",
      "_________________________________________________________________\n",
      "dropout_31 (Dropout)         (None, 50)                0         \n",
      "_________________________________________________________________\n",
      "dense_169 (Dense)            (None, 1)                 51        \n",
      "=================================================================\n",
      "Total params: 5,491\n",
      "Trainable params: 5,491\n",
      "Non-trainable params: 0\n",
      "_________________________________________________________________\n"
     ]
    },
    {
     "name": "stderr",
     "output_type": "stream",
     "text": [
      "2021-11-04 05:44:57.814554: I tensorflow/core/profiler/lib/profiler_session.cc:164] Profiler session started.\n",
      "2021-11-04 05:44:57.814596: E tensorflow/core/profiler/internal/gpu/cupti_tracer.cc:1441] function cupti_interface_->Subscribe( &subscriber_, (CUpti_CallbackFunc)ApiCallback, this)failed with error CUPTI could not be loaded or symbol could not be found.\n"
     ]
    },
    {
     "name": "stdout",
     "output_type": "stream",
     "text": [
      "WARNING:tensorflow:Callbacks method `on_train_batch_end` is slow compared to the batch time (batch time: 0.0010s vs `on_train_batch_end` time: 0.0225s). Check your callbacks.\n"
     ]
    },
    {
     "name": "stderr",
     "output_type": "stream",
     "text": [
      "2021-11-04 05:44:58.210489: I tensorflow/core/profiler/lib/profiler_session.cc:164] Profiler session started.\n",
      "2021-11-04 05:44:58.210551: E tensorflow/core/profiler/internal/gpu/cupti_tracer.cc:1441] function cupti_interface_->Subscribe( &subscriber_, (CUpti_CallbackFunc)ApiCallback, this)failed with error CUPTI could not be loaded or symbol could not be found.\n",
      "2021-11-04 05:44:58.230915: I tensorflow/core/profiler/internal/gpu/device_tracer.cc:223]  GpuTracer has collected 0 callback api events and 0 activity events. \n",
      "2021-11-04 05:44:58.232220: I tensorflow/core/profiler/rpc/client/save_profile.cc:176] Creating directory: logs/fit/20211104-054457/train/plugins/profile/2021_11_04_05_44_58\n",
      "2021-11-04 05:44:58.232834: I tensorflow/core/profiler/rpc/client/save_profile.cc:182] Dumped gzipped tool data for trace.json.gz to logs/fit/20211104-054457/train/plugins/profile/2021_11_04_05_44_58/biswas.trace.json.gz\n",
      "2021-11-04 05:44:58.233667: I tensorflow/core/profiler/rpc/client/save_profile.cc:176] Creating directory: logs/fit/20211104-054457/train/plugins/profile/2021_11_04_05_44_58\n",
      "2021-11-04 05:44:58.233713: I tensorflow/core/profiler/rpc/client/save_profile.cc:182] Dumped gzipped tool data for memory_profile.json.gz to logs/fit/20211104-054457/train/plugins/profile/2021_11_04_05_44_58/biswas.memory_profile.json.gz\n",
      "2021-11-04 05:44:58.233855: I tensorflow/python/profiler/internal/profiler_wrapper.cc:111] Creating directory: logs/fit/20211104-054457/train/plugins/profile/2021_11_04_05_44_58Dumped tool data for xplane.pb to logs/fit/20211104-054457/train/plugins/profile/2021_11_04_05_44_58/biswas.xplane.pb\n",
      "Dumped tool data for overview_page.pb to logs/fit/20211104-054457/train/plugins/profile/2021_11_04_05_44_58/biswas.overview_page.pb\n",
      "Dumped tool data for input_pipeline.pb to logs/fit/20211104-054457/train/plugins/profile/2021_11_04_05_44_58/biswas.input_pipeline.pb\n",
      "Dumped tool data for tensorflow_stats.pb to logs/fit/20211104-054457/train/plugins/profile/2021_11_04_05_44_58/biswas.tensorflow_stats.pb\n",
      "Dumped tool data for kernel_stats.pb to logs/fit/20211104-054457/train/plugins/profile/2021_11_04_05_44_58/biswas.kernel_stats.pb\n",
      "\n"
     ]
    },
    {
     "name": "stdout",
     "output_type": "stream",
     "text": [
      "The RMSE score for test dataset of WeatherStation is: 0.24418327579058335\n",
      "The R2 score for test dataset of WeatherStation is: 0.9403822482139685\n"
     ]
    },
    {
     "ename": "ValueError",
     "evalue": "not enough values to unpack (expected 4, got 3)",
     "output_type": "error",
     "traceback": [
      "\u001b[0;31m---------------------------------------------------------------------------\u001b[0m",
      "\u001b[0;31mValueError\u001b[0m                                Traceback (most recent call last)",
      "\u001b[0;32m/tmp/ipykernel_5591/3121483024.py\u001b[0m in \u001b[0;36m<module>\u001b[0;34m\u001b[0m\n\u001b[1;32m      2\u001b[0m \u001b[0mWeatherStationModel\u001b[0m \u001b[0;34m=\u001b[0m \u001b[0mNeuralNetwork\u001b[0m\u001b[0;34m(\u001b[0m\u001b[0;34m'relu'\u001b[0m\u001b[0;34m,\u001b[0m\u001b[0;36m4\u001b[0m\u001b[0;34m,\u001b[0m \u001b[0;34m'huber_loss'\u001b[0m\u001b[0;34m,\u001b[0m \u001b[0;34m'he_normal'\u001b[0m\u001b[0;34m,\u001b[0m\u001b[0;34m'he_normal'\u001b[0m\u001b[0;34m,\u001b[0m \u001b[0;34m'WeatherStation'\u001b[0m\u001b[0;34m,\u001b[0m \u001b[0;36m100\u001b[0m\u001b[0;34m)\u001b[0m\u001b[0;34m\u001b[0m\u001b[0;34m\u001b[0m\u001b[0m\n\u001b[1;32m      3\u001b[0m \u001b[0mWeatherStationModel\u001b[0m\u001b[0;34m.\u001b[0m\u001b[0mtrain\u001b[0m\u001b[0;34m(\u001b[0m\u001b[0mWeatherStationData\u001b[0m\u001b[0;34m)\u001b[0m\u001b[0;34m\u001b[0m\u001b[0;34m\u001b[0m\u001b[0m\n\u001b[0;32m----> 4\u001b[0;31m \u001b[0m_\u001b[0m\u001b[0;34m,\u001b[0m\u001b[0m_\u001b[0m\u001b[0;34m,\u001b[0m\u001b[0m_\u001b[0m\u001b[0;34m,\u001b[0m\u001b[0m_\u001b[0m \u001b[0;34m=\u001b[0m \u001b[0mWeatherStationModel\u001b[0m\u001b[0;34m.\u001b[0m\u001b[0mevaluate\u001b[0m\u001b[0;34m(\u001b[0m\u001b[0mWeatherStationData\u001b[0m\u001b[0;34m,\u001b[0m \u001b[0;34m'WeatherStation'\u001b[0m\u001b[0;34m)\u001b[0m\u001b[0;34m\u001b[0m\u001b[0;34m\u001b[0m\u001b[0m\n\u001b[0m",
      "\u001b[0;31mValueError\u001b[0m: not enough values to unpack (expected 4, got 3)"
     ]
    }
   ],
   "source": []
  },
  {
   "cell_type": "code",
   "execution_count": 57,
   "id": "6744b60c",
   "metadata": {
    "colab": {
     "base_uri": "https://localhost:8080/"
    },
    "id": "6744b60c",
    "outputId": "b96952f9-1373-4738-f0b6-e6705ae5d6fe"
   },
   "outputs": [
    {
     "name": "stdout",
     "output_type": "stream",
     "text": [
      "Model: \"sequential_19\"\n",
      "_________________________________________________________________\n",
      "Layer (type)                 Output Shape              Param #   \n",
      "=================================================================\n",
      "dense_95 (Dense)             (None, 30)                510       \n",
      "_________________________________________________________________\n",
      "dense_96 (Dense)             (None, 40)                1240      \n",
      "_________________________________________________________________\n",
      "dense_97 (Dense)             (None, 40)                1640      \n",
      "_________________________________________________________________\n",
      "dense_98 (Dense)             (None, 50)                2050      \n",
      "_________________________________________________________________\n",
      "dropout_17 (Dropout)         (None, 50)                0         \n",
      "_________________________________________________________________\n",
      "dense_99 (Dense)             (None, 1)                 51        \n",
      "=================================================================\n",
      "Total params: 5,491\n",
      "Trainable params: 5,491\n",
      "Non-trainable params: 0\n",
      "_________________________________________________________________\n"
     ]
    },
    {
     "name": "stderr",
     "output_type": "stream",
     "text": [
      "2021-11-04 05:11:13.193926: I tensorflow/core/profiler/lib/profiler_session.cc:164] Profiler session started.\n",
      "2021-11-04 05:11:13.193980: E tensorflow/core/profiler/internal/gpu/cupti_tracer.cc:1441] function cupti_interface_->Subscribe( &subscriber_, (CUpti_CallbackFunc)ApiCallback, this)failed with error CUPTI could not be loaded or symbol could not be found.\n"
     ]
    },
    {
     "name": "stdout",
     "output_type": "stream",
     "text": [
      "WARNING:tensorflow:Callbacks method `on_train_batch_end` is slow compared to the batch time (batch time: 0.0027s vs `on_train_batch_end` time: 0.0385s). Check your callbacks.\n"
     ]
    },
    {
     "name": "stderr",
     "output_type": "stream",
     "text": [
      "2021-11-04 05:11:13.575466: I tensorflow/core/profiler/lib/profiler_session.cc:164] Profiler session started.\n",
      "2021-11-04 05:11:13.575670: E tensorflow/core/profiler/internal/gpu/cupti_tracer.cc:1441] function cupti_interface_->Subscribe( &subscriber_, (CUpti_CallbackFunc)ApiCallback, this)failed with error CUPTI could not be loaded or symbol could not be found.\n",
      "2021-11-04 05:11:13.612607: I tensorflow/core/profiler/internal/gpu/device_tracer.cc:223]  GpuTracer has collected 0 callback api events and 0 activity events. \n",
      "2021-11-04 05:11:13.614011: I tensorflow/core/profiler/rpc/client/save_profile.cc:176] Creating directory: logs/fit/20211104-051113/train/plugins/profile/2021_11_04_05_11_13\n",
      "2021-11-04 05:11:13.614754: I tensorflow/core/profiler/rpc/client/save_profile.cc:182] Dumped gzipped tool data for trace.json.gz to logs/fit/20211104-051113/train/plugins/profile/2021_11_04_05_11_13/biswas.trace.json.gz\n",
      "2021-11-04 05:11:13.616241: I tensorflow/core/profiler/rpc/client/save_profile.cc:176] Creating directory: logs/fit/20211104-051113/train/plugins/profile/2021_11_04_05_11_13\n",
      "2021-11-04 05:11:13.616389: I tensorflow/core/profiler/rpc/client/save_profile.cc:182] Dumped gzipped tool data for memory_profile.json.gz to logs/fit/20211104-051113/train/plugins/profile/2021_11_04_05_11_13/biswas.memory_profile.json.gz\n",
      "2021-11-04 05:11:13.616645: I tensorflow/python/profiler/internal/profiler_wrapper.cc:111] Creating directory: logs/fit/20211104-051113/train/plugins/profile/2021_11_04_05_11_13Dumped tool data for xplane.pb to logs/fit/20211104-051113/train/plugins/profile/2021_11_04_05_11_13/biswas.xplane.pb\n",
      "Dumped tool data for overview_page.pb to logs/fit/20211104-051113/train/plugins/profile/2021_11_04_05_11_13/biswas.overview_page.pb\n",
      "Dumped tool data for input_pipeline.pb to logs/fit/20211104-051113/train/plugins/profile/2021_11_04_05_11_13/biswas.input_pipeline.pb\n",
      "Dumped tool data for tensorflow_stats.pb to logs/fit/20211104-051113/train/plugins/profile/2021_11_04_05_11_13/biswas.tensorflow_stats.pb\n",
      "Dumped tool data for kernel_stats.pb to logs/fit/20211104-051113/train/plugins/profile/2021_11_04_05_11_13/biswas.kernel_stats.pb\n",
      "\n"
     ]
    },
    {
     "name": "stdout",
     "output_type": "stream",
     "text": [
      "The RMSE score for test dataset of Microclimate is: 0.4813894929584201\n",
      "The R2 score for test dataset of Microclimate is: 0.7608438740749964\n"
     ]
    },
    {
     "data": {
      "text/plain": [
       "(array([[-0.7307279],\n",
       "        [ 1.3803476],\n",
       "        [ 1.1643488],\n",
       "        ...,\n",
       "        [ 1.2771429],\n",
       "        [ 2.2634912],\n",
       "        [ 0.0895946]], dtype=float32),\n",
       " array([[-1.03161955],\n",
       "        [ 1.6855848 ],\n",
       "        [ 1.43416925],\n",
       "        ...,\n",
       "        [ 1.88257945],\n",
       "        [ 1.28510908],\n",
       "        [-0.15253571]]),\n",
       "       Air Temp   Abs Hum  Air Temp Squared  Abs Hum Squared  Air Temp*Abs Hum  \\\n",
       " 6775  0.275443 -0.186465          0.221581        -0.316847         -0.102574   \n",
       " 5612  1.235027 -0.805584          1.317948        -0.711306         -0.506151   \n",
       " 5922  0.798287  0.264034          0.803087         0.053147          0.488231   \n",
       " 5293  0.567240 -1.102149          0.541433        -0.853499         -0.921492   \n",
       " 1910  1.000088 -0.757436          1.037690        -0.685362         -0.500589   \n",
       " ...        ...       ...               ...              ...               ...   \n",
       " 7845 -0.125959 -1.155272         -0.199077        -0.875771         -1.073971   \n",
       " 2222  1.391057  1.137430          1.508314         0.969554          1.618518   \n",
       " 5696 -0.453844  2.597128         -0.526076         3.087514          2.082277   \n",
       " 2168  1.252946  1.492194          1.339637         1.416808          1.936559   \n",
       " 1202  0.476295 -1.073746          0.440475        -0.841192         -0.907801   \n",
       " \n",
       "       bldgname_Biodesign A  bldgname_Biodesign B  bldgname_Biodesign C  \\\n",
       " 6775                     0                     0                     0   \n",
       " 5612                     0                     0                     0   \n",
       " 5922                     0                     0                     0   \n",
       " 5293                     0                     0                     0   \n",
       " 1910                     1                     0                     0   \n",
       " ...                    ...                   ...                   ...   \n",
       " 7845                     0                     0                     0   \n",
       " 2222                     1                     0                     0   \n",
       " 5696                     0                     0                     0   \n",
       " 2168                     1                     0                     0   \n",
       " 1202                     0                     0                     1   \n",
       " \n",
       "       bldgname_Bulldog Hall  bldgname_Goldwater  bldgname_ISTB 2  \\\n",
       " 6775                      1                   0                0   \n",
       " 5612                      0                   0                1   \n",
       " 5922                      0                   0                1   \n",
       " 5293                      0                   0                1   \n",
       " 1910                      0                   0                0   \n",
       " ...                     ...                 ...              ...   \n",
       " 7845                      0                   0                0   \n",
       " 2222                      0                   0                0   \n",
       " 5696                      0                   0                1   \n",
       " 2168                      0                   0                0   \n",
       " 1202                      0                   0                0   \n",
       " \n",
       "       bldgname_ISTB 4  bldgname_Noble Library  bldgname_Psychology  \\\n",
       " 6775                0                       0                    0   \n",
       " 5612                0                       0                    0   \n",
       " 5922                0                       0                    0   \n",
       " 5293                0                       0                    0   \n",
       " 1910                0                       0                    0   \n",
       " ...               ...                     ...                  ...   \n",
       " 7845                0                       0                    0   \n",
       " 2222                0                       0                    0   \n",
       " 5696                0                       0                    0   \n",
       " 2168                0                       0                    0   \n",
       " 1202                0                       0                    0   \n",
       " \n",
       "       bldgname_Psychology North  bldgname_Schwada COB  \n",
       " 6775                          0                     0  \n",
       " 5612                          0                     0  \n",
       " 5922                          0                     0  \n",
       " 5293                          0                     0  \n",
       " 1910                          0                     0  \n",
       " ...                         ...                   ...  \n",
       " 7845                          1                     0  \n",
       " 2222                          0                     0  \n",
       " 5696                          0                     0  \n",
       " 2168                          0                     0  \n",
       " 1202                          0                     0  \n",
       " \n",
       " [1918 rows x 16 columns])"
      ]
     },
     "execution_count": 57,
     "metadata": {},
     "output_type": "execute_result"
    }
   ],
   "source": [
    "# Train Weather Station Model\n",
    "WeatherStationModel = NeuralNetwork('relu',4, 'huber_loss', 'he_normal','he_normal', 'WeatherStation', 100)\n",
    "WeatherStationModel.train(WeatherStationData)\n",
    "_,_,_,_ = WeatherStationModel.evaluate(MicroclimateData, 'Microclimate')\n"
   ]
  },
  {
   "cell_type": "code",
   "execution_count": 56,
   "id": "00f1e303",
   "metadata": {
    "colab": {
     "base_uri": "https://localhost:8080/"
    },
    "id": "00f1e303",
    "outputId": "78f8e576-dde3-4343-c5bc-144bdd1dd4d6"
   },
   "outputs": [
    {
     "name": "stderr",
     "output_type": "stream",
     "text": [
      "2021-11-04 05:10:23.059079: I tensorflow/core/profiler/lib/profiler_session.cc:164] Profiler session started.\n",
      "2021-11-04 05:10:23.059133: E tensorflow/core/profiler/internal/gpu/cupti_tracer.cc:1441] function cupti_interface_->Subscribe( &subscriber_, (CUpti_CallbackFunc)ApiCallback, this)failed with error CUPTI could not be loaded or symbol could not be found.\n"
     ]
    },
    {
     "name": "stdout",
     "output_type": "stream",
     "text": [
      "WARNING:tensorflow:Callbacks method `on_train_batch_end` is slow compared to the batch time (batch time: 0.0010s vs `on_train_batch_end` time: 0.0241s). Check your callbacks.\n"
     ]
    },
    {
     "name": "stderr",
     "output_type": "stream",
     "text": [
      "2021-11-04 05:10:23.401654: I tensorflow/core/profiler/lib/profiler_session.cc:164] Profiler session started.\n",
      "2021-11-04 05:10:23.401701: E tensorflow/core/profiler/internal/gpu/cupti_tracer.cc:1441] function cupti_interface_->Subscribe( &subscriber_, (CUpti_CallbackFunc)ApiCallback, this)failed with error CUPTI could not be loaded or symbol could not be found.\n",
      "2021-11-04 05:10:23.423532: I tensorflow/core/profiler/internal/gpu/device_tracer.cc:223]  GpuTracer has collected 0 callback api events and 0 activity events. \n",
      "2021-11-04 05:10:23.424791: I tensorflow/core/profiler/rpc/client/save_profile.cc:176] Creating directory: logs/fit/20211104-051023/train/plugins/profile/2021_11_04_05_10_23\n",
      "2021-11-04 05:10:23.425382: I tensorflow/core/profiler/rpc/client/save_profile.cc:182] Dumped gzipped tool data for trace.json.gz to logs/fit/20211104-051023/train/plugins/profile/2021_11_04_05_10_23/biswas.trace.json.gz\n",
      "2021-11-04 05:10:23.426338: I tensorflow/core/profiler/rpc/client/save_profile.cc:176] Creating directory: logs/fit/20211104-051023/train/plugins/profile/2021_11_04_05_10_23\n",
      "2021-11-04 05:10:23.426413: I tensorflow/core/profiler/rpc/client/save_profile.cc:182] Dumped gzipped tool data for memory_profile.json.gz to logs/fit/20211104-051023/train/plugins/profile/2021_11_04_05_10_23/biswas.memory_profile.json.gz\n",
      "2021-11-04 05:10:23.426615: I tensorflow/python/profiler/internal/profiler_wrapper.cc:111] Creating directory: logs/fit/20211104-051023/train/plugins/profile/2021_11_04_05_10_23Dumped tool data for xplane.pb to logs/fit/20211104-051023/train/plugins/profile/2021_11_04_05_10_23/biswas.xplane.pb\n",
      "Dumped tool data for overview_page.pb to logs/fit/20211104-051023/train/plugins/profile/2021_11_04_05_10_23/biswas.overview_page.pb\n",
      "Dumped tool data for input_pipeline.pb to logs/fit/20211104-051023/train/plugins/profile/2021_11_04_05_10_23/biswas.input_pipeline.pb\n",
      "Dumped tool data for tensorflow_stats.pb to logs/fit/20211104-051023/train/plugins/profile/2021_11_04_05_10_23/biswas.tensorflow_stats.pb\n",
      "Dumped tool data for kernel_stats.pb to logs/fit/20211104-051023/train/plugins/profile/2021_11_04_05_10_23/biswas.kernel_stats.pb\n",
      "\n"
     ]
    },
    {
     "name": "stdout",
     "output_type": "stream",
     "text": [
      "The RMSE score for test dataset of Microclimate is: 0.15781055781774708\n",
      "The R2 score for test dataset of Microclimate is: 0.9742983854727494\n",
      "The RMSE score for test dataset of WeatherStation is: 0.5046609817374317\n",
      "The R2 score for test dataset of WeatherStation is: 0.7453502701859536\n"
     ]
    },
    {
     "data": {
      "text/plain": [
       "(array([[-0.27365097],\n",
       "        [-1.1841555 ],\n",
       "        [-0.11740661],\n",
       "        ...,\n",
       "        [-0.8040029 ],\n",
       "        [ 0.36976367],\n",
       "        [-1.0261501 ]], dtype=float32),\n",
       " array([[-0.08406833],\n",
       "        [-0.84752508],\n",
       "        [ 0.14039772],\n",
       "        ...,\n",
       "        [-0.91756198],\n",
       "        [ 0.66086221],\n",
       "        [-0.73521282]]),\n",
       "         Air Temp   Abs Hum  Air Temp Squared  Abs Hum Squared  \\\n",
       " 186789  0.224833 -0.517549          0.043167        -0.551818   \n",
       " 32371  -1.041248  0.649426         -1.007956         0.346841   \n",
       " 71192   0.857873 -0.865957          0.793970        -0.698230   \n",
       " 142975  1.596421  1.662780          1.859692         1.637273   \n",
       " 75461   1.279900  1.693355          1.377927         1.683577   \n",
       " ...          ...       ...               ...              ...   \n",
       " 33901  -1.674288 -0.451287         -1.308277        -0.517629   \n",
       " 169178  0.330340 -0.853711          0.157873        -0.694034   \n",
       " 191220 -1.674288 -0.274424         -1.308277        -0.416447   \n",
       " 324500  0.013819  0.883235         -0.173731         0.602501   \n",
       " 332721 -1.146755 -0.470588         -1.068437        -0.527796   \n",
       " \n",
       "         Air Temp*Abs Hum  bldgname_Biodesign A  bldgname_Biodesign B  \\\n",
       " 186789         -0.385315                     0                     0   \n",
       " 32371          -0.258713                     0                     0   \n",
       " 71192          -0.525978                     0                     0   \n",
       " 142975          2.469719                     0                     0   \n",
       " 75461           2.225592                     0                     0   \n",
       " ...                  ...                   ...                   ...   \n",
       " 33901          -0.918559                     0                     0   \n",
       " 169178         -0.620013                     0                     0   \n",
       " 191220         -0.873701                     0                     0   \n",
       " 324500          0.540464                     0                     0   \n",
       " 332721         -0.764045                     0                     0   \n",
       " \n",
       "         bldgname_Biodesign C  bldgname_Bulldog Hall  bldgname_Goldwater  \\\n",
       " 186789                     0                      0                   1   \n",
       " 32371                      0                      0                   0   \n",
       " 71192                      1                      0                   0   \n",
       " 142975                     0                      0                   0   \n",
       " 75461                      1                      0                   0   \n",
       " ...                      ...                    ...                 ...   \n",
       " 33901                      0                      0                   0   \n",
       " 169178                     0                      0                   1   \n",
       " 191220                     0                      0                   1   \n",
       " 324500                     0                      0                   0   \n",
       " 332721                     0                      0                   0   \n",
       " \n",
       "         bldgname_ISTB 2  bldgname_ISTB 4  bldgname_Noble Library  \\\n",
       " 186789                0                0                       0   \n",
       " 32371                 0                0                       1   \n",
       " 71192                 0                0                       0   \n",
       " 142975                0                0                       0   \n",
       " 75461                 0                0                       0   \n",
       " ...                 ...              ...                     ...   \n",
       " 33901                 0                0                       1   \n",
       " 169178                0                0                       0   \n",
       " 191220                0                0                       0   \n",
       " 324500                0                1                       0   \n",
       " 332721                0                0                       0   \n",
       " \n",
       "         bldgname_Psychology  bldgname_Psychology North  bldgname_Schwada COB  \n",
       " 186789                    0                          0                     0  \n",
       " 32371                     0                          0                     0  \n",
       " 71192                     0                          0                     0  \n",
       " 142975                    1                          0                     0  \n",
       " 75461                     0                          0                     0  \n",
       " ...                     ...                        ...                   ...  \n",
       " 33901                     0                          0                     0  \n",
       " 169178                    0                          0                     0  \n",
       " 191220                    0                          0                     0  \n",
       " 324500                    0                          0                     0  \n",
       " 332721                    0                          1                     0  \n",
       " \n",
       " [73093 rows x 16 columns])"
      ]
     },
     "execution_count": 56,
     "metadata": {},
     "output_type": "execute_result"
    }
   ],
   "source": [
    "# Fine Tune and compare results\n",
    "WeatherStationModel.fine_tune(MicroclimateData)\n",
    "WeatherStationModel.evaluate(MicroclimateData, 'Microclimate')\n",
    "WeatherStationModel.evaluate(WeatherStationData, 'WeatherStation')"
   ]
  }
 ],
 "metadata": {
  "colab": {
   "name": "Micro_Energy_NN_v4.ipynb",
   "provenance": []
  },
  "kernelspec": {
   "display_name": "Python 3 (ipykernel)",
   "language": "python",
   "name": "python3"
  },
  "language_info": {
   "codemirror_mode": {
    "name": "ipython",
    "version": 3
   },
   "file_extension": ".py",
   "mimetype": "text/x-python",
   "name": "python",
   "nbconvert_exporter": "python",
   "pygments_lexer": "ipython3",
   "version": "3.7.5"
  }
 },
 "nbformat": 4,
 "nbformat_minor": 5
}
