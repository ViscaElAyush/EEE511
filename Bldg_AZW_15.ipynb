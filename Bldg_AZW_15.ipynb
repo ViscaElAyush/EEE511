{
 "cells": [
  {
   "cell_type": "code",
   "execution_count": null,
   "id": "28e81b22",
   "metadata": {},
   "outputs": [],
   "source": [
    "for path in pathlib.Path(\"/content/drive/Shareddrives/Microclimate-Building Energy/Data/microclimate_model/Building-Energy\").iterdir():\n",
    "        if path.is_file():\n",
    "            current_file = pd.read_csv(path)\n",
    "            current_file.tstamp = pd.to_datetime(current_file.tstamp).dt.strftime('%m/%d/%Y %H:%M')\n",
    "            # remove unwanted columns\n",
    "            current_file = current_file[['bldgname','tstamp','KW', 'CHWTON']]\n",
    "            # set date time as index\n",
    "            current_file = current_file.set_index('tstamp')\n",
    "            df =  pd.concat([current_file, AZW_15], axis = 1, join = \"inner\")\n",
    "            # rearrange column\n",
    "            df = df[['bldgname', 'Month', 'Day', 'Hour', 'Minute', 'Air Temp', 'Rel Humid', 'KW','CHWTON' ]]\n",
    "            df.reset_index(inplace=True)\n",
    "            df.rename(columns={'index': 'Date_Time'})\n",
    "            df.to_csv('/content/drive/Shareddrives/Microclimate-Building Energy/Data/NN_big_data/' + df['bldgname'][0] + '.csv')"
   ]
  }
 ],
 "metadata": {
  "kernelspec": {
   "display_name": "Python 3.8.8 64-bit ('base': conda)",
   "language": "python",
   "name": "python388jvsc74a57bd05743e2273c9542cf7022ebd3e101ce4ff09b272df8f3a22ea02f51200ed7a568"
  },
  "language_info": {
   "codemirror_mode": {
    "name": "ipython",
    "version": 3
   },
   "file_extension": ".py",
   "mimetype": "text/x-python",
   "name": "python",
   "nbconvert_exporter": "python",
   "pygments_lexer": "ipython3",
   "version": "3.8.8"
  }
 },
 "nbformat": 4,
 "nbformat_minor": 5
}
