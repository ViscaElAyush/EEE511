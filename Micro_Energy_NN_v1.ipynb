{
  "nbformat": 4,
  "nbformat_minor": 5,
  "metadata": {
    "kernelspec": {
      "display_name": "Python 3 (ipykernel)",
      "language": "python",
      "name": "python3"
    },
    "language_info": {
      "codemirror_mode": {
        "name": "ipython",
        "version": 3
      },
      "file_extension": ".py",
      "mimetype": "text/x-python",
      "name": "python",
      "nbconvert_exporter": "python",
      "pygments_lexer": "ipython3",
      "version": "3.7.5"
    },
    "toc-autonumbering": false,
    "toc-showcode": false,
    "toc-showmarkdowntxt": false,
    "toc-showtags": false,
    "colab": {
      "name": "Micro-Energy-NN-v1.ipynb",
      "provenance": []
    }
  },
  "cells": [
    {
      "cell_type": "markdown",
      "metadata": {
        "id": "bbf63091"
      },
      "source": [
        "Build a baseline model using the weather station data (this approach used all days in 2018 since the data was available).\n",
        "\n",
        "\n",
        "Then use the model to make predictions for the ENVI-met(micro-climate) data for that specific day and compare it to model predictions using weather station data also for the same day."
      ],
      "id": "bbf63091"
    },
    {
      "cell_type": "code",
      "metadata": {
        "colab": {
          "base_uri": "https://localhost:8080/"
        },
        "id": "brVU4MWHtTtG",
        "outputId": "71171b42-0778-4fc1-afc2-23d2c8ca2f02"
      },
      "source": [
        "from google.colab import drive\n",
        "drive.mount('/content/drive')"
      ],
      "id": "brVU4MWHtTtG",
      "execution_count": 1,
      "outputs": [
        {
          "output_type": "stream",
          "name": "stdout",
          "text": [
            "Mounted at /content/drive\n"
          ]
        }
      ]
    },
    {
      "cell_type": "markdown",
      "metadata": {
        "id": "c4a67839"
      },
      "source": [
        "# 1. Import"
      ],
      "id": "c4a67839"
    },
    {
      "cell_type": "code",
      "metadata": {
        "scrolled": true,
        "id": "8ff5f4a1"
      },
      "source": [
        "import pandas as pd\n",
        "import numpy as np\n",
        "import pathlib\n",
        "import pickle\n",
        "import pathlib\n",
        "import matplotlib.pyplot as plt\n",
        "from matplotlib.pyplot import cm\n",
        "from datetime import datetime\n",
        "import seaborn as sns\n",
        "\n",
        "# train-test split\n",
        "from sklearn.model_selection import train_test_split"
      ],
      "id": "8ff5f4a1",
      "execution_count": 292,
      "outputs": []
    },
    {
      "cell_type": "markdown",
      "metadata": {
        "id": "2323f8cd"
      },
      "source": [
        "# 2. Load All Data"
      ],
      "id": "2323f8cd"
    },
    {
      "cell_type": "code",
      "metadata": {
        "id": "4dAfrWuqVMmj"
      },
      "source": [
        "# LIMITED DATA\n",
        "Bldg_Lim = []\n",
        "\n",
        "# Read all building data and append to list\n",
        "for path in pathlib.Path(\"/content/drive/Shareddrives/Microclimate-Building Energy/Data/microclimate_model/Combined/dataset2\").iterdir():\n",
        "        if path.is_file():\n",
        "            current_file = pd.read_csv(path)\n",
        "            current_file = current_file.drop(columns=['Unnamed: 0'])\n",
        "            Bldg_Lim.append(current_file)\n",
        "\n",
        "# BIG DATA\n",
        "Bldg_Big = []\n",
        "\n",
        "# Read all building data and append to list\n",
        "for path in pathlib.Path(\"/content/drive/Shareddrives/Microclimate-Building Energy/Data/NN_big_data\").iterdir():\n",
        "        if path.is_file():\n",
        "            current_file = pd.read_csv(path)\n",
        "            current_file = current_file.drop(columns=['Unnamed: 0'])\n",
        "            Bldg_Big.append(current_file)"
      ],
      "id": "4dAfrWuqVMmj",
      "execution_count": 308,
      "outputs": []
    },
    {
      "cell_type": "markdown",
      "metadata": {
        "id": "XlKakizwVW6J"
      },
      "source": [
        "## 2.1 Preprocessing\n",
        "\n",
        "1. Adding Month, Hour, and Minute to limited data\n",
        "2. Removing hours out of ENVI-met accuracy range (after 9 pm) for limited data\n",
        "3. Add CHWTON/SQFT to columns using condition area for each building taken from\n",
        "    https://fdm-apps.asu.edu/UFRM/FDS/FacilityData.aspx\n",
        "4. Drop na rows in limited data (some data points from campus metabolism not available)\n",
        "5. Drop 'index' column and rename 'rel humid' to 'rel hum' for big data"
      ],
      "id": "XlKakizwVW6J"
    },
    {
      "cell_type": "code",
      "metadata": {
        "id": "oNbjTFZDVeQj"
      },
      "source": [
        "## LIMITED DATA ##\n",
        "# Create Month, Hour, and Minute column for all dataframes in list and drop unnecessary columns\n",
        "for i in range(len(Bldg_Lim)):\n",
        "    Bldg_Lim[i].Date_Time = pd.to_datetime(Bldg_Lim[i].Date_Time)\n",
        "    Bldg_Lim[i]['Month'] = Bldg_Lim[i].Date_Time.dt.month\n",
        "    Bldg_Lim[i]['Hour'] = Bldg_Lim[i].Date_Time.dt.hour\n",
        "    Bldg_Lim[i]['Minute'] = Bldg_Lim[i].Date_Time.dt.minute\n",
        "    Bldg_Lim[i]['Day'] = Bldg_Lim[i].Date_Time.dt.day\n",
        "    Bldg_Lim[i] = Bldg_Lim[i].drop(columns = ['Date_Time'])\n",
        "\n",
        "# Remove data after 9pm\n",
        "for i in range(len(Bldg_Lim)):\n",
        "    Bldg_Lim[i] = Bldg_Lim[i][(Bldg_Lim[i]['Hour'] <= 20) & (Bldg_Lim[i]['Hour'] > 0)]\n",
        "\n",
        "# Add Column: CHWTON/Condition Area (SqFt) or ['CHWTON/SQFT']\n",
        "cond_area = {'Noble Library':88658,'Biodesign B':132215,'Biodesign C':145410,\n",
        "             'Biodesign A':133016,'Psychology':69864,'Goldwater':165237,'Schwada COB':99857,\n",
        "             'ISTB 2':41404,'Bulldog Hall':68067,'ISTB 4':231646,'Psychology North':43034}\n",
        "for i in range(len(Bldg_Lim)):\n",
        "    if Bldg_Lim[i]['bldgname'][0] in cond_area:\n",
        "        Bldg_Lim[i]['CHWTON/SQFT'] = Bldg_Lim[i]['CHWTON'] / cond_area[Bldg_Lim[i]['bldgname'][0]]\n",
        "\n",
        "# Rearrange Columns\n",
        "for i in range(len(Bldg_Lim)):\n",
        "    cols = ['bldgname','Date','Time','Month','Day','Hour','Minute','Air Temp','Rel Hum','KW','CHWTON','CHWTON/SQFT']\n",
        "    Bldg_Lim[i] = Bldg_Lim[i][cols]\n",
        "\n",
        "# Drop NA rows in data\n",
        "for i in range(len(Bldg_Lim)):\n",
        "  Bldg_Lim[i] = Bldg_Lim[i].dropna()\n",
        "  Bldg_Lim[i] = Bldg_Lim[i].reset_index(drop=True)\n",
        "\n",
        "## BIG DATA ##\n",
        "# Rename 'Rel Humid' to 'Rel Hum' and drop 'index' column\n",
        "for i in range(len(Bldg_Big)):\n",
        "  Bldg_Big[i] = Bldg_Big[i].rename(columns = {'Rel Humid': 'Rel Hum'})\n",
        "  Bldg_Big[i] = Bldg_Big[i].drop(columns=['index'])"
      ],
      "id": "oNbjTFZDVeQj",
      "execution_count": 309,
      "outputs": []
    },
    {
      "cell_type": "code",
      "metadata": {
        "colab": {
          "base_uri": "https://localhost:8080/"
        },
        "id": "0YVaY6zNaoVM",
        "outputId": "3b9c37ee-d739-4332-8a0b-ee3faf0dd39d"
      },
      "source": [
        "# Check if NA in data\n",
        "for i in range(len(Bldg_Lim)):\n",
        "  null_data = Bldg_Lim[i][Bldg_Lim[i].isnull().any(axis=1)]\n",
        "  print(null_data)"
      ],
      "id": "0YVaY6zNaoVM",
      "execution_count": 310,
      "outputs": [
        {
          "output_type": "stream",
          "name": "stdout",
          "text": [
            "Empty DataFrame\n",
            "Columns: [bldgname, Date, Time, Month, Day, Hour, Minute, Air Temp, Rel Hum, KW, CHWTON, CHWTON/SQFT]\n",
            "Index: []\n",
            "Empty DataFrame\n",
            "Columns: [bldgname, Date, Time, Month, Day, Hour, Minute, Air Temp, Rel Hum, KW, CHWTON, CHWTON/SQFT]\n",
            "Index: []\n",
            "Empty DataFrame\n",
            "Columns: [bldgname, Date, Time, Month, Day, Hour, Minute, Air Temp, Rel Hum, KW, CHWTON, CHWTON/SQFT]\n",
            "Index: []\n",
            "Empty DataFrame\n",
            "Columns: [bldgname, Date, Time, Month, Day, Hour, Minute, Air Temp, Rel Hum, KW, CHWTON, CHWTON/SQFT]\n",
            "Index: []\n",
            "Empty DataFrame\n",
            "Columns: [bldgname, Date, Time, Month, Day, Hour, Minute, Air Temp, Rel Hum, KW, CHWTON, CHWTON/SQFT]\n",
            "Index: []\n",
            "Empty DataFrame\n",
            "Columns: [bldgname, Date, Time, Month, Day, Hour, Minute, Air Temp, Rel Hum, KW, CHWTON, CHWTON/SQFT]\n",
            "Index: []\n",
            "Empty DataFrame\n",
            "Columns: [bldgname, Date, Time, Month, Day, Hour, Minute, Air Temp, Rel Hum, KW, CHWTON, CHWTON/SQFT]\n",
            "Index: []\n",
            "Empty DataFrame\n",
            "Columns: [bldgname, Date, Time, Month, Day, Hour, Minute, Air Temp, Rel Hum, KW, CHWTON, CHWTON/SQFT]\n",
            "Index: []\n",
            "Empty DataFrame\n",
            "Columns: [bldgname, Date, Time, Month, Day, Hour, Minute, Air Temp, Rel Hum, KW, CHWTON, CHWTON/SQFT]\n",
            "Index: []\n",
            "Empty DataFrame\n",
            "Columns: [bldgname, Date, Time, Month, Day, Hour, Minute, Air Temp, Rel Hum, KW, CHWTON, CHWTON/SQFT]\n",
            "Index: []\n",
            "Empty DataFrame\n",
            "Columns: [bldgname, Date, Time, Month, Day, Hour, Minute, Air Temp, Rel Hum, KW, CHWTON, CHWTON/SQFT]\n",
            "Index: []\n"
          ]
        }
      ]
    },
    {
      "cell_type": "markdown",
      "metadata": {
        "id": "1umRuw8lsTqQ"
      },
      "source": [
        "# 3. Single Building Analysis - Big Data"
      ],
      "id": "1umRuw8lsTqQ"
    },
    {
      "cell_type": "markdown",
      "metadata": {
        "id": "j5l5AuKIsVl4"
      },
      "source": [
        "## 3.1 Select Building"
      ],
      "id": "j5l5AuKIsVl4"
    },
    {
      "cell_type": "code",
      "metadata": {
        "colab": {
          "base_uri": "https://localhost:8080/",
          "height": 623
        },
        "id": "GSwktBAaepBb",
        "outputId": "9cab7ab4-65e3-48a1-c7ee-e2500d4f0143"
      },
      "source": [
        "# Ask user to select building\n",
        "for i in range(len(Bldg_Big)):\n",
        "    print(i, Bldg_Big[i]['bldgname'][0])\n",
        "\n",
        "bldgnum_B = int(input(\"Enter the number of the building from the list above: \"))\n",
        "\n",
        "Bldg_Big[bldgnum_B]"
      ],
      "id": "GSwktBAaepBb",
      "execution_count": 288,
      "outputs": [
        {
          "name": "stdout",
          "output_type": "stream",
          "text": [
            "0 Noble Library\n",
            "1 Psychology\n",
            "2 Goldwater\n",
            "3 Biodesign B\n",
            "4 Biodesign A\n",
            "5 Biodesign C\n",
            "6 ISTB 4\n",
            "7 ISTB 2\n",
            "8 Bulldog Hall\n",
            "9 Schwada COB\n",
            "10 Psychology North\n",
            "Enter the number of the building from the list above: 2\n"
          ]
        },
        {
          "output_type": "execute_result",
          "data": {
            "text/html": [
              "<div>\n",
              "<style scoped>\n",
              "    .dataframe tbody tr th:only-of-type {\n",
              "        vertical-align: middle;\n",
              "    }\n",
              "\n",
              "    .dataframe tbody tr th {\n",
              "        vertical-align: top;\n",
              "    }\n",
              "\n",
              "    .dataframe thead th {\n",
              "        text-align: right;\n",
              "    }\n",
              "</style>\n",
              "<table border=\"1\" class=\"dataframe\">\n",
              "  <thead>\n",
              "    <tr style=\"text-align: right;\">\n",
              "      <th></th>\n",
              "      <th>bldgname</th>\n",
              "      <th>Month</th>\n",
              "      <th>Day</th>\n",
              "      <th>Hour</th>\n",
              "      <th>Minute</th>\n",
              "      <th>Air Temp</th>\n",
              "      <th>Rel Hum</th>\n",
              "      <th>KW</th>\n",
              "      <th>CHWTON</th>\n",
              "      <th>CHWTON/SQFT</th>\n",
              "    </tr>\n",
              "  </thead>\n",
              "  <tbody>\n",
              "    <tr>\n",
              "      <th>0</th>\n",
              "      <td>Goldwater</td>\n",
              "      <td>1</td>\n",
              "      <td>1</td>\n",
              "      <td>0</td>\n",
              "      <td>0</td>\n",
              "      <td>11.0</td>\n",
              "      <td>40.24</td>\n",
              "      <td>476.16</td>\n",
              "      <td>75.87</td>\n",
              "      <td>0.000459</td>\n",
              "    </tr>\n",
              "    <tr>\n",
              "      <th>1</th>\n",
              "      <td>Goldwater</td>\n",
              "      <td>1</td>\n",
              "      <td>1</td>\n",
              "      <td>0</td>\n",
              "      <td>15</td>\n",
              "      <td>11.0</td>\n",
              "      <td>40.24</td>\n",
              "      <td>474.88</td>\n",
              "      <td>73.43</td>\n",
              "      <td>0.000444</td>\n",
              "    </tr>\n",
              "    <tr>\n",
              "      <th>2</th>\n",
              "      <td>Goldwater</td>\n",
              "      <td>1</td>\n",
              "      <td>1</td>\n",
              "      <td>0</td>\n",
              "      <td>30</td>\n",
              "      <td>10.0</td>\n",
              "      <td>43.01</td>\n",
              "      <td>475.31</td>\n",
              "      <td>69.49</td>\n",
              "      <td>0.000421</td>\n",
              "    </tr>\n",
              "    <tr>\n",
              "      <th>3</th>\n",
              "      <td>Goldwater</td>\n",
              "      <td>1</td>\n",
              "      <td>1</td>\n",
              "      <td>0</td>\n",
              "      <td>45</td>\n",
              "      <td>9.0</td>\n",
              "      <td>46.00</td>\n",
              "      <td>475.08</td>\n",
              "      <td>66.81</td>\n",
              "      <td>0.000404</td>\n",
              "    </tr>\n",
              "    <tr>\n",
              "      <th>4</th>\n",
              "      <td>Goldwater</td>\n",
              "      <td>1</td>\n",
              "      <td>1</td>\n",
              "      <td>1</td>\n",
              "      <td>0</td>\n",
              "      <td>9.0</td>\n",
              "      <td>46.00</td>\n",
              "      <td>477.92</td>\n",
              "      <td>71.85</td>\n",
              "      <td>0.000435</td>\n",
              "    </tr>\n",
              "    <tr>\n",
              "      <th>...</th>\n",
              "      <td>...</td>\n",
              "      <td>...</td>\n",
              "      <td>...</td>\n",
              "      <td>...</td>\n",
              "      <td>...</td>\n",
              "      <td>...</td>\n",
              "      <td>...</td>\n",
              "      <td>...</td>\n",
              "      <td>...</td>\n",
              "      <td>...</td>\n",
              "    </tr>\n",
              "    <tr>\n",
              "      <th>34619</th>\n",
              "      <td>Goldwater</td>\n",
              "      <td>12</td>\n",
              "      <td>31</td>\n",
              "      <td>22</td>\n",
              "      <td>0</td>\n",
              "      <td>6.0</td>\n",
              "      <td>93.30</td>\n",
              "      <td>486.12</td>\n",
              "      <td>14.18</td>\n",
              "      <td>0.000086</td>\n",
              "    </tr>\n",
              "    <tr>\n",
              "      <th>34620</th>\n",
              "      <td>Goldwater</td>\n",
              "      <td>12</td>\n",
              "      <td>31</td>\n",
              "      <td>22</td>\n",
              "      <td>15</td>\n",
              "      <td>5.0</td>\n",
              "      <td>100.00</td>\n",
              "      <td>480.80</td>\n",
              "      <td>12.06</td>\n",
              "      <td>0.000073</td>\n",
              "    </tr>\n",
              "    <tr>\n",
              "      <th>34621</th>\n",
              "      <td>Goldwater</td>\n",
              "      <td>12</td>\n",
              "      <td>31</td>\n",
              "      <td>22</td>\n",
              "      <td>30</td>\n",
              "      <td>5.0</td>\n",
              "      <td>100.00</td>\n",
              "      <td>479.43</td>\n",
              "      <td>10.82</td>\n",
              "      <td>0.000065</td>\n",
              "    </tr>\n",
              "    <tr>\n",
              "      <th>34622</th>\n",
              "      <td>Goldwater</td>\n",
              "      <td>12</td>\n",
              "      <td>31</td>\n",
              "      <td>22</td>\n",
              "      <td>45</td>\n",
              "      <td>6.0</td>\n",
              "      <td>93.30</td>\n",
              "      <td>480.42</td>\n",
              "      <td>8.30</td>\n",
              "      <td>0.000050</td>\n",
              "    </tr>\n",
              "    <tr>\n",
              "      <th>34623</th>\n",
              "      <td>Goldwater</td>\n",
              "      <td>12</td>\n",
              "      <td>31</td>\n",
              "      <td>23</td>\n",
              "      <td>0</td>\n",
              "      <td>6.0</td>\n",
              "      <td>93.30</td>\n",
              "      <td>479.67</td>\n",
              "      <td>10.22</td>\n",
              "      <td>0.000062</td>\n",
              "    </tr>\n",
              "  </tbody>\n",
              "</table>\n",
              "<p>34624 rows × 10 columns</p>\n",
              "</div>"
            ],
            "text/plain": [
              "        bldgname  Month  Day  Hour  ...  Rel Hum      KW  CHWTON  CHWTON/SQFT\n",
              "0      Goldwater      1    1     0  ...    40.24  476.16   75.87     0.000459\n",
              "1      Goldwater      1    1     0  ...    40.24  474.88   73.43     0.000444\n",
              "2      Goldwater      1    1     0  ...    43.01  475.31   69.49     0.000421\n",
              "3      Goldwater      1    1     0  ...    46.00  475.08   66.81     0.000404\n",
              "4      Goldwater      1    1     1  ...    46.00  477.92   71.85     0.000435\n",
              "...          ...    ...  ...   ...  ...      ...     ...     ...          ...\n",
              "34619  Goldwater     12   31    22  ...    93.30  486.12   14.18     0.000086\n",
              "34620  Goldwater     12   31    22  ...   100.00  480.80   12.06     0.000073\n",
              "34621  Goldwater     12   31    22  ...   100.00  479.43   10.82     0.000065\n",
              "34622  Goldwater     12   31    22  ...    93.30  480.42    8.30     0.000050\n",
              "34623  Goldwater     12   31    23  ...    93.30  479.67   10.22     0.000062\n",
              "\n",
              "[34624 rows x 10 columns]"
            ]
          },
          "metadata": {},
          "execution_count": 288
        }
      ]
    },
    {
      "cell_type": "markdown",
      "metadata": {
        "id": "FcP5TbQ5skSV"
      },
      "source": [
        "## 3.2 EDA"
      ],
      "id": "FcP5TbQ5skSV"
    },
    {
      "cell_type": "markdown",
      "metadata": {
        "id": "l2LsyH43sY-R"
      },
      "source": [
        "### 3.2.1 Boxplots"
      ],
      "id": "l2LsyH43sY-R"
    },
    {
      "cell_type": "code",
      "metadata": {
        "colab": {
          "base_uri": "https://localhost:8080/",
          "height": 832
        },
        "id": "XU5wq_f7fIib",
        "outputId": "5766d2c9-0862-4256-8323-9184e8666566"
      },
      "source": [
        "# Show df columns to select for boxplot\n",
        "x = Bldg_Big[bldgnum_B].columns\n",
        "for i in range(len(x)):\n",
        "    print(i, x[i])\n",
        "# Get column name from user\n",
        "colname = int(input(\"Enter the number of the following data columns to graph boxplot: \"))\n",
        "# Plot\n",
        "print('\\n',Bldg_Big[bldgnum_B]['bldgname'][0])\n",
        "Bldg_Big[bldgnum_B].boxplot(by='Month', column=x[colname], grid = False, figsize = (8,8))"
      ],
      "id": "XU5wq_f7fIib",
      "execution_count": 289,
      "outputs": [
        {
          "output_type": "stream",
          "name": "stdout",
          "text": [
            "0 bldgname\n",
            "1 Month\n",
            "2 Day\n",
            "3 Hour\n",
            "4 Minute\n",
            "5 Air Temp\n",
            "6 Rel Hum\n",
            "7 KW\n",
            "8 CHWTON\n",
            "9 CHWTON/SQFT\n",
            "Enter the number of the following data columns to graph boxplot: 9\n",
            "\n",
            " Goldwater\n"
          ]
        },
        {
          "output_type": "stream",
          "name": "stderr",
          "text": [
            "/usr/local/lib/python3.7/dist-packages/numpy/core/_asarray.py:83: VisibleDeprecationWarning: Creating an ndarray from ragged nested sequences (which is a list-or-tuple of lists-or-tuples-or ndarrays with different lengths or shapes) is deprecated. If you meant to do this, you must specify 'dtype=object' when creating the ndarray\n",
            "  return array(a, dtype, copy=False, order=order)\n"
          ]
        },
        {
          "output_type": "execute_result",
          "data": {
            "text/plain": [
              "<matplotlib.axes._subplots.AxesSubplot at 0x7fa54811a510>"
            ]
          },
          "metadata": {},
          "execution_count": 289
        },
        {
          "output_type": "display_data",
          "data": {
            "image/png": "[encoded data removed]",
            "text/plain": [
              "<Figure size 576x576 with 1 Axes>"
            ]
          },
          "metadata": {
            "needs_background": "light"
          }
        }
      ]
    },
    {
      "cell_type": "markdown",
      "metadata": {
        "id": "1bkjN8CdtYgA"
      },
      "source": [
        "### 3.2.2 Time Series"
      ],
      "id": "1bkjN8CdtYgA"
    },
    {
      "cell_type": "code",
      "metadata": {
        "id": "ukK2WxsztWuD"
      },
      "source": [
        "### will work on create Date and Time column for big data to visualize vs Limited Data"
      ],
      "id": "ukK2WxsztWuD",
      "execution_count": 323,
      "outputs": []
    },
    {
      "cell_type": "markdown",
      "metadata": {
        "id": "35d68606"
      },
      "source": [
        "# 4. Single Building Analysis - Limited Data"
      ],
      "id": "35d68606"
    },
    {
      "cell_type": "markdown",
      "metadata": {
        "id": "nDGlxtORWiit"
      },
      "source": [
        "## 4.1 Select Building"
      ],
      "id": "nDGlxtORWiit"
    },
    {
      "cell_type": "code",
      "metadata": {
        "colab": {
          "base_uri": "https://localhost:8080/",
          "height": 408
        },
        "id": "EXFKvTh7Wen5",
        "outputId": "b7f26aa4-e675-4c4c-a102-72bbfedaeccc"
      },
      "source": [
        "# Ask user to select building\n",
        "for i in range(len(Bldg_Lim)):\n",
        "    print(i, Bldg_Lim[i]['bldgname'][0])\n",
        "\n",
        "bldgnum_L = int(input(\"Enter the number of the building from the list above: \"))\n",
        "\n",
        "Bldg_Lim[bldgnum_L].head()"
      ],
      "id": "EXFKvTh7Wen5",
      "execution_count": 316,
      "outputs": [
        {
          "name": "stdout",
          "output_type": "stream",
          "text": [
            "0 ISTB 2\n",
            "1 Noble Library\n",
            "2 Psychology\n",
            "3 Schwada COB\n",
            "4 Goldwater\n",
            "5 Biodesign A\n",
            "6 Biodesign C\n",
            "7 Bulldog Hall\n",
            "8 Psychology North\n",
            "9 ISTB 4\n",
            "10 Biodesign B\n",
            "Enter the number of the building from the list above: 2\n"
          ]
        },
        {
          "output_type": "execute_result",
          "data": {
            "text/html": [
              "<div>\n",
              "<style scoped>\n",
              "    .dataframe tbody tr th:only-of-type {\n",
              "        vertical-align: middle;\n",
              "    }\n",
              "\n",
              "    .dataframe tbody tr th {\n",
              "        vertical-align: top;\n",
              "    }\n",
              "\n",
              "    .dataframe thead th {\n",
              "        text-align: right;\n",
              "    }\n",
              "</style>\n",
              "<table border=\"1\" class=\"dataframe\">\n",
              "  <thead>\n",
              "    <tr style=\"text-align: right;\">\n",
              "      <th></th>\n",
              "      <th>bldgname</th>\n",
              "      <th>Date</th>\n",
              "      <th>Time</th>\n",
              "      <th>Month</th>\n",
              "      <th>Day</th>\n",
              "      <th>Hour</th>\n",
              "      <th>Minute</th>\n",
              "      <th>Air Temp</th>\n",
              "      <th>Rel Hum</th>\n",
              "      <th>KW</th>\n",
              "      <th>CHWTON</th>\n",
              "      <th>CHWTON/SQFT</th>\n",
              "    </tr>\n",
              "  </thead>\n",
              "  <tbody>\n",
              "    <tr>\n",
              "      <th>0</th>\n",
              "      <td>Psychology</td>\n",
              "      <td>2018-05-16</td>\n",
              "      <td>05:00</td>\n",
              "      <td>5</td>\n",
              "      <td>16</td>\n",
              "      <td>5</td>\n",
              "      <td>0</td>\n",
              "      <td>23.438443</td>\n",
              "      <td>21.523566</td>\n",
              "      <td>108.45</td>\n",
              "      <td>120.18</td>\n",
              "      <td>0.001720</td>\n",
              "    </tr>\n",
              "    <tr>\n",
              "      <th>1</th>\n",
              "      <td>Psychology</td>\n",
              "      <td>2018-05-16</td>\n",
              "      <td>05:15</td>\n",
              "      <td>5</td>\n",
              "      <td>16</td>\n",
              "      <td>5</td>\n",
              "      <td>15</td>\n",
              "      <td>23.914056</td>\n",
              "      <td>24.374523</td>\n",
              "      <td>108.68</td>\n",
              "      <td>129.16</td>\n",
              "      <td>0.001849</td>\n",
              "    </tr>\n",
              "    <tr>\n",
              "      <th>2</th>\n",
              "      <td>Psychology</td>\n",
              "      <td>2018-05-16</td>\n",
              "      <td>05:30</td>\n",
              "      <td>5</td>\n",
              "      <td>16</td>\n",
              "      <td>5</td>\n",
              "      <td>30</td>\n",
              "      <td>23.775401</td>\n",
              "      <td>23.998164</td>\n",
              "      <td>109.12</td>\n",
              "      <td>112.29</td>\n",
              "      <td>0.001607</td>\n",
              "    </tr>\n",
              "    <tr>\n",
              "      <th>3</th>\n",
              "      <td>Psychology</td>\n",
              "      <td>2018-05-16</td>\n",
              "      <td>05:45</td>\n",
              "      <td>5</td>\n",
              "      <td>16</td>\n",
              "      <td>5</td>\n",
              "      <td>45</td>\n",
              "      <td>23.674907</td>\n",
              "      <td>24.049482</td>\n",
              "      <td>117.51</td>\n",
              "      <td>139.02</td>\n",
              "      <td>0.001990</td>\n",
              "    </tr>\n",
              "    <tr>\n",
              "      <th>4</th>\n",
              "      <td>Psychology</td>\n",
              "      <td>2018-05-16</td>\n",
              "      <td>06:00</td>\n",
              "      <td>5</td>\n",
              "      <td>16</td>\n",
              "      <td>6</td>\n",
              "      <td>0</td>\n",
              "      <td>23.553148</td>\n",
              "      <td>24.308337</td>\n",
              "      <td>122.35</td>\n",
              "      <td>139.27</td>\n",
              "      <td>0.001993</td>\n",
              "    </tr>\n",
              "  </tbody>\n",
              "</table>\n",
              "</div>"
            ],
            "text/plain": [
              "     bldgname        Date   Time  Month  ...    Rel Hum      KW  CHWTON  CHWTON/SQFT\n",
              "0  Psychology  2018-05-16  05:00      5  ...  21.523566  108.45  120.18     0.001720\n",
              "1  Psychology  2018-05-16  05:15      5  ...  24.374523  108.68  129.16     0.001849\n",
              "2  Psychology  2018-05-16  05:30      5  ...  23.998164  109.12  112.29     0.001607\n",
              "3  Psychology  2018-05-16  05:45      5  ...  24.049482  117.51  139.02     0.001990\n",
              "4  Psychology  2018-05-16  06:00      5  ...  24.308337  122.35  139.27     0.001993\n",
              "\n",
              "[5 rows x 12 columns]"
            ]
          },
          "metadata": {},
          "execution_count": 316
        }
      ]
    },
    {
      "cell_type": "markdown",
      "metadata": {
        "id": "lBzm9pDRW2L2"
      },
      "source": [
        "## 4.2 EDA"
      ],
      "id": "lBzm9pDRW2L2"
    },
    {
      "cell_type": "markdown",
      "metadata": {
        "id": "qU-_AGApW59A"
      },
      "source": [
        "### 4.2.1 Boxplots"
      ],
      "id": "qU-_AGApW59A"
    },
    {
      "cell_type": "code",
      "metadata": {
        "colab": {
          "base_uri": "https://localhost:8080/",
          "height": 866
        },
        "id": "5yj10zCHXrd2",
        "outputId": "06651679-4e58-4903-c3c7-8fb971826ec5"
      },
      "source": [
        "# Show df columns to select for boxplot\n",
        "x = Bldg_Lim[bldgnum_L].columns\n",
        "for i in range(len(x)):\n",
        "    print(i, x[i])\n",
        "# Get column name from user\n",
        "colname = int(input(\"Enter the number of the following data columns to graph boxplot: \"))\n",
        "# Plot\n",
        "print('\\n',Bldg_Lim[bldgnum_L]['bldgname'][0])\n",
        "Bldg_Lim[bldgnum_L].boxplot(by='Hour', column=x[colname], grid = False, figsize = (8,8))"
      ],
      "id": "5yj10zCHXrd2",
      "execution_count": 317,
      "outputs": [
        {
          "output_type": "stream",
          "name": "stdout",
          "text": [
            "0 bldgname\n",
            "1 Date\n",
            "2 Time\n",
            "3 Month\n",
            "4 Day\n",
            "5 Hour\n",
            "6 Minute\n",
            "7 Air Temp\n",
            "8 Rel Hum\n",
            "9 KW\n",
            "10 CHWTON\n",
            "11 CHWTON/SQFT\n",
            "Enter the number of the following data columns to graph boxplot: 11\n",
            "\n",
            " Psychology\n"
          ]
        },
        {
          "output_type": "stream",
          "name": "stderr",
          "text": [
            "/usr/local/lib/python3.7/dist-packages/numpy/core/_asarray.py:83: VisibleDeprecationWarning: Creating an ndarray from ragged nested sequences (which is a list-or-tuple of lists-or-tuples-or ndarrays with different lengths or shapes) is deprecated. If you meant to do this, you must specify 'dtype=object' when creating the ndarray\n",
            "  return array(a, dtype, copy=False, order=order)\n"
          ]
        },
        {
          "output_type": "execute_result",
          "data": {
            "text/plain": [
              "<matplotlib.axes._subplots.AxesSubplot at 0x7fa548900ad0>"
            ]
          },
          "metadata": {},
          "execution_count": 317
        },
        {
          "output_type": "display_data",
          "data": {
            "image/png": "[encoded data removed]",
            "text/plain": [
              "<Figure size 576x576 with 1 Axes>"
            ]
          },
          "metadata": {
            "needs_background": "light"
          }
        }
      ]
    },
    {
      "cell_type": "markdown",
      "metadata": {
        "id": "5ZnkagfyYECY"
      },
      "source": [
        "### 4.2.2 Time Series"
      ],
      "id": "5ZnkagfyYECY"
    },
    {
      "cell_type": "markdown",
      "metadata": {
        "id": "yBl3v65SYIAu"
      },
      "source": [
        "Month available:<br>\n",
        "May: 16, 23 <br>\n",
        "June: 7, 8, 20, 21, 25<br>\n",
        "August: 3<br>\n",
        "September: 11, 29<br>"
      ],
      "id": "yBl3v65SYIAu"
    },
    {
      "cell_type": "code",
      "metadata": {
        "colab": {
          "base_uri": "https://localhost:8080/",
          "height": 1000
        },
        "id": "8GiSWYYeYF2F",
        "outputId": "eb2adc1c-d153-481e-9d8b-e1837b476090"
      },
      "source": [
        "import datetime\n",
        "# Get month number for plotting\n",
        "m_num = int(input(\"Enter month number: \"))\n",
        "# Convert to datetime to get month name\n",
        "datetime_object = datetime.datetime.strptime(str(m_num), \"%m\")\n",
        "m_name = datetime_object.strftime(\"%b\")\n",
        "\n",
        "# Plot only if entered month is in data\n",
        "if m_num in Bldg_Lim[bldgnum_L]['Month'].unique():\n",
        "    from datetime import datetime\n",
        "    # Assign new df for chosen month\n",
        "    plotdf = pd.DataFrame(Bldg_Lim[bldgnum_L][(Bldg_Lim[bldgnum_L]['Month'] == m_num)])\n",
        "    # Show number of days found in chosen month\n",
        "    x = plotdf['Date'].unique()\n",
        "    print(\"\\n\", len(x), \"day(s) found in\", m_name, \"\\n\")\n",
        "    # Show all columns to select y-axis for plotting\n",
        "    cols = plotdf.columns\n",
        "    for i in range(len(cols)):\n",
        "        print(i, cols[i])\n",
        "    # Get y-axis for plotting\n",
        "    y_ax = int(input('Enter y-axis from column list above: '))\n",
        "    y_ax = cols[y_ax]\n",
        "    for i in range(len(x)):\n",
        "        datetime_object = datetime.strptime(x[i], '%Y-%m-%d')\n",
        "        days = ['Monday', 'Tuesday', 'Wednesday', 'Thursday', 'Friday', 'Saturday', 'Sunday']\n",
        "        d = days[datetime_object.weekday()]\n",
        "        plotdf1 = plotdf[(plotdf['Date']==x[i])]\n",
        "        plotdf1.plot(x = 'Time', y = y_ax, grid = False, figsize = (8,8), title = x[i] + ' ' + d)\n",
        "else:\n",
        "    print(\"Month number not in data\")"
      ],
      "id": "8GiSWYYeYF2F",
      "execution_count": 318,
      "outputs": [
        {
          "name": "stdout",
          "output_type": "stream",
          "text": [
            "Enter month number: 5\n",
            "\n",
            " 2 day(s) found in May \n",
            "\n",
            "0 bldgname\n",
            "1 Date\n",
            "2 Time\n",
            "3 Month\n",
            "4 Day\n",
            "5 Hour\n",
            "6 Minute\n",
            "7 Air Temp\n",
            "8 Rel Hum\n",
            "9 KW\n",
            "10 CHWTON\n",
            "11 CHWTON/SQFT\n",
            "Enter y-axis from column list above: 11\n"
          ]
        },
        {
          "output_type": "display_data",
          "data": {
            "image/png": "[encoded data removed]",
            "text/plain": [
              "<Figure size 576x576 with 1 Axes>"
            ]
          },
          "metadata": {
            "needs_background": "light"
          }
        },
        {
          "output_type": "display_data",
          "data": {
            "image/png": "[encoded data removed]",
            "text/plain": [
              "<Figure size 576x576 with 1 Axes>"
            ]
          },
          "metadata": {
            "needs_background": "light"
          }
        }
      ]
    },
    {
      "cell_type": "markdown",
      "metadata": {
        "id": "O_LGJq45YwcF"
      },
      "source": [
        "### 4.2.3 Correlation Matrix"
      ],
      "id": "O_LGJq45YwcF"
    },
    {
      "cell_type": "code",
      "metadata": {
        "colab": {
          "base_uri": "https://localhost:8080/",
          "height": 351
        },
        "id": "ElBa562xYxm6",
        "outputId": "ab7d5dc1-58f0-4ff8-df99-7e27fabb0566"
      },
      "source": [
        "corr_pd = pd.DataFrame(Bldg_Lim[bldgnum_L][['Time','Air Temp','Rel Hum','KW','Month','Hour','Day', 'CHWTON/SQFT']])\n",
        "corrMatrix = corr_pd.corr()\n",
        "sns.heatmap(corrMatrix)"
      ],
      "id": "ElBa562xYxm6",
      "execution_count": 319,
      "outputs": [
        {
          "output_type": "execute_result",
          "data": {
            "text/plain": [
              "<matplotlib.axes._subplots.AxesSubplot at 0x7fa548903490>"
            ]
          },
          "metadata": {},
          "execution_count": 319
        },
        {
          "output_type": "display_data",
          "data": {
            "image/png": "[encoded data removed]",
            "text/plain": [
              "<Figure size 432x288 with 2 Axes>"
            ]
          },
          "metadata": {
            "needs_background": "light"
          }
        }
      ]
    },
    {
      "cell_type": "markdown",
      "metadata": {
        "id": "648884d9"
      },
      "source": [
        "# 5. Train Models on both datasets "
      ],
      "id": "648884d9"
    },
    {
      "cell_type": "markdown",
      "metadata": {
        "id": "LYCunDz4szhq"
      },
      "source": [
        "## 5.1 Define Generalized Model Functions"
      ],
      "id": "LYCunDz4szhq"
    },
    {
      "cell_type": "code",
      "metadata": {
        "id": "023b6ba6"
      },
      "source": [
        "#using single layer ANN. Model Parameters: hidden layer- 10 neurons, output layer- 1 neuron\n",
        "from tensorflow.python.keras.models import Sequential\n",
        "from tensorflow.python.keras.layers import Dense\n",
        "from tensorflow.keras import initializers\n",
        "import tensorflow as tf\n",
        "from tensorflow import keras\n",
        "from tensorflow.keras.layers import LeakyReLU\n",
        "from tensorflow.keras.optimizers import SGD\n",
        "from sklearn.model_selection import train_test_split\n",
        "from sklearn.preprocessing import StandardScaler\n",
        "from tensorflow.keras import backend as K\n",
        "def prepare_data(dataset):\n",
        "    Y = dataset['CHWTON/SQFT']\n",
        "    X = dataset[['Air Temp', 'Rel Hum']]\n",
        "    Y= Y.values.reshape(-1, 1)\n",
        "    # create scaler\n",
        "    scaler1 = StandardScaler()\n",
        "    X_scaled = scaler1.fit_transform(X)\n",
        "    print(X_scaled.shape)\n",
        "    # #do for output variables\n",
        "    scaler2 = StandardScaler()\n",
        "    Y_scaled = scaler2.fit_transform(Y)\n",
        "    X_scaled = np.asarray(X_scaled).astype('float32')\n",
        "    Y_scaled = np.asarray(Y_scaled).astype('float32')\n",
        "    return X_scaled,Y_scaled\n",
        "def define_model(activation_type, hidden_layers):\n",
        "    model = Sequential()\n",
        "    if activation_type == 'leaky_relu':\n",
        "        model.add(Dense(10, input_dim=2, kernel_initializer='he_normal'))\n",
        "        model.add(LeakyReLU(alpha=0.1))\n",
        "        for i in range(0,(hidden_layers-2)):\n",
        "            model.add(Dense(8))\n",
        "            model.add(LeakyReLU(alpha=0.1))\n",
        "        model.add(Dense(12))\n",
        "        model.add(LeakyReLU(alpha=0.1))\n",
        "        model.add(Dense(1, activation='linear'))\n",
        "    else:\n",
        "        model.add(Dense(10, input_dim=2, kernel_initializer='he_normal', activation=activation_type))\n",
        "        for i in range(0,(hidden_layers-2)):\n",
        "            model.add(Dense(8, activation=activation_type))\n",
        "        model.add(Dense(12, activation=activation_type))\n",
        "        model.add(Dense(1, activation='linear'))\n",
        "    model.summary()\n",
        "    model.compile(loss='mse', optimizer='adam', metrics = ['mse','mae'])\n",
        "    return model\n",
        "def plot_curve(history):\n",
        "    plt.plot(history.history['loss'])\n",
        "    plt.plot(history.history['val_loss'])\n",
        "    plt.title('model loss')\n",
        "    plt.ylabel('loss')\n",
        "    plt.xlabel('epoch')\n",
        "    plt.legend(['train', 'validation'], loc='upper left')\n",
        "    plt.show()\n",
        "def evaluate(model,X,Y):\n",
        "    #evaluate on test dataset, add evaluation parameters\n",
        "    Y_preds = model.predict(X)\n",
        "    RMSE = np.sqrt(metrics.mean_squared_error(Y, Y_preds))\n",
        "    test_loss = model.evaluate(X, Y)\n",
        "    return RMSE, test_loss"
      ],
      "id": "023b6ba6",
      "execution_count": 324,
      "outputs": []
    },
    {
      "cell_type": "markdown",
      "metadata": {
        "id": "4f211eeb"
      },
      "source": [
        "## 5.2 Prepare Data for feeding into training loop"
      ],
      "id": "4f211eeb"
    },
    {
      "cell_type": "code",
      "metadata": {
        "colab": {
          "base_uri": "https://localhost:8080/"
        },
        "id": "IWQN1vHce_Kq",
        "outputId": "c4b04c43-510c-4fa2-f96c-86a667df0971"
      },
      "source": [
        "# Limited Data\n",
        "X_limited,y_limited = prepare_data(Bldg_Lim[bldgnum_L])\n",
        "X_limited_train, X_limited_test, y_limited_train,y_limited_test = train_test_split(X, y, test_size=0.2, random_state=20)\n",
        "X,Y = prepare_data(Bldg_Big[bldgnum_B])\n",
        "X_train, X_test, Y_train,Y_test = train_test_split(X, Y, test_size=0.2, random_state=20)"
      ],
      "id": "IWQN1vHce_Kq",
      "execution_count": 326,
      "outputs": [
        {
          "output_type": "stream",
          "name": "stdout",
          "text": [
            "(638, 2)\n",
            "(34624, 2)\n"
          ]
        }
      ]
    },
    {
      "cell_type": "code",
      "metadata": {
        "colab": {
          "base_uri": "https://localhost:8080/",
          "height": 419
        },
        "id": "eT4jtNIjxilZ",
        "outputId": "f02934ee-5ba8-4033-a58b-5b7d1ac93943"
      },
      "source": [
        "X_limited_test"
      ],
      "id": "eT4jtNIjxilZ",
      "execution_count": 332,
      "outputs": [
        {
          "output_type": "execute_result",
          "data": {
            "text/html": [
              "<div>\n",
              "<style scoped>\n",
              "    .dataframe tbody tr th:only-of-type {\n",
              "        vertical-align: middle;\n",
              "    }\n",
              "\n",
              "    .dataframe tbody tr th {\n",
              "        vertical-align: top;\n",
              "    }\n",
              "\n",
              "    .dataframe thead th {\n",
              "        text-align: right;\n",
              "    }\n",
              "</style>\n",
              "<table border=\"1\" class=\"dataframe\">\n",
              "  <thead>\n",
              "    <tr style=\"text-align: right;\">\n",
              "      <th></th>\n",
              "      <th>Air Temp</th>\n",
              "      <th>Rel Hum</th>\n",
              "    </tr>\n",
              "  </thead>\n",
              "  <tbody>\n",
              "    <tr>\n",
              "      <th>193</th>\n",
              "      <td>37.192846</td>\n",
              "      <td>8.677207</td>\n",
              "    </tr>\n",
              "    <tr>\n",
              "      <th>14</th>\n",
              "      <td>27.580720</td>\n",
              "      <td>21.991502</td>\n",
              "    </tr>\n",
              "    <tr>\n",
              "      <th>163</th>\n",
              "      <td>27.638618</td>\n",
              "      <td>21.178537</td>\n",
              "    </tr>\n",
              "    <tr>\n",
              "      <th>93</th>\n",
              "      <td>26.946125</td>\n",
              "      <td>23.423542</td>\n",
              "    </tr>\n",
              "    <tr>\n",
              "      <th>319</th>\n",
              "      <td>29.886466</td>\n",
              "      <td>23.664887</td>\n",
              "    </tr>\n",
              "    <tr>\n",
              "      <th>...</th>\n",
              "      <td>...</td>\n",
              "      <td>...</td>\n",
              "    </tr>\n",
              "    <tr>\n",
              "      <th>733</th>\n",
              "      <td>36.395348</td>\n",
              "      <td>17.343559</td>\n",
              "    </tr>\n",
              "    <tr>\n",
              "      <th>411</th>\n",
              "      <td>37.556784</td>\n",
              "      <td>12.746310</td>\n",
              "    </tr>\n",
              "    <tr>\n",
              "      <th>660</th>\n",
              "      <td>39.160002</td>\n",
              "      <td>15.440335</td>\n",
              "    </tr>\n",
              "    <tr>\n",
              "      <th>351</th>\n",
              "      <td>39.447147</td>\n",
              "      <td>9.197441</td>\n",
              "    </tr>\n",
              "    <tr>\n",
              "      <th>46</th>\n",
              "      <td>34.541187</td>\n",
              "      <td>8.993074</td>\n",
              "    </tr>\n",
              "  </tbody>\n",
              "</table>\n",
              "<p>128 rows × 2 columns</p>\n",
              "</div>"
            ],
            "text/plain": [
              "      Air Temp    Rel Hum\n",
              "193  37.192846   8.677207\n",
              "14   27.580720  21.991502\n",
              "163  27.638618  21.178537\n",
              "93   26.946125  23.423542\n",
              "319  29.886466  23.664887\n",
              "..         ...        ...\n",
              "733  36.395348  17.343559\n",
              "411  37.556784  12.746310\n",
              "660  39.160002  15.440335\n",
              "351  39.447147   9.197441\n",
              "46   34.541187   8.993074\n",
              "\n",
              "[128 rows x 2 columns]"
            ]
          },
          "metadata": {},
          "execution_count": 332
        }
      ]
    },
    {
      "cell_type": "markdown",
      "metadata": {
        "id": "117a18fd"
      },
      "source": [
        "## 5.3 Hyperparameter Tuning experiments"
      ],
      "id": "117a18fd"
    },
    {
      "cell_type": "code",
      "metadata": {
        "id": "394685f8"
      },
      "source": [
        "activation_functions = ['relu','elu','selu','leaky_relu','tanh']\n",
        "no_hidden_layers = [1,3,5,7,9,11]\n",
        "row_headings = ['1','3','5','7','9','11']\n",
        "eval_func = []\n",
        "for func in activation_functions:\n",
        "    eval_func_layers = []\n",
        "    for hl in no_hidden_layers:\n",
        "        model = define_model(func,hl)\n",
        "        history = model.fit(X_train, Y_train, batch_size=128, epochs=100,  validation_split=0.2)\n",
        "        RMSE, _ = evaluate(model, X_test, Y_test)\n",
        "        eval_func_layers.append(RMSE)\n",
        "    eval_func.append(eval_func_layers)\n",
        "print(eval_func)   \n",
        "tab = pd.DataFrame(eval_func, activation_functions, row_headings)\n",
        "print(tab)\n",
        "        \n"
      ],
      "id": "394685f8",
      "execution_count": null,
      "outputs": []
    },
    {
      "cell_type": "markdown",
      "metadata": {
        "id": "f0ba3fec"
      },
      "source": [
        "## 5.4 Train Model with Optimized hyperparameters"
      ],
      "id": "f0ba3fec"
    },
    {
      "cell_type": "code",
      "metadata": {
        "id": "e15c0f49"
      },
      "source": [
        "base_model = define_model('relu',3)\n",
        "history = base_model.fit(X_train, Y_train, batch_size=128, epochs=100, verbose=1, validation_split=0.2)"
      ],
      "id": "e15c0f49",
      "execution_count": null,
      "outputs": []
    },
    {
      "cell_type": "markdown",
      "metadata": {
        "id": "07d9d4ee"
      },
      "source": [
        "## 5.5 Evaluate Base Model with Big Dataset and Limited Dataset"
      ],
      "id": "07d9d4ee"
    },
    {
      "cell_type": "code",
      "metadata": {
        "colab": {
          "base_uri": "https://localhost:8080/",
          "height": 510
        },
        "id": "eff03f75",
        "outputId": "f540dfb5-c8d8-415b-bb4c-af440b86cfa2"
      },
      "source": [
        "plot_curve(history)\n",
        "RMSE, _ = evaluate(base_model, X_test, Y_test)\n",
        "RMSE_base, _ = evaluate(base_model, X_limited,Y_limited)\n",
        "print(RMSE)\n",
        "print(RMSE_base)"
      ],
      "id": "eff03f75",
      "execution_count": 35,
      "outputs": [
        {
          "output_type": "display_data",
          "data": {
            "image/png": "[encoded data removed]",
            "text/plain": [
              "<Figure size 432x288 with 1 Axes>"
            ]
          },
          "metadata": {
            "needs_background": "light"
          }
        },
        {
          "output_type": "error",
          "ename": "NameError",
          "evalue": "ignored",
          "traceback": [
            "\u001b[0;31m---------------------------------------------------------------------------\u001b[0m",
            "\u001b[0;31mNameError\u001b[0m                                 Traceback (most recent call last)",
            "\u001b[0;32m<ipython-input-35-f2ae1559ce94>\u001b[0m in \u001b[0;36m<module>\u001b[0;34m()\u001b[0m\n\u001b[1;32m      1\u001b[0m \u001b[0mplot_curve\u001b[0m\u001b[0;34m(\u001b[0m\u001b[0mhistory\u001b[0m\u001b[0;34m)\u001b[0m\u001b[0;34m\u001b[0m\u001b[0;34m\u001b[0m\u001b[0m\n\u001b[0;32m----> 2\u001b[0;31m \u001b[0mRMSE\u001b[0m\u001b[0;34m,\u001b[0m \u001b[0m_\u001b[0m \u001b[0;34m=\u001b[0m \u001b[0mevaluate\u001b[0m\u001b[0;34m(\u001b[0m\u001b[0mbase_model\u001b[0m\u001b[0;34m,\u001b[0m \u001b[0mX_test\u001b[0m\u001b[0;34m,\u001b[0m \u001b[0mY_test\u001b[0m\u001b[0;34m)\u001b[0m\u001b[0;34m\u001b[0m\u001b[0;34m\u001b[0m\u001b[0m\n\u001b[0m\u001b[1;32m      3\u001b[0m \u001b[0mRMSE_base\u001b[0m\u001b[0;34m,\u001b[0m \u001b[0m_\u001b[0m \u001b[0;34m=\u001b[0m \u001b[0mevaluate\u001b[0m\u001b[0;34m(\u001b[0m\u001b[0mbase_model\u001b[0m\u001b[0;34m,\u001b[0m \u001b[0mX_limited\u001b[0m\u001b[0;34m,\u001b[0m\u001b[0mY_limited\u001b[0m\u001b[0;34m)\u001b[0m\u001b[0;34m\u001b[0m\u001b[0;34m\u001b[0m\u001b[0m\n\u001b[1;32m      4\u001b[0m \u001b[0mprint\u001b[0m\u001b[0;34m(\u001b[0m\u001b[0mRMSE\u001b[0m\u001b[0;34m)\u001b[0m\u001b[0;34m\u001b[0m\u001b[0;34m\u001b[0m\u001b[0m\n\u001b[1;32m      5\u001b[0m \u001b[0mprint\u001b[0m\u001b[0;34m(\u001b[0m\u001b[0mRMSE_base\u001b[0m\u001b[0;34m)\u001b[0m\u001b[0;34m\u001b[0m\u001b[0;34m\u001b[0m\u001b[0m\n",
            "\u001b[0;31mNameError\u001b[0m: name 'base_model' is not defined"
          ]
        }
      ]
    },
    {
      "cell_type": "markdown",
      "metadata": {
        "id": "9594740b"
      },
      "source": [
        "## 5.6 Transfer features and Fine Tune Base Model on Limited Dataset"
      ],
      "id": "9594740b"
    },
    {
      "cell_type": "code",
      "metadata": {
        "id": "cf537f55",
        "outputId": "e497853e-2ca0-4bc6-aec7-69bbcafe9ecd"
      },
      "source": [
        "def fine_tune(model):\n",
        "    model.trainable = True\n",
        "    print(\"Number of layers in the base model: \", len(base_model.layers))\n",
        "    # Fine-tune from this layer onwards\n",
        "    fine_tune_at = 1\n",
        "    # Freeze all the layers before the `fine_tune_at` layer\n",
        "    for layer in model.layers[:fine_tune_at]:\n",
        "      layer.trainable =  False\n",
        "    model.summary()\n",
        "    model.compile(loss='mse', optimizer='adam', metrics = ['mse','mae'])\n",
        "    return model\n",
        "fine_tuned_model = fine_tune(base_model)\n",
        "X_limited,Y_limited = prepare_data(envimet)\n",
        "history = fine_tuned_model.fit(X_limited,Y_limited, epochs=50, verbose=1)"
      ],
      "id": "cf537f55",
      "execution_count": null,
      "outputs": [
        {
          "name": "stdout",
          "output_type": "stream",
          "text": [
            "Number of layers in the base model:  4\n",
            "Model: \"sequential_8\"\n",
            "_________________________________________________________________\n",
            "Layer (type)                 Output Shape              Param #   \n",
            "=================================================================\n",
            "dense_24 (Dense)             (None, 12)                36        \n",
            "_________________________________________________________________\n",
            "dense_25 (Dense)             (None, 8)                 104       \n",
            "_________________________________________________________________\n",
            "dense_26 (Dense)             (None, 10)                90        \n",
            "_________________________________________________________________\n",
            "dense_27 (Dense)             (None, 1)                 11        \n",
            "=================================================================\n",
            "Total params: 241\n",
            "Trainable params: 205\n",
            "Non-trainable params: 36\n",
            "_________________________________________________________________\n",
            "(16, 2)\n",
            "Epoch 1/50\n",
            "1/1 [==============================] - 0s 757us/step - loss: 0.3919 - mse: 0.3919 - mae: 0.5261\n",
            "Epoch 2/50\n",
            "1/1 [==============================] - 0s 806us/step - loss: 0.3882 - mse: 0.3882 - mae: 0.5236\n",
            "Epoch 3/50\n",
            "1/1 [==============================] - 0s 633us/step - loss: 0.3846 - mse: 0.3846 - mae: 0.5211\n",
            "Epoch 4/50\n",
            "1/1 [==============================] - 0s 873us/step - loss: 0.3810 - mse: 0.3810 - mae: 0.5185\n",
            "Epoch 5/50\n",
            "1/1 [==============================] - 0s 742us/step - loss: 0.3775 - mse: 0.3775 - mae: 0.5160\n",
            "Epoch 6/50\n",
            "1/1 [==============================] - 0s 780us/step - loss: 0.3740 - mse: 0.3740 - mae: 0.5134\n",
            "Epoch 7/50\n",
            "1/1 [==============================] - 0s 946us/step - loss: 0.3706 - mse: 0.3706 - mae: 0.5108\n",
            "Epoch 8/50\n",
            "1/1 [==============================] - 0s 961us/step - loss: 0.3672 - mse: 0.3672 - mae: 0.5082\n",
            "Epoch 9/50\n",
            "1/1 [==============================] - 0s 988us/step - loss: 0.3639 - mse: 0.3639 - mae: 0.5056\n",
            "Epoch 10/50\n",
            "1/1 [==============================] - 0s 1ms/step - loss: 0.3604 - mse: 0.3604 - mae: 0.5028\n",
            "Epoch 11/50\n",
            "1/1 [==============================] - 0s 730us/step - loss: 0.3569 - mse: 0.3569 - mae: 0.5001\n",
            "Epoch 12/50\n",
            "1/1 [==============================] - 0s 1ms/step - loss: 0.3535 - mse: 0.3535 - mae: 0.4976\n",
            "Epoch 13/50\n",
            "1/1 [==============================] - 0s 844us/step - loss: 0.3504 - mse: 0.3504 - mae: 0.4952\n",
            "Epoch 14/50\n",
            "1/1 [==============================] - 0s 876us/step - loss: 0.3472 - mse: 0.3472 - mae: 0.4928\n",
            "Epoch 15/50\n",
            "1/1 [==============================] - 0s 1ms/step - loss: 0.3441 - mse: 0.3441 - mae: 0.4903\n",
            "Epoch 16/50\n",
            "1/1 [==============================] - 0s 1ms/step - loss: 0.3410 - mse: 0.3410 - mae: 0.4878\n",
            "Epoch 17/50\n",
            "1/1 [==============================] - 0s 925us/step - loss: 0.3381 - mse: 0.3381 - mae: 0.4855\n",
            "Epoch 18/50\n",
            "1/1 [==============================] - 0s 906us/step - loss: 0.3352 - mse: 0.3352 - mae: 0.4831\n",
            "Epoch 19/50\n",
            "1/1 [==============================] - 0s 4ms/step - loss: 0.3325 - mse: 0.3325 - mae: 0.4808\n",
            "Epoch 20/50\n",
            "1/1 [==============================] - 0s 1ms/step - loss: 0.3299 - mse: 0.3299 - mae: 0.4787\n",
            "Epoch 21/50\n",
            "1/1 [==============================] - 0s 901us/step - loss: 0.3273 - mse: 0.3273 - mae: 0.4765\n",
            "Epoch 22/50\n",
            "1/1 [==============================] - 0s 839us/step - loss: 0.3248 - mse: 0.3248 - mae: 0.4743\n",
            "Epoch 23/50\n",
            "1/1 [==============================] - 0s 1ms/step - loss: 0.3223 - mse: 0.3223 - mae: 0.4721\n",
            "Epoch 24/50\n",
            "1/1 [==============================] - 0s 991us/step - loss: 0.3198 - mse: 0.3198 - mae: 0.4700\n",
            "Epoch 25/50\n",
            "1/1 [==============================] - 0s 755us/step - loss: 0.3173 - mse: 0.3173 - mae: 0.4678\n",
            "Epoch 26/50\n",
            "1/1 [==============================] - 0s 1ms/step - loss: 0.3149 - mse: 0.3149 - mae: 0.4658\n",
            "Epoch 27/50\n",
            "1/1 [==============================] - 0s 830us/step - loss: 0.3125 - mse: 0.3125 - mae: 0.4638\n",
            "Epoch 28/50\n",
            "1/1 [==============================] - 0s 1ms/step - loss: 0.3102 - mse: 0.3102 - mae: 0.4619\n",
            "Epoch 29/50\n",
            "1/1 [==============================] - 0s 929us/step - loss: 0.3079 - mse: 0.3079 - mae: 0.4602\n",
            "Epoch 30/50\n",
            "1/1 [==============================] - 0s 831us/step - loss: 0.3056 - mse: 0.3056 - mae: 0.4585\n",
            "Epoch 31/50\n",
            "1/1 [==============================] - 0s 819us/step - loss: 0.3033 - mse: 0.3033 - mae: 0.4568\n",
            "Epoch 32/50\n",
            "1/1 [==============================] - 0s 794us/step - loss: 0.3011 - mse: 0.3011 - mae: 0.4550\n",
            "Epoch 33/50\n",
            "1/1 [==============================] - 0s 1ms/step - loss: 0.2989 - mse: 0.2989 - mae: 0.4533\n",
            "Epoch 34/50\n",
            "1/1 [==============================] - 0s 856us/step - loss: 0.2967 - mse: 0.2967 - mae: 0.4516\n",
            "Epoch 35/50\n",
            "1/1 [==============================] - 0s 765us/step - loss: 0.2946 - mse: 0.2946 - mae: 0.4499\n",
            "Epoch 36/50\n",
            "1/1 [==============================] - 0s 1ms/step - loss: 0.2924 - mse: 0.2924 - mae: 0.4481\n",
            "Epoch 37/50\n",
            "1/1 [==============================] - 0s 1ms/step - loss: 0.2903 - mse: 0.2903 - mae: 0.4464\n",
            "Epoch 38/50\n",
            "1/1 [==============================] - 0s 1ms/step - loss: 0.2883 - mse: 0.2883 - mae: 0.4447\n",
            "Epoch 39/50\n",
            "1/1 [==============================] - 0s 807us/step - loss: 0.2862 - mse: 0.2862 - mae: 0.4430\n",
            "Epoch 40/50\n",
            "1/1 [==============================] - 0s 1ms/step - loss: 0.2842 - mse: 0.2842 - mae: 0.4413\n",
            "Epoch 41/50\n",
            "1/1 [==============================] - 0s 944us/step - loss: 0.2822 - mse: 0.2822 - mae: 0.4396\n",
            "Epoch 42/50\n",
            "1/1 [==============================] - 0s 787us/step - loss: 0.2803 - mse: 0.2803 - mae: 0.4378\n",
            "Epoch 43/50\n",
            "1/1 [==============================] - 0s 740us/step - loss: 0.2783 - mse: 0.2783 - mae: 0.4361\n",
            "Epoch 44/50\n",
            "1/1 [==============================] - 0s 1ms/step - loss: 0.2764 - mse: 0.2764 - mae: 0.4344\n",
            "Epoch 45/50\n",
            "1/1 [==============================] - 0s 826us/step - loss: 0.2746 - mse: 0.2746 - mae: 0.4326\n",
            "Epoch 46/50\n",
            "1/1 [==============================] - 0s 798us/step - loss: 0.2729 - mse: 0.2729 - mae: 0.4310\n",
            "Epoch 47/50\n",
            "1/1 [==============================] - 0s 1ms/step - loss: 0.2714 - mse: 0.2714 - mae: 0.4295\n",
            "Epoch 48/50\n",
            "1/1 [==============================] - 0s 1ms/step - loss: 0.2700 - mse: 0.2700 - mae: 0.4281\n",
            "Epoch 49/50\n",
            "1/1 [==============================] - 0s 1ms/step - loss: 0.2685 - mse: 0.2685 - mae: 0.4266\n",
            "Epoch 50/50\n",
            "1/1 [==============================] - 0s 1ms/step - loss: 0.2671 - mse: 0.2671 - mae: 0.4252\n"
          ]
        }
      ]
    },
    {
      "cell_type": "markdown",
      "metadata": {
        "id": "dc6e6636"
      },
      "source": [
        "## 5.7 Evaluate Fine-tuned Model on Limited Dataset"
      ],
      "id": "dc6e6636"
    },
    {
      "cell_type": "code",
      "metadata": {
        "id": "e11abc6f",
        "outputId": "5a62891e-168b-468e-940e-ab1eb9fe8c36"
      },
      "source": [
        "RMSE_fine_tune ,_= evaluate(fine_tuned_model,X_limited,Y_limited)\n",
        "print(RMSE_fine_tune)"
      ],
      "id": "e11abc6f",
      "execution_count": null,
      "outputs": [
        {
          "name": "stdout",
          "output_type": "stream",
          "text": [
            "1/1 [==============================] - 0s 726us/step - loss: 0.2657 - mse: 0.2657 - mae: 0.4237\n",
            "0.51549023\n"
          ]
        }
      ]
    }
  ]
}