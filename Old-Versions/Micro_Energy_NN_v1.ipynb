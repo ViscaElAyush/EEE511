{
 "cells": [
  {
   "cell_type": "markdown",
   "id": "bbf63091",
   "metadata": {
    "id": "bbf63091"
   },
   "source": [
    "Build a baseline model using the weather station data (this approach used all days in 2018 since the data was available).\n",
    "\n",
    "\n",
    "Then use the model to make predictions for the ENVI-met(micro-climate) data for that specific day and compare it to model predictions using weather station data also for the same day."
   ]
  },
  {
   "cell_type": "code",
   "execution_count": 1,
   "id": "brVU4MWHtTtG",
   "metadata": {
    "colab": {
     "base_uri": "https://localhost:8080/"
    },
    "id": "brVU4MWHtTtG",
    "outputId": "71171b42-0778-4fc1-afc2-23d2c8ca2f02"
   },
   "outputs": [
    {
     "name": "stdout",
     "output_type": "stream",
     "text": [
      "Mounted at /content/drive\n"
     ]
    }
   ],
   "source": [
    "from google.colab import drive\n",
    "drive.mount('/content/drive')"
   ]
  },
  {
   "cell_type": "markdown",
   "id": "c4a67839",
   "metadata": {
    "id": "c4a67839"
   },
   "source": [
    "# 1. Import"
   ]
  },
  {
   "cell_type": "code",
   "execution_count": 1,
   "id": "8ff5f4a1",
   "metadata": {
    "id": "8ff5f4a1",
    "scrolled": true
   },
   "outputs": [],
   "source": [
    "import pandas as pd\n",
    "import numpy as np\n",
    "import pathlib\n",
    "import pickle\n",
    "import pathlib\n",
    "import matplotlib.pyplot as plt\n",
    "from matplotlib.pyplot import cm\n",
    "from datetime import datetime\n",
    "import seaborn as sns\n",
    "\n",
    "# train-test split\n",
    "from sklearn.model_selection import train_test_split"
   ]
  },
  {
   "cell_type": "markdown",
   "id": "2323f8cd",
   "metadata": {
    "id": "2323f8cd"
   },
   "source": [
    "# 2. Load All Data"
   ]
  },
  {
   "cell_type": "code",
   "execution_count": 2,
   "id": "4dAfrWuqVMmj",
   "metadata": {
    "id": "4dAfrWuqVMmj"
   },
   "outputs": [],
   "source": [
    "# LIMITED DATA\n",
    "Bldg_Lim = []\n",
    "\n",
    "# Read all building data and append to list\n",
    "for path in pathlib.Path(\"./Data/microclimate_model/Combined/dataset2\").iterdir():\n",
    "        if path.is_file():\n",
    "            current_file = pd.read_csv(path)\n",
    "            current_file = current_file.drop(columns=['Unnamed: 0'])\n",
    "            Bldg_Lim.append(current_file)\n",
    "\n",
    "# BIG DATA\n",
    "Bldg_Big = []\n",
    "\n",
    "# Read all building data and append to list\n",
    "for path in pathlib.Path(\"./Data/NN_big_data\").iterdir():\n",
    "        if path.is_file():\n",
    "            current_file = pd.read_csv(path)\n",
    "            current_file = current_file.drop(columns=['Unnamed: 0'])\n",
    "            Bldg_Big.append(current_file)"
   ]
  },
  {
   "cell_type": "markdown",
   "id": "XlKakizwVW6J",
   "metadata": {
    "id": "XlKakizwVW6J"
   },
   "source": [
    "## 2.1 Preprocessing\n",
    "\n",
    "1. Adding Month, Hour, and Minute to limited data\n",
    "2. Removing hours out of ENVI-met accuracy range (after 9 pm) for limited data\n",
    "3. Add CHWTON/SQFT to columns using condition area for each building taken from\n",
    "    https://fdm-apps.asu.edu/UFRM/FDS/FacilityData.aspx\n",
    "4. Drop na rows in limited data (some data points from campus metabolism not available)\n",
    "5. Drop 'index' column and rename 'rel humid' to 'rel hum' for big data"
   ]
  },
  {
   "cell_type": "code",
   "execution_count": 3,
   "id": "oNbjTFZDVeQj",
   "metadata": {
    "id": "oNbjTFZDVeQj"
   },
   "outputs": [],
   "source": [
    "## LIMITED DATA ##\n",
    "# Create Month, Hour, and Minute column for all dataframes in list and drop unnecessary columns\n",
    "for i in range(len(Bldg_Lim)):\n",
    "    Bldg_Lim[i].Date_Time = pd.to_datetime(Bldg_Lim[i].Date_Time)\n",
    "    Bldg_Lim[i]['Month'] = Bldg_Lim[i].Date_Time.dt.month\n",
    "    Bldg_Lim[i]['Hour'] = Bldg_Lim[i].Date_Time.dt.hour\n",
    "    Bldg_Lim[i]['Minute'] = Bldg_Lim[i].Date_Time.dt.minute\n",
    "    Bldg_Lim[i]['Day'] = Bldg_Lim[i].Date_Time.dt.day\n",
    "    Bldg_Lim[i] = Bldg_Lim[i].drop(columns = ['Date_Time'])\n",
    "\n",
    "# Remove data after 9pm\n",
    "for i in range(len(Bldg_Lim)):\n",
    "    Bldg_Lim[i] = Bldg_Lim[i][(Bldg_Lim[i]['Hour'] <= 20) & (Bldg_Lim[i]['Hour'] > 0)]\n",
    "\n",
    "# Add Column: CHWTON/Condition Area (SqFt) or ['CHWTON/SQFT']\n",
    "cond_area = {'Noble Library':88658,'Biodesign B':132215,'Biodesign C':145410,\n",
    "             'Biodesign A':133016,'Psychology':69864,'Goldwater':165237,'Schwada COB':99857,\n",
    "             'ISTB 2':41404,'Bulldog Hall':68067,'ISTB 4':231646,'Psychology North':43034}\n",
    "for i in range(len(Bldg_Lim)):\n",
    "    if Bldg_Lim[i]['bldgname'][0] in cond_area:\n",
    "        Bldg_Lim[i]['CHWTON/SQFT'] = Bldg_Lim[i]['CHWTON'] / cond_area[Bldg_Lim[i]['bldgname'][0]]\n",
    "\n",
    "# Rearrange Columns\n",
    "for i in range(len(Bldg_Lim)):\n",
    "    cols = ['bldgname','Date','Time','Month','Day','Hour','Minute','Air Temp','Rel Hum','KW','CHWTON','CHWTON/SQFT']\n",
    "    Bldg_Lim[i] = Bldg_Lim[i][cols]\n",
    "\n",
    "# Drop NA rows in data\n",
    "for i in range(len(Bldg_Lim)):\n",
    "  Bldg_Lim[i] = Bldg_Lim[i].dropna()\n",
    "  Bldg_Lim[i] = Bldg_Lim[i].reset_index(drop=True)\n",
    "\n",
    "## BIG DATA ##\n",
    "# Rename 'Rel Humid' to 'Rel Hum' and drop 'index' column\n",
    "for i in range(len(Bldg_Big)):\n",
    "  Bldg_Big[i] = Bldg_Big[i].rename(columns = {'Rel Humid': 'Rel Hum'})\n",
    "  Bldg_Big[i] = Bldg_Big[i].drop(columns=['index'])"
   ]
  },
  {
   "cell_type": "code",
   "execution_count": 4,
   "id": "0YVaY6zNaoVM",
   "metadata": {
    "colab": {
     "base_uri": "https://localhost:8080/"
    },
    "id": "0YVaY6zNaoVM",
    "outputId": "3b9c37ee-d739-4332-8a0b-ee3faf0dd39d"
   },
   "outputs": [
    {
     "name": "stdout",
     "output_type": "stream",
     "text": [
      "Empty DataFrame\n",
      "Columns: [bldgname, Date, Time, Month, Day, Hour, Minute, Air Temp, Rel Hum, KW, CHWTON, CHWTON/SQFT]\n",
      "Index: []\n",
      "Empty DataFrame\n",
      "Columns: [bldgname, Date, Time, Month, Day, Hour, Minute, Air Temp, Rel Hum, KW, CHWTON, CHWTON/SQFT]\n",
      "Index: []\n",
      "Empty DataFrame\n",
      "Columns: [bldgname, Date, Time, Month, Day, Hour, Minute, Air Temp, Rel Hum, KW, CHWTON, CHWTON/SQFT]\n",
      "Index: []\n",
      "Empty DataFrame\n",
      "Columns: [bldgname, Date, Time, Month, Day, Hour, Minute, Air Temp, Rel Hum, KW, CHWTON, CHWTON/SQFT]\n",
      "Index: []\n",
      "Empty DataFrame\n",
      "Columns: [bldgname, Date, Time, Month, Day, Hour, Minute, Air Temp, Rel Hum, KW, CHWTON, CHWTON/SQFT]\n",
      "Index: []\n",
      "Empty DataFrame\n",
      "Columns: [bldgname, Date, Time, Month, Day, Hour, Minute, Air Temp, Rel Hum, KW, CHWTON, CHWTON/SQFT]\n",
      "Index: []\n",
      "Empty DataFrame\n",
      "Columns: [bldgname, Date, Time, Month, Day, Hour, Minute, Air Temp, Rel Hum, KW, CHWTON, CHWTON/SQFT]\n",
      "Index: []\n",
      "Empty DataFrame\n",
      "Columns: [bldgname, Date, Time, Month, Day, Hour, Minute, Air Temp, Rel Hum, KW, CHWTON, CHWTON/SQFT]\n",
      "Index: []\n",
      "Empty DataFrame\n",
      "Columns: [bldgname, Date, Time, Month, Day, Hour, Minute, Air Temp, Rel Hum, KW, CHWTON, CHWTON/SQFT]\n",
      "Index: []\n",
      "Empty DataFrame\n",
      "Columns: [bldgname, Date, Time, Month, Day, Hour, Minute, Air Temp, Rel Hum, KW, CHWTON, CHWTON/SQFT]\n",
      "Index: []\n",
      "Empty DataFrame\n",
      "Columns: [bldgname, Date, Time, Month, Day, Hour, Minute, Air Temp, Rel Hum, KW, CHWTON, CHWTON/SQFT]\n",
      "Index: []\n"
     ]
    }
   ],
   "source": [
    "# Check if NA in data\n",
    "for i in range(len(Bldg_Lim)):\n",
    "  null_data = Bldg_Lim[i][Bldg_Lim[i].isnull().any(axis=1)]\n",
    "  print(null_data)"
   ]
  },
  {
   "cell_type": "markdown",
   "id": "1umRuw8lsTqQ",
   "metadata": {
    "id": "1umRuw8lsTqQ"
   },
   "source": [
    "# 3. Single Building Analysis - Big Data"
   ]
  },
  {
   "cell_type": "markdown",
   "id": "j5l5AuKIsVl4",
   "metadata": {
    "id": "j5l5AuKIsVl4"
   },
   "source": [
    "## 3.1 Select Building"
   ]
  },
  {
   "cell_type": "code",
   "execution_count": 61,
   "id": "GSwktBAaepBb",
   "metadata": {
    "colab": {
     "base_uri": "https://localhost:8080/",
     "height": 623
    },
    "id": "GSwktBAaepBb",
    "outputId": "9cab7ab4-65e3-48a1-c7ee-e2500d4f0143"
   },
   "outputs": [
    {
     "name": "stdout",
     "output_type": "stream",
     "text": [
      "0 Goldwater\n",
      "1 Bulldog Hall\n",
      "2 ISTB 2\n",
      "3 Psychology North\n",
      "4 Schwada COB\n",
      "5 Biodesign C\n",
      "6 Biodesign A\n",
      "7 Psychology\n",
      "8 Biodesign B\n",
      "9 Noble Library\n",
      "10 ISTB 4\n",
      "Enter the number of the building from the list above: 7\n"
     ]
    },
    {
     "data": {
      "text/html": [
       "<div>\n",
       "<style scoped>\n",
       "    .dataframe tbody tr th:only-of-type {\n",
       "        vertical-align: middle;\n",
       "    }\n",
       "\n",
       "    .dataframe tbody tr th {\n",
       "        vertical-align: top;\n",
       "    }\n",
       "\n",
       "    .dataframe thead th {\n",
       "        text-align: right;\n",
       "    }\n",
       "</style>\n",
       "<table border=\"1\" class=\"dataframe\">\n",
       "  <thead>\n",
       "    <tr style=\"text-align: right;\">\n",
       "      <th></th>\n",
       "      <th>bldgname</th>\n",
       "      <th>Month</th>\n",
       "      <th>Day</th>\n",
       "      <th>Hour</th>\n",
       "      <th>Minute</th>\n",
       "      <th>Air Temp</th>\n",
       "      <th>Rel Hum</th>\n",
       "      <th>KW</th>\n",
       "      <th>CHWTON</th>\n",
       "      <th>CHWTON/SQFT</th>\n",
       "    </tr>\n",
       "  </thead>\n",
       "  <tbody>\n",
       "    <tr>\n",
       "      <th>0</th>\n",
       "      <td>Psychology</td>\n",
       "      <td>1</td>\n",
       "      <td>1</td>\n",
       "      <td>0</td>\n",
       "      <td>0</td>\n",
       "      <td>11.0</td>\n",
       "      <td>40.24</td>\n",
       "      <td>111.39</td>\n",
       "      <td>36.65</td>\n",
       "      <td>0.000525</td>\n",
       "    </tr>\n",
       "    <tr>\n",
       "      <th>1</th>\n",
       "      <td>Psychology</td>\n",
       "      <td>1</td>\n",
       "      <td>1</td>\n",
       "      <td>0</td>\n",
       "      <td>15</td>\n",
       "      <td>11.0</td>\n",
       "      <td>40.24</td>\n",
       "      <td>113.84</td>\n",
       "      <td>37.56</td>\n",
       "      <td>0.000538</td>\n",
       "    </tr>\n",
       "    <tr>\n",
       "      <th>2</th>\n",
       "      <td>Psychology</td>\n",
       "      <td>1</td>\n",
       "      <td>1</td>\n",
       "      <td>0</td>\n",
       "      <td>30</td>\n",
       "      <td>10.0</td>\n",
       "      <td>43.01</td>\n",
       "      <td>112.64</td>\n",
       "      <td>34.65</td>\n",
       "      <td>0.000496</td>\n",
       "    </tr>\n",
       "    <tr>\n",
       "      <th>3</th>\n",
       "      <td>Psychology</td>\n",
       "      <td>1</td>\n",
       "      <td>1</td>\n",
       "      <td>0</td>\n",
       "      <td>45</td>\n",
       "      <td>9.0</td>\n",
       "      <td>46.00</td>\n",
       "      <td>117.81</td>\n",
       "      <td>35.06</td>\n",
       "      <td>0.000502</td>\n",
       "    </tr>\n",
       "    <tr>\n",
       "      <th>4</th>\n",
       "      <td>Psychology</td>\n",
       "      <td>1</td>\n",
       "      <td>1</td>\n",
       "      <td>1</td>\n",
       "      <td>0</td>\n",
       "      <td>9.0</td>\n",
       "      <td>46.00</td>\n",
       "      <td>113.18</td>\n",
       "      <td>41.16</td>\n",
       "      <td>0.000589</td>\n",
       "    </tr>\n",
       "    <tr>\n",
       "      <th>...</th>\n",
       "      <td>...</td>\n",
       "      <td>...</td>\n",
       "      <td>...</td>\n",
       "      <td>...</td>\n",
       "      <td>...</td>\n",
       "      <td>...</td>\n",
       "      <td>...</td>\n",
       "      <td>...</td>\n",
       "      <td>...</td>\n",
       "      <td>...</td>\n",
       "    </tr>\n",
       "    <tr>\n",
       "      <th>34617</th>\n",
       "      <td>Psychology</td>\n",
       "      <td>12</td>\n",
       "      <td>31</td>\n",
       "      <td>22</td>\n",
       "      <td>0</td>\n",
       "      <td>6.0</td>\n",
       "      <td>93.30</td>\n",
       "      <td>123.36</td>\n",
       "      <td>44.78</td>\n",
       "      <td>0.000641</td>\n",
       "    </tr>\n",
       "    <tr>\n",
       "      <th>34618</th>\n",
       "      <td>Psychology</td>\n",
       "      <td>12</td>\n",
       "      <td>31</td>\n",
       "      <td>22</td>\n",
       "      <td>15</td>\n",
       "      <td>5.0</td>\n",
       "      <td>100.00</td>\n",
       "      <td>110.68</td>\n",
       "      <td>31.44</td>\n",
       "      <td>0.000450</td>\n",
       "    </tr>\n",
       "    <tr>\n",
       "      <th>34619</th>\n",
       "      <td>Psychology</td>\n",
       "      <td>12</td>\n",
       "      <td>31</td>\n",
       "      <td>22</td>\n",
       "      <td>30</td>\n",
       "      <td>5.0</td>\n",
       "      <td>100.00</td>\n",
       "      <td>109.87</td>\n",
       "      <td>16.04</td>\n",
       "      <td>0.000230</td>\n",
       "    </tr>\n",
       "    <tr>\n",
       "      <th>34620</th>\n",
       "      <td>Psychology</td>\n",
       "      <td>12</td>\n",
       "      <td>31</td>\n",
       "      <td>22</td>\n",
       "      <td>45</td>\n",
       "      <td>6.0</td>\n",
       "      <td>93.30</td>\n",
       "      <td>107.33</td>\n",
       "      <td>18.83</td>\n",
       "      <td>0.000270</td>\n",
       "    </tr>\n",
       "    <tr>\n",
       "      <th>34621</th>\n",
       "      <td>Psychology</td>\n",
       "      <td>12</td>\n",
       "      <td>31</td>\n",
       "      <td>23</td>\n",
       "      <td>0</td>\n",
       "      <td>6.0</td>\n",
       "      <td>93.30</td>\n",
       "      <td>109.80</td>\n",
       "      <td>17.05</td>\n",
       "      <td>0.000244</td>\n",
       "    </tr>\n",
       "  </tbody>\n",
       "</table>\n",
       "<p>34622 rows × 10 columns</p>\n",
       "</div>"
      ],
      "text/plain": [
       "         bldgname  Month  Day  Hour  Minute  Air Temp  Rel Hum      KW  \\\n",
       "0      Psychology      1    1     0       0      11.0    40.24  111.39   \n",
       "1      Psychology      1    1     0      15      11.0    40.24  113.84   \n",
       "2      Psychology      1    1     0      30      10.0    43.01  112.64   \n",
       "3      Psychology      1    1     0      45       9.0    46.00  117.81   \n",
       "4      Psychology      1    1     1       0       9.0    46.00  113.18   \n",
       "...           ...    ...  ...   ...     ...       ...      ...     ...   \n",
       "34617  Psychology     12   31    22       0       6.0    93.30  123.36   \n",
       "34618  Psychology     12   31    22      15       5.0   100.00  110.68   \n",
       "34619  Psychology     12   31    22      30       5.0   100.00  109.87   \n",
       "34620  Psychology     12   31    22      45       6.0    93.30  107.33   \n",
       "34621  Psychology     12   31    23       0       6.0    93.30  109.80   \n",
       "\n",
       "       CHWTON  CHWTON/SQFT  \n",
       "0       36.65     0.000525  \n",
       "1       37.56     0.000538  \n",
       "2       34.65     0.000496  \n",
       "3       35.06     0.000502  \n",
       "4       41.16     0.000589  \n",
       "...       ...          ...  \n",
       "34617   44.78     0.000641  \n",
       "34618   31.44     0.000450  \n",
       "34619   16.04     0.000230  \n",
       "34620   18.83     0.000270  \n",
       "34621   17.05     0.000244  \n",
       "\n",
       "[34622 rows x 10 columns]"
      ]
     },
     "execution_count": 61,
     "metadata": {},
     "output_type": "execute_result"
    }
   ],
   "source": [
    "# Ask user to select building\n",
    "for i in range(len(Bldg_Big)):\n",
    "    print(i, Bldg_Big[i]['bldgname'][0])\n",
    "\n",
    "bldgnum_B = int(input(\"Enter the number of the building from the list above: \"))\n",
    "\n",
    "Bldg_Big[bldgnum_B]"
   ]
  },
  {
   "cell_type": "markdown",
   "id": "FcP5TbQ5skSV",
   "metadata": {
    "id": "FcP5TbQ5skSV"
   },
   "source": [
    "## 3.2 EDA"
   ]
  },
  {
   "cell_type": "markdown",
   "id": "l2LsyH43sY-R",
   "metadata": {
    "id": "l2LsyH43sY-R"
   },
   "source": [
    "### 3.2.1 Boxplots"
   ]
  },
  {
   "cell_type": "code",
   "execution_count": 33,
   "id": "XU5wq_f7fIib",
   "metadata": {
    "colab": {
     "base_uri": "https://localhost:8080/",
     "height": 832
    },
    "id": "XU5wq_f7fIib",
    "outputId": "5766d2c9-0862-4256-8323-9184e8666566"
   },
   "outputs": [
    {
     "name": "stdout",
     "output_type": "stream",
     "text": [
      "0 bldgname\n",
      "1 Month\n",
      "2 Day\n",
      "3 Hour\n",
      "4 Minute\n",
      "5 Air Temp\n",
      "6 Rel Hum\n",
      "7 KW\n",
      "8 CHWTON\n",
      "9 CHWTON/SQFT\n",
      "Enter the number of the following data columns to graph boxplot: 9\n",
      "\n",
      " ISTB 4\n"
     ]
    },
    {
     "data": {
      "text/plain": [
       "<AxesSubplot:title={'center':'CHWTON/SQFT'}, xlabel='Month'>"
      ]
     },
     "execution_count": 33,
     "metadata": {},
     "output_type": "execute_result"
    },
    {
     "data": {
      "image/png": "[encoded data removed]",
      "text/plain": [
       "<Figure size 576x576 with 1 Axes>"
      ]
     },
     "metadata": {
      "needs_background": "light"
     },
     "output_type": "display_data"
    }
   ],
   "source": [
    "# Show df columns to select for boxplot\n",
    "x = Bldg_Big[bldgnum_B].columns\n",
    "for i in range(len(x)):\n",
    "    print(i, x[i])\n",
    "# Get column name from user\n",
    "colname = int(input(\"Enter the number of the following data columns to graph boxplot: \"))\n",
    "# Plot\n",
    "print('\\n',Bldg_Big[bldgnum_B]['bldgname'][0])\n",
    "Bldg_Big[bldgnum_B].boxplot(by='Month', column=x[colname], grid = False, figsize = (8,8))"
   ]
  },
  {
   "cell_type": "markdown",
   "id": "1bkjN8CdtYgA",
   "metadata": {
    "id": "1bkjN8CdtYgA"
   },
   "source": [
    "### 3.2.2 Time Series"
   ]
  },
  {
   "cell_type": "code",
   "execution_count": 9,
   "id": "ukK2WxsztWuD",
   "metadata": {
    "id": "ukK2WxsztWuD"
   },
   "outputs": [],
   "source": [
    "### will work on create Date and Time column for big data to visualize vs Limited Data"
   ]
  },
  {
   "cell_type": "markdown",
   "id": "35d68606",
   "metadata": {
    "id": "35d68606"
   },
   "source": [
    "# 4. Single Building Analysis - Limited Data"
   ]
  },
  {
   "cell_type": "markdown",
   "id": "nDGlxtORWiit",
   "metadata": {
    "id": "nDGlxtORWiit"
   },
   "source": [
    "## 4.1 Select Building"
   ]
  },
  {
   "cell_type": "code",
   "execution_count": 62,
   "id": "EXFKvTh7Wen5",
   "metadata": {
    "colab": {
     "base_uri": "https://localhost:8080/",
     "height": 408
    },
    "id": "EXFKvTh7Wen5",
    "outputId": "b7f26aa4-e675-4c4c-a102-72bbfedaeccc"
   },
   "outputs": [
    {
     "name": "stdout",
     "output_type": "stream",
     "text": [
      "0 Goldwater\n",
      "1 Bulldog Hall\n",
      "2 ISTB 2\n",
      "3 Psychology North\n",
      "4 Schwada COB\n",
      "5 Biodesign C\n",
      "6 Biodesign A\n",
      "7 Psychology\n",
      "8 Biodesign B\n",
      "9 Noble Library\n",
      "10 ISTB 4\n",
      "Enter the number of the building from the list above: 7\n"
     ]
    },
    {
     "data": {
      "text/html": [
       "<div>\n",
       "<style scoped>\n",
       "    .dataframe tbody tr th:only-of-type {\n",
       "        vertical-align: middle;\n",
       "    }\n",
       "\n",
       "    .dataframe tbody tr th {\n",
       "        vertical-align: top;\n",
       "    }\n",
       "\n",
       "    .dataframe thead th {\n",
       "        text-align: right;\n",
       "    }\n",
       "</style>\n",
       "<table border=\"1\" class=\"dataframe\">\n",
       "  <thead>\n",
       "    <tr style=\"text-align: right;\">\n",
       "      <th></th>\n",
       "      <th>bldgname</th>\n",
       "      <th>Date</th>\n",
       "      <th>Time</th>\n",
       "      <th>Month</th>\n",
       "      <th>Day</th>\n",
       "      <th>Hour</th>\n",
       "      <th>Minute</th>\n",
       "      <th>Air Temp</th>\n",
       "      <th>Rel Hum</th>\n",
       "      <th>KW</th>\n",
       "      <th>CHWTON</th>\n",
       "      <th>CHWTON/SQFT</th>\n",
       "    </tr>\n",
       "  </thead>\n",
       "  <tbody>\n",
       "    <tr>\n",
       "      <th>0</th>\n",
       "      <td>Psychology</td>\n",
       "      <td>2018-05-16</td>\n",
       "      <td>05:00</td>\n",
       "      <td>5</td>\n",
       "      <td>16</td>\n",
       "      <td>5</td>\n",
       "      <td>0</td>\n",
       "      <td>23.438443</td>\n",
       "      <td>21.523566</td>\n",
       "      <td>108.45</td>\n",
       "      <td>120.18</td>\n",
       "      <td>0.001720</td>\n",
       "    </tr>\n",
       "    <tr>\n",
       "      <th>1</th>\n",
       "      <td>Psychology</td>\n",
       "      <td>2018-05-16</td>\n",
       "      <td>05:15</td>\n",
       "      <td>5</td>\n",
       "      <td>16</td>\n",
       "      <td>5</td>\n",
       "      <td>15</td>\n",
       "      <td>23.914056</td>\n",
       "      <td>24.374523</td>\n",
       "      <td>108.68</td>\n",
       "      <td>129.16</td>\n",
       "      <td>0.001849</td>\n",
       "    </tr>\n",
       "    <tr>\n",
       "      <th>2</th>\n",
       "      <td>Psychology</td>\n",
       "      <td>2018-05-16</td>\n",
       "      <td>05:30</td>\n",
       "      <td>5</td>\n",
       "      <td>16</td>\n",
       "      <td>5</td>\n",
       "      <td>30</td>\n",
       "      <td>23.775401</td>\n",
       "      <td>23.998164</td>\n",
       "      <td>109.12</td>\n",
       "      <td>112.29</td>\n",
       "      <td>0.001607</td>\n",
       "    </tr>\n",
       "    <tr>\n",
       "      <th>3</th>\n",
       "      <td>Psychology</td>\n",
       "      <td>2018-05-16</td>\n",
       "      <td>05:45</td>\n",
       "      <td>5</td>\n",
       "      <td>16</td>\n",
       "      <td>5</td>\n",
       "      <td>45</td>\n",
       "      <td>23.674907</td>\n",
       "      <td>24.049482</td>\n",
       "      <td>117.51</td>\n",
       "      <td>139.02</td>\n",
       "      <td>0.001990</td>\n",
       "    </tr>\n",
       "    <tr>\n",
       "      <th>4</th>\n",
       "      <td>Psychology</td>\n",
       "      <td>2018-05-16</td>\n",
       "      <td>06:00</td>\n",
       "      <td>5</td>\n",
       "      <td>16</td>\n",
       "      <td>6</td>\n",
       "      <td>0</td>\n",
       "      <td>23.553148</td>\n",
       "      <td>24.308337</td>\n",
       "      <td>122.35</td>\n",
       "      <td>139.27</td>\n",
       "      <td>0.001993</td>\n",
       "    </tr>\n",
       "  </tbody>\n",
       "</table>\n",
       "</div>"
      ],
      "text/plain": [
       "     bldgname        Date   Time  Month  Day  Hour  Minute   Air Temp  \\\n",
       "0  Psychology  2018-05-16  05:00      5   16     5       0  23.438443   \n",
       "1  Psychology  2018-05-16  05:15      5   16     5      15  23.914056   \n",
       "2  Psychology  2018-05-16  05:30      5   16     5      30  23.775401   \n",
       "3  Psychology  2018-05-16  05:45      5   16     5      45  23.674907   \n",
       "4  Psychology  2018-05-16  06:00      5   16     6       0  23.553148   \n",
       "\n",
       "     Rel Hum      KW  CHWTON  CHWTON/SQFT  \n",
       "0  21.523566  108.45  120.18     0.001720  \n",
       "1  24.374523  108.68  129.16     0.001849  \n",
       "2  23.998164  109.12  112.29     0.001607  \n",
       "3  24.049482  117.51  139.02     0.001990  \n",
       "4  24.308337  122.35  139.27     0.001993  "
      ]
     },
     "execution_count": 62,
     "metadata": {},
     "output_type": "execute_result"
    }
   ],
   "source": [
    "# Ask user to select building\n",
    "for i in range(len(Bldg_Lim)):\n",
    "    print(i, Bldg_Lim[i]['bldgname'][0])\n",
    "\n",
    "bldgnum_L = int(input(\"Enter the number of the building from the list above: \"))\n",
    "\n",
    "Bldg_Lim[bldgnum_L].head()"
   ]
  },
  {
   "cell_type": "markdown",
   "id": "lBzm9pDRW2L2",
   "metadata": {
    "id": "lBzm9pDRW2L2"
   },
   "source": [
    "## 4.2 EDA"
   ]
  },
  {
   "cell_type": "markdown",
   "id": "qU-_AGApW59A",
   "metadata": {
    "id": "qU-_AGApW59A"
   },
   "source": [
    "### 4.2.1 Boxplots"
   ]
  },
  {
   "cell_type": "code",
   "execution_count": 35,
   "id": "5yj10zCHXrd2",
   "metadata": {
    "colab": {
     "base_uri": "https://localhost:8080/",
     "height": 866
    },
    "id": "5yj10zCHXrd2",
    "outputId": "06651679-4e58-4903-c3c7-8fb971826ec5"
   },
   "outputs": [
    {
     "name": "stdout",
     "output_type": "stream",
     "text": [
      "0 bldgname\n",
      "1 Date\n",
      "2 Time\n",
      "3 Month\n",
      "4 Day\n",
      "5 Hour\n",
      "6 Minute\n",
      "7 Air Temp\n",
      "8 Rel Hum\n",
      "9 KW\n",
      "10 CHWTON\n",
      "11 CHWTON/SQFT\n",
      "Enter the number of the following data columns to graph boxplot: 9\n",
      "\n",
      " ISTB 4\n"
     ]
    },
    {
     "data": {
      "text/plain": [
       "<AxesSubplot:title={'center':'KW'}, xlabel='Hour'>"
      ]
     },
     "execution_count": 35,
     "metadata": {},
     "output_type": "execute_result"
    },
    {
     "data": {
      "image/png": "[encoded data removed]",
      "text/plain": [
       "<Figure size 576x576 with 1 Axes>"
      ]
     },
     "metadata": {
      "needs_background": "light"
     },
     "output_type": "display_data"
    }
   ],
   "source": [
    "# Show df columns to select for boxplot\n",
    "x = Bldg_Lim[bldgnum_L].columns\n",
    "for i in range(len(x)):\n",
    "    print(i, x[i])\n",
    "# Get column name from user\n",
    "colname = int(input(\"Enter the number of the following data columns to graph boxplot: \"))\n",
    "# Plot\n",
    "print('\\n',Bldg_Lim[bldgnum_L]['bldgname'][0])\n",
    "Bldg_Lim[bldgnum_L].boxplot(by='Hour', column=x[colname], grid = False, figsize = (8,8))"
   ]
  },
  {
   "cell_type": "markdown",
   "id": "5ZnkagfyYECY",
   "metadata": {
    "id": "5ZnkagfyYECY"
   },
   "source": [
    "### 4.2.2 Time Series"
   ]
  },
  {
   "cell_type": "markdown",
   "id": "yBl3v65SYIAu",
   "metadata": {
    "id": "yBl3v65SYIAu"
   },
   "source": [
    "Month available:<br>\n",
    "May: 16, 23 <br>\n",
    "June: 7, 8, 20, 21, 25<br>\n",
    "August: 3<br>\n",
    "September: 11, 29<br>"
   ]
  },
  {
   "cell_type": "code",
   "execution_count": 8,
   "id": "8GiSWYYeYF2F",
   "metadata": {
    "colab": {
     "base_uri": "https://localhost:8080/",
     "height": 1000
    },
    "id": "8GiSWYYeYF2F",
    "outputId": "eb2adc1c-d153-481e-9d8b-e1837b476090"
   },
   "outputs": [
    {
     "name": "stdout",
     "output_type": "stream",
     "text": [
      "Enter month number: 9\n",
      "\n",
      " 2 day(s) found in Sep \n",
      "\n",
      "0 bldgname\n",
      "1 Date\n",
      "2 Time\n",
      "3 Month\n",
      "4 Day\n",
      "5 Hour\n",
      "6 Minute\n",
      "7 Air Temp\n",
      "8 Rel Hum\n",
      "9 KW\n",
      "10 CHWTON\n",
      "11 CHWTON/SQFT\n",
      "Enter y-axis from column list above: 10\n"
     ]
    },
    {
     "data": {
      "image/png": "[encoded data removed]",
      "text/plain": [
       "<Figure size 576x576 with 1 Axes>"
      ]
     },
     "metadata": {
      "needs_background": "light"
     },
     "output_type": "display_data"
    },
    {
     "data": {
      "image/png": "[encoded data removed]",
      "text/plain": [
       "<Figure size 576x576 with 1 Axes>"
      ]
     },
     "metadata": {
      "needs_background": "light"
     },
     "output_type": "display_data"
    }
   ],
   "source": [
    "import datetime\n",
    "# Get month number for plotting\n",
    "m_num = int(input(\"Enter month number: \"))\n",
    "# Convert to datetime to get month name\n",
    "datetime_object = datetime.datetime.strptime(str(m_num), \"%m\")\n",
    "m_name = datetime_object.strftime(\"%b\")\n",
    "\n",
    "# Plot only if entered month is in data\n",
    "if m_num in Bldg_Lim[bldgnum_L]['Month'].unique():\n",
    "    from datetime import datetime\n",
    "    # Assign new df for chosen month\n",
    "    plotdf = pd.DataFrame(Bldg_Lim[bldgnum_L][(Bldg_Lim[bldgnum_L]['Month'] == m_num)])\n",
    "    # Show number of days found in chosen month\n",
    "    x = plotdf['Date'].unique()\n",
    "    print(\"\\n\", len(x), \"day(s) found in\", m_name, \"\\n\")\n",
    "    # Show all columns to select y-axis for plotting\n",
    "    cols = plotdf.columns\n",
    "    for i in range(len(cols)):\n",
    "        print(i, cols[i])\n",
    "    # Get y-axis for plotting\n",
    "    y_ax = int(input('Enter y-axis from column list above: '))\n",
    "    y_ax = cols[y_ax]\n",
    "    for i in range(len(x)):\n",
    "        datetime_object = datetime.strptime(x[i], '%Y-%m-%d')\n",
    "        days = ['Monday', 'Tuesday', 'Wednesday', 'Thursday', 'Friday', 'Saturday', 'Sunday']\n",
    "        d = days[datetime_object.weekday()]\n",
    "        plotdf1 = plotdf[(plotdf['Date']==x[i])]\n",
    "        plotdf1.plot(x = 'Time', y = y_ax, grid = False, figsize = (8,8), title = x[i] + ' ' + d)\n",
    "else:\n",
    "    print(\"Month number not in data\")"
   ]
  },
  {
   "cell_type": "markdown",
   "id": "O_LGJq45YwcF",
   "metadata": {
    "id": "O_LGJq45YwcF"
   },
   "source": [
    "### 4.2.3 Correlation Matrix"
   ]
  },
  {
   "cell_type": "code",
   "execution_count": 14,
   "id": "ElBa562xYxm6",
   "metadata": {
    "colab": {
     "base_uri": "https://localhost:8080/",
     "height": 351
    },
    "id": "ElBa562xYxm6",
    "outputId": "ab7d5dc1-58f0-4ff8-df99-7e27fabb0566"
   },
   "outputs": [
    {
     "data": {
      "text/plain": [
       "<AxesSubplot:>"
      ]
     },
     "execution_count": 14,
     "metadata": {},
     "output_type": "execute_result"
    },
    {
     "data": {
      "image/png": "[encoded data removed]",
      "text/plain": [
       "<Figure size 432x288 with 2 Axes>"
      ]
     },
     "metadata": {
      "needs_background": "light"
     },
     "output_type": "display_data"
    }
   ],
   "source": [
    "corr_pd = pd.DataFrame(Bldg_Lim[bldgnum_L][['Time','Air Temp','Rel Hum','KW','Month','Hour','Day', 'CHWTON/SQFT']])\n",
    "corrMatrix = corr_pd.corr()\n",
    "sns.heatmap(corrMatrix)"
   ]
  },
  {
   "cell_type": "markdown",
   "id": "648884d9",
   "metadata": {
    "id": "648884d9"
   },
   "source": [
    "# 5. Train Models on both datasets "
   ]
  },
  {
   "cell_type": "markdown",
   "id": "LYCunDz4szhq",
   "metadata": {
    "id": "LYCunDz4szhq"
   },
   "source": [
    "## 5.1 Define Generalized Model Functions"
   ]
  },
  {
   "cell_type": "code",
   "execution_count": 69,
   "id": "023b6ba6",
   "metadata": {
    "id": "023b6ba6"
   },
   "outputs": [],
   "source": [
    "#using single layer ANN. Model Parameters: hidden layer- 10 neurons, output layer- 1 neuron\n",
    "from tensorflow.python.keras.models import Sequential\n",
    "from tensorflow.python.keras.layers import Dense\n",
    "from tensorflow.keras import initializers\n",
    "import tensorflow as tf\n",
    "from tensorflow import keras\n",
    "from tensorflow.keras.layers import LeakyReLU\n",
    "from tensorflow.keras.optimizers import SGD\n",
    "from sklearn.model_selection import train_test_split\n",
    "from sklearn.preprocessing import StandardScaler\n",
    "from sklearn import metrics\n",
    "from tensorflow.keras import backend as K\n",
    "def prepare_data(dataset):\n",
    "    Y = dataset['CHWTON/SQFT']\n",
    "    X = dataset[['Air Temp', 'Rel Hum']]\n",
    "    Y= Y.values.reshape(-1, 1)\n",
    "    # create scaler\n",
    "    scaler1 = StandardScaler()\n",
    "    X_scaled = scaler1.fit_transform(X)\n",
    "    # #do for output variables\n",
    "    scaler2 = StandardScaler()\n",
    "    Y_scaled = scaler2.fit_transform(Y)\n",
    "    X_scaled = np.asarray(X_scaled).astype('float32')\n",
    "    Y_scaled = np.asarray(Y_scaled).astype('float32')\n",
    "    return X_scaled,Y_scaled\n",
    "\n",
    "def huber_loss(y_true, y_pred, clip_delta=1.0):\n",
    "    error = y_true - y_pred\n",
    "    cond  = tf.keras.backend.abs(error) < clip_delta\n",
    "    squared_loss = 0.5 * tf.keras.backend.square(error)\n",
    "    linear_loss  = clip_delta * (tf.keras.backend.abs(error) - 0.5 * clip_delta)\n",
    "    return tf.where(cond, squared_loss, linear_loss)\n",
    "\n",
    "'''\n",
    " ' Same as above but returns the mean loss.\n",
    "'''\n",
    "def huber_loss_mean(y_true, y_pred, clip_delta=1.0):\n",
    "    return tf.keras.backend.mean(huber_loss(y_true, y_pred, clip_delta))\n",
    "\n",
    "def define_model(activation_type, hidden_layers, kernel_initializer='he_normal', bias_initializer='he_normal', loss='mse'):\n",
    "    model = Sequential()\n",
    "    if activation_type == 'leaky_relu':\n",
    "        model.add(Dense(10, input_dim=2, kernel_initializer='he_normal'))\n",
    "        model.add(LeakyReLU(alpha=0.1))\n",
    "        for i in range(0,(hidden_layers-2)):\n",
    "            model.add(Dense(8))\n",
    "            model.add(LeakyReLU(alpha=0.1))\n",
    "        model.add(Dense(12))\n",
    "        model.add(LeakyReLU(alpha=0.1))\n",
    "        model.add(Dense(1, activation='linear'))\n",
    "    else:\n",
    "        model.add(Dense(10, input_dim=2, kernel_initializer='he_normal', bias_initializer='he_normal', activation=activation_type))\n",
    "        for i in range(0,(hidden_layers-2)):\n",
    "            model.add(Dense(8, activation=activation_type))\n",
    "        model.add(Dense(12, activation=activation_type))\n",
    "        model.add(Dense(1, activation='linear'))\n",
    "    model.compile(loss= loss, optimizer='adam', metrics = ['mse','mae'])\n",
    "    return model\n",
    "def fine_tune(model,loss='mse'):\n",
    "    model.trainable = True\n",
    "    fine_tune_at = 1\n",
    "    for layer in model.layers[:fine_tune_at]:\n",
    "      layer.trainable =  False\n",
    "    model.compile(loss=loss, optimizer='adam', metrics = ['mse','mae'])\n",
    "    return model\n",
    "def plot_curve(history):\n",
    "    plt.plot(history.history['loss'])\n",
    "    plt.plot(history.history['val_loss'])\n",
    "    plt.title('model loss')\n",
    "    plt.ylabel('loss')\n",
    "    plt.xlabel('epoch')\n",
    "    plt.legend(['train', 'validation'], loc='upper left')\n",
    "    plt.show()\n",
    "def evaluate(model,X,Y):\n",
    "    #evaluate on test dataset, add evaluation parameters\n",
    "    Y_preds = model.predict(X)\n",
    "    RMSE = np.sqrt(metrics.mean_squared_error(Y, Y_preds))\n",
    "    R2_score = metrics.r2_score(Y, Y_preds)\n",
    "#     test_loss = model.evaluate(X, Y)\n",
    "    return RMSE, R2_score"
   ]
  },
  {
   "cell_type": "markdown",
   "id": "4f211eeb",
   "metadata": {
    "id": "4f211eeb"
   },
   "source": [
    "## 5.2 Prepare Data for feeding into training loop"
   ]
  },
  {
   "cell_type": "code",
   "execution_count": 70,
   "id": "IWQN1vHce_Kq",
   "metadata": {
    "colab": {
     "base_uri": "https://localhost:8080/"
    },
    "id": "IWQN1vHce_Kq",
    "outputId": "c4b04c43-510c-4fa2-f96c-86a667df0971"
   },
   "outputs": [],
   "source": [
    "# Limited Data\n",
    "X_limited,Y_limited = prepare_data(Bldg_Lim[bldgnum_L])\n",
    "X_limited_train, X_limited_test, Y_limited_train,Y_limited_test = train_test_split(X_limited,Y_limited , test_size=0.2, random_state=20)\n",
    "X,Y = prepare_data(Bldg_Big[bldgnum_B])\n",
    "X_train, X_test, Y_train,Y_test = train_test_split(X, Y, test_size=0.2, random_state=20)"
   ]
  },
  {
   "cell_type": "code",
   "execution_count": null,
   "id": "eT4jtNIjxilZ",
   "metadata": {
    "colab": {
     "base_uri": "https://localhost:8080/",
     "height": 419
    },
    "id": "eT4jtNIjxilZ",
    "outputId": "f02934ee-5ba8-4033-a58b-5b7d1ac93943"
   },
   "outputs": [],
   "source": [
    "# X_limited_test"
   ]
  },
  {
   "cell_type": "markdown",
   "id": "117a18fd",
   "metadata": {
    "id": "117a18fd"
   },
   "source": [
    "## 5.3 Hyperparameter Tuning experiments"
   ]
  },
  {
   "cell_type": "code",
   "execution_count": null,
   "id": "394685f8",
   "metadata": {
    "id": "394685f8"
   },
   "outputs": [],
   "source": [
    "activation_functions = ['relu','elu','selu','leaky_relu','tanh']\n",
    "no_hidden_layers = [1,3,5,7,9,11]\n",
    "row_headings = ['1','3','5','7','9','11']\n",
    "eval_func = []\n",
    "for func in activation_functions:\n",
    "    eval_func_layers = []\n",
    "    for hl in no_hidden_layers:\n",
    "        model = define_model(func,hl)\n",
    "        history = model.fit(X_train, Y_train, batch_size=128, epochs=100,  validation_split=0.2, verbose=0)\n",
    "        RMSE, _ = evaluate(model, X_test, Y_test)\n",
    "        eval_func_layers.append(RMSE)\n",
    "    eval_func.append(eval_func_layers)\n",
    "print(eval_func)   \n",
    "tab = pd.DataFrame(eval_func, activation_functions, row_headings)\n",
    "print(tab)\n",
    "        \n"
   ]
  },
  {
   "cell_type": "markdown",
   "id": "f0ba3fec",
   "metadata": {
    "id": "f0ba3fec"
   },
   "source": [
    "## 5.4 Train Model with Optimized hyperparameters"
   ]
  },
  {
   "cell_type": "code",
   "execution_count": 71,
   "id": "e15c0f49",
   "metadata": {
    "id": "e15c0f49"
   },
   "outputs": [],
   "source": [
    "base_model = define_model('relu',3,huber_loss)\n",
    "history = base_model.fit(X_train, Y_train, batch_size=128, epochs=100, verbose=0, validation_split=0.2)"
   ]
  },
  {
   "cell_type": "markdown",
   "id": "07d9d4ee",
   "metadata": {
    "id": "07d9d4ee"
   },
   "source": [
    "## 5.5 Evaluate Base Model with Big Dataset and Limited Dataset"
   ]
  },
  {
   "cell_type": "code",
   "execution_count": 72,
   "id": "eff03f75",
   "metadata": {
    "colab": {
     "base_uri": "https://localhost:8080/",
     "height": 510
    },
    "id": "eff03f75",
    "outputId": "f540dfb5-c8d8-415b-bb4c-af440b86cfa2"
   },
   "outputs": [
    {
     "data": {
      "image/png": "[encoded data removed]",
      "text/plain": [
       "<Figure size 432x288 with 1 Axes>"
      ]
     },
     "metadata": {
      "needs_background": "light"
     },
     "output_type": "display_data"
    },
    {
     "name": "stdout",
     "output_type": "stream",
     "text": [
      "0.9085633600734783\n",
      "0.7673367728499041\n"
     ]
    }
   ],
   "source": [
    "plot_curve(history)\n",
    "RMSE, R2 = evaluate(base_model, X_test, Y_test)\n",
    "RMSE_base_model, R2_base_model = evaluate(base_model, X_limited_test,Y_limited_test)\n",
    "print(R2)\n",
    "print(R2_base_model)"
   ]
  },
  {
   "cell_type": "markdown",
   "id": "9594740b",
   "metadata": {
    "id": "9594740b"
   },
   "source": [
    "## 5.6 Transfer features and Fine Tune Base Model on Limited Dataset"
   ]
  },
  {
   "cell_type": "code",
   "execution_count": 73,
   "id": "cf537f55",
   "metadata": {
    "id": "cf537f55",
    "outputId": "e497853e-2ca0-4bc6-aec7-69bbcafe9ecd"
   },
   "outputs": [],
   "source": [
    "\n",
    "fine_tuned_model = fine_tune(base_model)\n",
    "# X_limited,Y_limited = prepare_data(envimet)\n",
    "history = fine_tuned_model.fit(X_limited_train,Y_limited_train, epochs=50, verbose=0)"
   ]
  },
  {
   "cell_type": "markdown",
   "id": "dc6e6636",
   "metadata": {
    "id": "dc6e6636"
   },
   "source": [
    "## 5.7 Evaluate Fine-tuned Model on Limited Dataset"
   ]
  },
  {
   "cell_type": "code",
   "execution_count": 74,
   "id": "e11abc6f",
   "metadata": {
    "id": "e11abc6f",
    "outputId": "5a62891e-168b-468e-940e-ab1eb9fe8c36"
   },
   "outputs": [
    {
     "name": "stdout",
     "output_type": "stream",
     "text": [
      "0.9082637324214261\n"
     ]
    }
   ],
   "source": [
    "RMSE_fine_tune ,R2_fine_tune= evaluate(fine_tuned_model,X_limited_test,Y_limited_test)\n",
    "print(R2_fine_tune)"
   ]
  },
  {
   "cell_type": "markdown",
   "id": "1c13800e",
   "metadata": {},
   "source": [
    "## 5.8 Implement for all Buildings and report score"
   ]
  },
  {
   "cell_type": "code",
   "execution_count": 52,
   "id": "5896140a",
   "metadata": {},
   "outputs": [
    {
     "name": "stdout",
     "output_type": "stream",
     "text": [
      "Train model for Goldwater\n",
      "Train model for Goldwater Big Data\n",
      "217/217 [==============================] - 0s 531us/step - loss: 0.0582 - mse: 0.0582 - mae: 0.1762\n",
      "4/4 [==============================] - 0s 877us/step - loss: 0.0685 - mse: 0.0685 - mae: 0.2140\n",
      "Train model for Goldwater Limited Data\n",
      "4/4 [==============================] - 0s 688us/step - loss: 0.0329 - mse: 0.0329 - mae: 0.1364\n",
      "Train model for Bulldog Hall\n",
      "Train model for Bulldog Hall Big Data\n",
      "217/217 [==============================] - 0s 420us/step - loss: 0.1796 - mse: 0.1796 - mae: 0.2970\n",
      "4/4 [==============================] - 0s 740us/step - loss: 0.4918 - mse: 0.4918 - mae: 0.5594\n",
      "Train model for Bulldog Hall Limited Data\n",
      "4/4 [==============================] - 0s 624us/step - loss: 0.3450 - mse: 0.3450 - mae: 0.4654\n",
      "Train model for ISTB 2\n",
      "Train model for ISTB 2 Big Data\n",
      "217/217 [==============================] - 0s 427us/step - loss: 0.0586 - mse: 0.0586 - mae: 0.1512\n",
      "4/4 [==============================] - 0s 740us/step - loss: 0.0885 - mse: 0.0885 - mae: 0.2180\n",
      "Train model for ISTB 2 Limited Data\n",
      "4/4 [==============================] - 0s 696us/step - loss: 0.0360 - mse: 0.0360 - mae: 0.1472\n",
      "Train model for Psychology North\n",
      "Train model for Psychology North Big Data\n",
      "217/217 [==============================] - 0s 383us/step - loss: 0.1620 - mse: 0.1620 - mae: 0.2924\n",
      "4/4 [==============================] - 0s 763us/step - loss: 0.2147 - mse: 0.2147 - mae: 0.3154\n",
      "Train model for Psychology North Limited Data\n",
      "4/4 [==============================] - 0s 540us/step - loss: 0.1162 - mse: 0.1162 - mae: 0.2399\n",
      "Train model for Schwada COB\n",
      "Train model for Schwada COB Big Data\n",
      "217/217 [==============================] - 0s 396us/step - loss: 0.1328 - mse: 0.1328 - mae: 0.2699\n",
      "4/4 [==============================] - 0s 809us/step - loss: 0.1296 - mse: 0.1296 - mae: 0.2783\n",
      "Train model for Schwada COB Limited Data\n",
      "4/4 [==============================] - 0s 630us/step - loss: 0.0643 - mse: 0.0643 - mae: 0.1998\n",
      "Train model for Biodesign C\n",
      "Train model for Biodesign C Big Data\n",
      "121/121 [==============================] - 0s 429us/step - loss: 0.2575 - mse: 0.2575 - mae: 0.2888\n",
      "3/3 [==============================] - 0s 744us/step - loss: 0.5480 - mse: 0.5480 - mae: 0.6390\n",
      "Train model for Biodesign C Limited Data\n",
      "3/3 [==============================] - 0s 639us/step - loss: 0.1353 - mse: 0.1353 - mae: 0.2844\n",
      "Train model for Biodesign A\n",
      "Train model for Biodesign A Big Data\n",
      "217/217 [==============================] - 0s 390us/step - loss: 0.0640 - mse: 0.0640 - mae: 0.1566\n",
      "4/4 [==============================] - 0s 849us/step - loss: 0.2146 - mse: 0.2146 - mae: 0.3552\n",
      "Train model for Biodesign A Limited Data\n",
      "4/4 [==============================] - 0s 543us/step - loss: 0.0882 - mse: 0.0882 - mae: 0.2443\n",
      "Train model for Psychology\n",
      "Train model for Psychology Big Data\n",
      "217/217 [==============================] - 0s 381us/step - loss: 0.0920 - mse: 0.0920 - mae: 0.2161\n",
      "4/4 [==============================] - 0s 726us/step - loss: 0.2053 - mse: 0.2053 - mae: 0.2990\n",
      "Train model for Psychology Limited Data\n",
      "4/4 [==============================] - 0s 597us/step - loss: 0.0920 - mse: 0.0920 - mae: 0.2135\n",
      "Train model for Biodesign B\n",
      "Train model for Biodesign B Big Data\n",
      "217/217 [==============================] - 0s 400us/step - loss: 0.0380 - mse: 0.0380 - mae: 0.1023\n",
      "4/4 [==============================] - 0s 782us/step - loss: 0.1680 - mse: 0.1680 - mae: 0.3229\n",
      "Train model for Biodesign B Limited Data\n",
      "4/4 [==============================] - 0s 659us/step - loss: 0.0600 - mse: 0.0600 - mae: 0.1979\n",
      "Train model for Noble Library\n",
      "Train model for Noble Library Big Data\n",
      "217/217 [==============================] - 0s 403us/step - loss: 0.2149 - mse: 0.2149 - mae: 0.3449\n",
      "4/4 [==============================] - 0s 800us/step - loss: 0.4748 - mse: 0.4748 - mae: 0.5183\n",
      "Train model for Noble Library Limited Data\n",
      "4/4 [==============================] - 0s 551us/step - loss: 0.2107 - mse: 0.2107 - mae: 0.2605\n",
      "Train model for ISTB 4\n",
      "Train model for ISTB 4 Big Data\n",
      "217/217 [==============================] - 0s 410us/step - loss: 0.0244 - mse: 0.0244 - mae: 0.1059\n",
      "4/4 [==============================] - 0s 727us/step - loss: 0.1308 - mse: 0.1308 - mae: 0.2440\n",
      "Train model for ISTB 4 Limited Data\n",
      "4/4 [==============================] - 0s 608us/step - loss: 0.0627 - mse: 0.0627 - mae: 0.1500\n"
     ]
    },
    {
     "data": {
      "text/html": [
       "<div>\n",
       "<style scoped>\n",
       "    .dataframe tbody tr th:only-of-type {\n",
       "        vertical-align: middle;\n",
       "    }\n",
       "\n",
       "    .dataframe tbody tr th {\n",
       "        vertical-align: top;\n",
       "    }\n",
       "\n",
       "    .dataframe thead th {\n",
       "        text-align: right;\n",
       "    }\n",
       "</style>\n",
       "<table border=\"1\" class=\"dataframe\">\n",
       "  <thead>\n",
       "    <tr style=\"text-align: right;\">\n",
       "      <th></th>\n",
       "      <th>bldgname</th>\n",
       "      <th>R2_score_base_model</th>\n",
       "      <th>RMSE_score_base_model</th>\n",
       "      <th>R2_score_finetuned_model</th>\n",
       "      <th>RMSE_score_finetuned_model</th>\n",
       "    </tr>\n",
       "  </thead>\n",
       "  <tbody>\n",
       "    <tr>\n",
       "      <th>0</th>\n",
       "      <td>Goldwater</td>\n",
       "      <td>0.929674</td>\n",
       "      <td>0.261752</td>\n",
       "      <td>0.966241</td>\n",
       "      <td>0.181354</td>\n",
       "    </tr>\n",
       "    <tr>\n",
       "      <th>1</th>\n",
       "      <td>Bulldog Hall</td>\n",
       "      <td>0.478708</td>\n",
       "      <td>0.701296</td>\n",
       "      <td>0.634292</td>\n",
       "      <td>0.587392</td>\n",
       "    </tr>\n",
       "    <tr>\n",
       "      <th>2</th>\n",
       "      <td>ISTB 2</td>\n",
       "      <td>0.902833</td>\n",
       "      <td>0.297516</td>\n",
       "      <td>0.960467</td>\n",
       "      <td>0.189772</td>\n",
       "    </tr>\n",
       "    <tr>\n",
       "      <th>3</th>\n",
       "      <td>Psychology North</td>\n",
       "      <td>0.775595</td>\n",
       "      <td>0.463319</td>\n",
       "      <td>0.878579</td>\n",
       "      <td>0.340809</td>\n",
       "    </tr>\n",
       "    <tr>\n",
       "      <th>4</th>\n",
       "      <td>Schwada COB</td>\n",
       "      <td>0.850654</td>\n",
       "      <td>0.359971</td>\n",
       "      <td>0.925889</td>\n",
       "      <td>0.253579</td>\n",
       "    </tr>\n",
       "    <tr>\n",
       "      <th>5</th>\n",
       "      <td>Biodesign C</td>\n",
       "      <td>0.53356</td>\n",
       "      <td>0.740255</td>\n",
       "      <td>0.884803</td>\n",
       "      <td>0.367878</td>\n",
       "    </tr>\n",
       "    <tr>\n",
       "      <th>6</th>\n",
       "      <td>Biodesign A</td>\n",
       "      <td>0.745724</td>\n",
       "      <td>0.463249</td>\n",
       "      <td>0.895475</td>\n",
       "      <td>0.29701</td>\n",
       "    </tr>\n",
       "    <tr>\n",
       "      <th>7</th>\n",
       "      <td>Psychology</td>\n",
       "      <td>0.791995</td>\n",
       "      <td>0.453104</td>\n",
       "      <td>0.906788</td>\n",
       "      <td>0.303317</td>\n",
       "    </tr>\n",
       "    <tr>\n",
       "      <th>8</th>\n",
       "      <td>Biodesign B</td>\n",
       "      <td>0.818186</td>\n",
       "      <td>0.409846</td>\n",
       "      <td>0.935079</td>\n",
       "      <td>0.244906</td>\n",
       "    </tr>\n",
       "    <tr>\n",
       "      <th>9</th>\n",
       "      <td>Noble Library</td>\n",
       "      <td>0.499333</td>\n",
       "      <td>0.689066</td>\n",
       "      <td>0.777789</td>\n",
       "      <td>0.459059</td>\n",
       "    </tr>\n",
       "    <tr>\n",
       "      <th>10</th>\n",
       "      <td>ISTB 4</td>\n",
       "      <td>0.86471</td>\n",
       "      <td>0.36166</td>\n",
       "      <td>0.935161</td>\n",
       "      <td>0.250373</td>\n",
       "    </tr>\n",
       "  </tbody>\n",
       "</table>\n",
       "</div>"
      ],
      "text/plain": [
       "            bldgname R2_score_base_model RMSE_score_base_model  \\\n",
       "0          Goldwater            0.929674              0.261752   \n",
       "1       Bulldog Hall            0.478708              0.701296   \n",
       "2             ISTB 2            0.902833              0.297516   \n",
       "3   Psychology North            0.775595              0.463319   \n",
       "4        Schwada COB            0.850654              0.359971   \n",
       "5        Biodesign C             0.53356              0.740255   \n",
       "6        Biodesign A            0.745724              0.463249   \n",
       "7         Psychology            0.791995              0.453104   \n",
       "8        Biodesign B            0.818186              0.409846   \n",
       "9      Noble Library            0.499333              0.689066   \n",
       "10            ISTB 4             0.86471               0.36166   \n",
       "\n",
       "   R2_score_finetuned_model RMSE_score_finetuned_model  \n",
       "0                  0.966241                   0.181354  \n",
       "1                  0.634292                   0.587392  \n",
       "2                  0.960467                   0.189772  \n",
       "3                  0.878579                   0.340809  \n",
       "4                  0.925889                   0.253579  \n",
       "5                  0.884803                   0.367878  \n",
       "6                  0.895475                    0.29701  \n",
       "7                  0.906788                   0.303317  \n",
       "8                  0.935079                   0.244906  \n",
       "9                  0.777789                   0.459059  \n",
       "10                 0.935161                   0.250373  "
      ]
     },
     "metadata": {},
     "output_type": "display_data"
    }
   ],
   "source": [
    "from IPython.display import display\n",
    "def model_multiple():\n",
    "    ### Create dataframe and add building names ###\n",
    "    rf_bld_scores = pd.DataFrame(columns = {\"bldgname\", \"R2_score_base_model\",\"RMSE_score_base_model\", \"R2_score_finetuned_model\",\"RMSE_score_finetuned_model\"})\n",
    "    for i in range(len(Bldg_Lim)):\n",
    "        rf_bld_scores = rf_bld_scores.append({'bldgname': Bldg_Lim[i]['bldgname'].unique()[0]}, ignore_index=True)\n",
    "    rf_bld_scores.fillna(5)\n",
    "    ### Append scores to all buildings ###\n",
    "    for i in range(len(Bldg_Lim)):\n",
    "        # drop na values if in dataframe\n",
    "        if (Bldg_Lim[i].isnull().values.any() == True):\n",
    "            Bldg_Lim[i] = Bldg_Lim[i].dropna()\n",
    "        building_name = Bldg_Lim[i]['bldgname'][0] \n",
    "        print(\"Train model for \"+ building_name )\n",
    "        # Limited Data\n",
    "        X_limited,Y_limited = prepare_data(Bldg_Lim[i])\n",
    "        X_limited_train, X_limited_test, Y_limited_train,Y_limited_test = train_test_split(X_limited,Y_limited , test_size=0.2, random_state=20)\n",
    "        #Big Data\n",
    "        X,Y = prepare_data(Bldg_Big[i])\n",
    "        X_train, X_test, Y_train,Y_test = train_test_split(X, Y, test_size=0.2, random_state=20)\n",
    "        base_model = define_model('relu',3)\n",
    "        print(\"Train model for \"+ building_name +\" Big Data\" )\n",
    "        history_base = base_model.fit(X_train, Y_train, batch_size=128, epochs=100, verbose=0, validation_split=0.2)\n",
    "        RMSE, R2 = evaluate(base_model, X_test, Y_test)\n",
    "        RMSE_base_model, R2_base_model = evaluate(base_model, X_limited_test,Y_limited_test)\n",
    "        rf_bld_scores[\"R2_score_base_model\"][i] = R2_base_model\n",
    "        rf_bld_scores[\"RMSE_score_base_model\"][i] = RMSE_base_model   \n",
    "        fine_tuned_model = fine_tune(base_model)\n",
    "        print(\"Train model for \"+ building_name +\" Limited Data\" )\n",
    "        history_fine_tune = fine_tuned_model.fit(X_limited_train,Y_limited_train, epochs=50, verbose=0)\n",
    "        RMSE_fine_tune ,R2_fine_tune= evaluate(fine_tuned_model,X_limited_test,Y_limited_test)\n",
    "        rf_bld_scores[\"R2_score_finetuned_model\"][i] = R2_fine_tune\n",
    "        rf_bld_scores[\"RMSE_score_finetuned_model\"][i] = RMSE_fine_tune\n",
    "        rf_bld_scores= rf_bld_scores[[\"bldgname\", \"R2_score_base_model\",\"RMSE_score_base_model\", \"R2_score_finetuned_model\",\"RMSE_score_finetuned_model\"]]\n",
    "    return rf_bld_scores\n",
    "multiple_bldg_scores = model_multiple()\n",
    "display(multiple_bldg_scores)"
   ]
  },
  {
   "cell_type": "markdown",
   "id": "4f2ac823",
   "metadata": {},
   "source": [
    "<!-- Which buildings are we training for? To be decided depending on results  -->\n",
    "<!-- Train for all buildings automatically and report the scores for base_model and fine_tuned_model. -->\n",
    "<!-- What scores is RF reporting? RF reports the R2 score. Add R2 score to evaluators. Create a list for evaluating and then visualise it. Not a great score, needs improvements.  -->\n",
    "<!-- How to visualise the results? Made comparison matrix for now -->\n",
    "How to improve the results? Experiment with loss function\n",
    "Automate model selection\n",
    "lr scheduler\n",
    "Change Y to y everywhere(Regression problem)\n",
    "Add functionality to pass building names which we want to model\n",
    "<!-- Dataset is ready, now fine-tune using this dataset and also compare results. Change Y to y everywhere once. "
   ]
  }
 ],
 "metadata": {
  "colab": {
   "name": "Micro-Energy-NN-v1.ipynb",
   "provenance": []
  },
  "kernelspec": {
   "display_name": "Python 3 (ipykernel)",
   "language": "python",
   "name": "python3"
  },
  "language_info": {
   "codemirror_mode": {
    "name": "ipython",
    "version": 3
   },
   "file_extension": ".py",
   "mimetype": "text/x-python",
   "name": "python",
   "nbconvert_exporter": "python",
   "pygments_lexer": "ipython3",
   "version": "3.7.5"
  },
  "toc-autonumbering": false,
  "toc-showcode": false,
  "toc-showmarkdowntxt": false,
  "toc-showtags": false
 },
 "nbformat": 4,
 "nbformat_minor": 5
}
